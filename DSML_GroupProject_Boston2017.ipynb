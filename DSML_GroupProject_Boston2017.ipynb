{
 "cells": [
  {
   "cell_type": "markdown",
   "metadata": {},
   "source": [
    "# `Group Project` - Boston 2017 Bike Sharing Analysis (21.07.2021)"
   ]
  },
  {
   "cell_type": "markdown",
   "metadata": {},
   "source": [
    "$\\;\\;\\;\\;\\;\\;$\n",
    "## Introduction\n",
    "In this project we will work with real world data from \"Blue Bikes\" which is a bike sharing firm based in Boston.\n",
    "\n",
    "Our focus lies on data of the year 2017 and we will make a comprehensive analysis, in which we use typical data analysis and machine learning approaches to make use of the data to monitor and optimize the operations of \"Blue Bikes\". The overall topic is smart mobility systems and how we can use data in impactful ways to address pressing societal issues. In terms of bike sharing the addressed societal issue are the reduce of greenhouse gas emissions, reduce of pollution as health risk for urban population, reduce of (fatal) road accidents and to create a more efficient road transport infrastructur. We will cover the following task:\n",
    "\n",
    "- **Task 1) Data Collection & Preparation**: \n",
    "    * Cleaning of datasets for use in later analysis stages\n",
    "- **Task 2) Descriptive Analysis**: \n",
    "    * Demonstrate temporal demand patterns and seasonality\n",
    "    * Demonstrate geographical demand patterns \n",
    "    * Define Key Performance Indicators which provides overview of current fleet operations\n",
    "- **Task 3) Predictive Analysis**:\n",
    "    * Forecast total system-level demand in the next hour\n",
    "\n",
    "**The authors of this analysis are:**\n",
    "* Lukas Tempfli    (7367097)\n",
    "* Moritz Danhausen (7369413)\n",
    "* Niklas Nesseler  (7367375)\n",
    "* Robin Kirch      (7364580)\n",
    "* Sven Dornbrach   (7364484)\n",
    "\n",
    "\n",
    "Hints: \n",
    "1. Normal markdown (text) marks cells where we describe what we did and why we did certain things, while italic markdown (text) cells describes what knowledge we took away.\n",
    "1. Please run the seperated cells from the top to the bottom"
   ]
  },
  {
   "cell_type": "markdown",
   "metadata": {},
   "source": [
    "$\\;\\;\\;\\;\\;\\;$\n",
    "# `Required Imports:`"
   ]
  },
  {
   "cell_type": "code",
   "execution_count": 1,
   "metadata": {},
   "outputs": [],
   "source": [
    "import numpy as np\n",
    "import pandas as pd\n",
    "from datetime import date, time, datetime, timedelta \n",
    "import matplotlib.pyplot as plt\n",
    "from datetime import datetime \n",
    "from datetime import timedelta \n",
    "import math\n",
    "import random\n",
    "import pandas as pd\n",
    "import numpy as np\n",
    "import matplotlib.pyplot as plt\n",
    "from pandas.plotting import register_matplotlib_converters\n",
    "register_matplotlib_converters()\n",
    "import seaborn as sns\n",
    "from sklearn.model_selection import train_test_split\n",
    "from sklearn.metrics import mean_squared_error, mean_absolute_error, r2_score\n",
    "sns.set()\n",
    "sns.set_style(\"white\")\n",
    "sns.set_palette(\"GnBu_d\")\n",
    "from folium import plugins\n",
    "from folium.plugins import HeatMap as hm\n",
    "import folium\n",
    "from folium.features import DivIcon"
   ]
  },
  {
   "cell_type": "markdown",
   "metadata": {},
   "source": [
    "$\\;\\;\\;\\;\\;\\;$\n",
    "# `Task 1) Data Collection & Preparation:`"
   ]
  },
  {
   "cell_type": "markdown",
   "metadata": {},
   "source": [
    "#### Task Description\n",
    "We are using three datasets, which we are going to clean and adapt for later stages of this report. \n",
    "\n",
    "The dataset are:\n",
    "- `Bike Sharing Rentals`: Contains data about all trips with blue bikes in 2017\n",
    "- `Weather`: Contains hourly data about the weather in Boston from 2015 till 2020\n",
    "- `Bike stations`: Contains data about all docking stations from \"Blue Bike\" [2021]\n",
    "\n",
    "We are going to briefly describe how we proceeded and how we dealt with possible missing and erroneous data."
   ]
  },
  {
   "cell_type": "markdown",
   "metadata": {},
   "source": [
    "## Blue Bike Data - Collection & Preparation"
   ]
  },
  {
   "cell_type": "markdown",
   "metadata": {},
   "source": [
    "We are reading the \"boston_2017.csv\" file into the juypter notebook, so that in the following we can work with the mentioned data set."
   ]
  },
  {
   "cell_type": "code",
   "execution_count": 2,
   "metadata": {},
   "outputs": [],
   "source": [
    "raw_data_boston = pd.read_csv(\"boston_2017.csv\")\n",
    "#Please download the \"boston_2017.csv\" file and place it in the same folder in which this juypter notebook is saved."
   ]
  },
  {
   "cell_type": "markdown",
   "metadata": {},
   "source": [
    "In the following cells we are calling the data set and use methods to get a first glimpse how the data set is structured and which values it contains.\n",
    "\n",
    "*Here we see first instances of the \"raw_data_boston\" data frame and get a first basic overview how the data is structured*."
   ]
  },
  {
   "cell_type": "code",
   "execution_count": 3,
   "metadata": {},
   "outputs": [
    {
     "data": {
      "text/html": [
       "<div>\n",
       "<style scoped>\n",
       "    .dataframe tbody tr th:only-of-type {\n",
       "        vertical-align: middle;\n",
       "    }\n",
       "\n",
       "    .dataframe tbody tr th {\n",
       "        vertical-align: top;\n",
       "    }\n",
       "\n",
       "    .dataframe thead th {\n",
       "        text-align: right;\n",
       "    }\n",
       "</style>\n",
       "<table border=\"1\" class=\"dataframe\">\n",
       "  <thead>\n",
       "    <tr style=\"text-align: right;\">\n",
       "      <th></th>\n",
       "      <th>start_time</th>\n",
       "      <th>end_time</th>\n",
       "      <th>start_station_id</th>\n",
       "      <th>end_station_id</th>\n",
       "      <th>start_station_name</th>\n",
       "      <th>end_station_name</th>\n",
       "      <th>bike_id</th>\n",
       "      <th>user_type</th>\n",
       "    </tr>\n",
       "  </thead>\n",
       "  <tbody>\n",
       "    <tr>\n",
       "      <th>0</th>\n",
       "      <td>2017-01-01 00:06:58</td>\n",
       "      <td>2017-01-01 00:12:49</td>\n",
       "      <td>67</td>\n",
       "      <td>139</td>\n",
       "      <td>MIT at Mass Ave / Amherst St</td>\n",
       "      <td>Dana Park</td>\n",
       "      <td>644</td>\n",
       "      <td>Subscriber</td>\n",
       "    </tr>\n",
       "    <tr>\n",
       "      <th>1</th>\n",
       "      <td>2017-01-01 00:13:16</td>\n",
       "      <td>2017-01-01 00:28:07</td>\n",
       "      <td>36</td>\n",
       "      <td>10</td>\n",
       "      <td>Boston Public Library - 700 Boylston St.</td>\n",
       "      <td>B.U. Central - 725 Comm. Ave.</td>\n",
       "      <td>230</td>\n",
       "      <td>Subscriber</td>\n",
       "    </tr>\n",
       "    <tr>\n",
       "      <th>2</th>\n",
       "      <td>2017-01-01 00:16:17</td>\n",
       "      <td>2017-01-01 00:44:10</td>\n",
       "      <td>36</td>\n",
       "      <td>9</td>\n",
       "      <td>Boston Public Library - 700 Boylston St.</td>\n",
       "      <td>Agganis Arena - 925 Comm Ave.</td>\n",
       "      <td>980</td>\n",
       "      <td>Customer</td>\n",
       "    </tr>\n",
       "    <tr>\n",
       "      <th>3</th>\n",
       "      <td>2017-01-01 00:21:22</td>\n",
       "      <td>2017-01-01 00:33:50</td>\n",
       "      <td>46</td>\n",
       "      <td>19</td>\n",
       "      <td>Christian Science Plaza</td>\n",
       "      <td>Buswell St. at Park Dr.</td>\n",
       "      <td>1834</td>\n",
       "      <td>Subscriber</td>\n",
       "    </tr>\n",
       "    <tr>\n",
       "      <th>4</th>\n",
       "      <td>2017-01-01 00:30:06</td>\n",
       "      <td>2017-01-01 00:40:28</td>\n",
       "      <td>10</td>\n",
       "      <td>8</td>\n",
       "      <td>B.U. Central - 725 Comm. Ave.</td>\n",
       "      <td>Union Square - Brighton Ave. at Cambridge St.</td>\n",
       "      <td>230</td>\n",
       "      <td>Subscriber</td>\n",
       "    </tr>\n",
       "    <tr>\n",
       "      <th>...</th>\n",
       "      <td>...</td>\n",
       "      <td>...</td>\n",
       "      <td>...</td>\n",
       "      <td>...</td>\n",
       "      <td>...</td>\n",
       "      <td>...</td>\n",
       "      <td>...</td>\n",
       "      <td>...</td>\n",
       "    </tr>\n",
       "    <tr>\n",
       "      <th>1313769</th>\n",
       "      <td>2017-12-31 23:46:18</td>\n",
       "      <td>2017-12-31 23:50:27</td>\n",
       "      <td>117</td>\n",
       "      <td>141</td>\n",
       "      <td>Binney St / Sixth St</td>\n",
       "      <td>Kendall Street</td>\n",
       "      <td>1846</td>\n",
       "      <td>Subscriber</td>\n",
       "    </tr>\n",
       "    <tr>\n",
       "      <th>1313770</th>\n",
       "      <td>2017-12-29 16:11:56</td>\n",
       "      <td>2017-12-29 16:16:18</td>\n",
       "      <td>54</td>\n",
       "      <td>42</td>\n",
       "      <td>Tremont St at West St</td>\n",
       "      <td>Boylston St at Arlington St TEMPORARY WINTER L...</td>\n",
       "      <td>2</td>\n",
       "      <td>Subscriber</td>\n",
       "    </tr>\n",
       "    <tr>\n",
       "      <th>1313771</th>\n",
       "      <td>2017-12-30 08:09:44</td>\n",
       "      <td>2017-12-30 08:26:08</td>\n",
       "      <td>54</td>\n",
       "      <td>58</td>\n",
       "      <td>Tremont St at West St</td>\n",
       "      <td>Beacon St at Arlington St</td>\n",
       "      <td>1534</td>\n",
       "      <td>Subscriber</td>\n",
       "    </tr>\n",
       "    <tr>\n",
       "      <th>1313772</th>\n",
       "      <td>2017-12-30 12:20:01</td>\n",
       "      <td>2017-12-30 12:49:12</td>\n",
       "      <td>54</td>\n",
       "      <td>46</td>\n",
       "      <td>Tremont St at West St</td>\n",
       "      <td>Christian Science Plaza - Massachusetts Ave at...</td>\n",
       "      <td>1978</td>\n",
       "      <td>Subscriber</td>\n",
       "    </tr>\n",
       "    <tr>\n",
       "      <th>1313773</th>\n",
       "      <td>2017-12-30 18:27:39</td>\n",
       "      <td>2017-12-30 18:53:54</td>\n",
       "      <td>54</td>\n",
       "      <td>21</td>\n",
       "      <td>Tremont St at West St</td>\n",
       "      <td>Prudential Center - Belvedere St</td>\n",
       "      <td>15</td>\n",
       "      <td>Subscriber</td>\n",
       "    </tr>\n",
       "  </tbody>\n",
       "</table>\n",
       "<p>1313774 rows × 8 columns</p>\n",
       "</div>"
      ],
      "text/plain": [
       "                  start_time             end_time  start_station_id  \\\n",
       "0        2017-01-01 00:06:58  2017-01-01 00:12:49                67   \n",
       "1        2017-01-01 00:13:16  2017-01-01 00:28:07                36   \n",
       "2        2017-01-01 00:16:17  2017-01-01 00:44:10                36   \n",
       "3        2017-01-01 00:21:22  2017-01-01 00:33:50                46   \n",
       "4        2017-01-01 00:30:06  2017-01-01 00:40:28                10   \n",
       "...                      ...                  ...               ...   \n",
       "1313769  2017-12-31 23:46:18  2017-12-31 23:50:27               117   \n",
       "1313770  2017-12-29 16:11:56  2017-12-29 16:16:18                54   \n",
       "1313771  2017-12-30 08:09:44  2017-12-30 08:26:08                54   \n",
       "1313772  2017-12-30 12:20:01  2017-12-30 12:49:12                54   \n",
       "1313773  2017-12-30 18:27:39  2017-12-30 18:53:54                54   \n",
       "\n",
       "         end_station_id                        start_station_name  \\\n",
       "0                   139              MIT at Mass Ave / Amherst St   \n",
       "1                    10  Boston Public Library - 700 Boylston St.   \n",
       "2                     9  Boston Public Library - 700 Boylston St.   \n",
       "3                    19                   Christian Science Plaza   \n",
       "4                     8             B.U. Central - 725 Comm. Ave.   \n",
       "...                 ...                                       ...   \n",
       "1313769             141                      Binney St / Sixth St   \n",
       "1313770              42                     Tremont St at West St   \n",
       "1313771              58                     Tremont St at West St   \n",
       "1313772              46                     Tremont St at West St   \n",
       "1313773              21                     Tremont St at West St   \n",
       "\n",
       "                                          end_station_name  bike_id  \\\n",
       "0                                                Dana Park      644   \n",
       "1                            B.U. Central - 725 Comm. Ave.      230   \n",
       "2                            Agganis Arena - 925 Comm Ave.      980   \n",
       "3                                  Buswell St. at Park Dr.     1834   \n",
       "4            Union Square - Brighton Ave. at Cambridge St.      230   \n",
       "...                                                    ...      ...   \n",
       "1313769                                     Kendall Street     1846   \n",
       "1313770  Boylston St at Arlington St TEMPORARY WINTER L...        2   \n",
       "1313771                          Beacon St at Arlington St     1534   \n",
       "1313772  Christian Science Plaza - Massachusetts Ave at...     1978   \n",
       "1313773                   Prudential Center - Belvedere St       15   \n",
       "\n",
       "          user_type  \n",
       "0        Subscriber  \n",
       "1        Subscriber  \n",
       "2          Customer  \n",
       "3        Subscriber  \n",
       "4        Subscriber  \n",
       "...             ...  \n",
       "1313769  Subscriber  \n",
       "1313770  Subscriber  \n",
       "1313771  Subscriber  \n",
       "1313772  Subscriber  \n",
       "1313773  Subscriber  \n",
       "\n",
       "[1313774 rows x 8 columns]"
      ]
     },
     "execution_count": 3,
     "metadata": {},
     "output_type": "execute_result"
    }
   ],
   "source": [
    "raw_data_boston"
   ]
  },
  {
   "cell_type": "markdown",
   "metadata": {},
   "source": [
    "*As you can see below the \"raw_data_boston\" data frame does not contain null values, hence we don't need to thing how to handle those, in regard of deleting data tuples or data attributes or filling these with artifical values. It has over 1.3 million entries.*\n",
    "\n",
    "*It contains following attributes:*\n",
    "- *start_time(object)*\n",
    "- *end_time(object)*\n",
    "- *start_station_id (int64)*\n",
    "- *end_station_id (int64)*\n",
    "- *start_station_name (object)*\n",
    "- *end_station_name (object)*\n",
    "- *bike_id (int64)*\n",
    "- *user_type (object)*"
   ]
  },
  {
   "cell_type": "code",
   "execution_count": 4,
   "metadata": {},
   "outputs": [
    {
     "name": "stdout",
     "output_type": "stream",
     "text": [
      "<class 'pandas.core.frame.DataFrame'>\n",
      "RangeIndex: 1313774 entries, 0 to 1313773\n",
      "Data columns (total 8 columns):\n",
      " #   Column              Non-Null Count    Dtype \n",
      "---  ------              --------------    ----- \n",
      " 0   start_time          1313774 non-null  object\n",
      " 1   end_time            1313774 non-null  object\n",
      " 2   start_station_id    1313774 non-null  int64 \n",
      " 3   end_station_id      1313774 non-null  int64 \n",
      " 4   start_station_name  1313774 non-null  object\n",
      " 5   end_station_name    1313774 non-null  object\n",
      " 6   bike_id             1313774 non-null  int64 \n",
      " 7   user_type           1313774 non-null  object\n",
      "dtypes: int64(3), object(5)\n",
      "memory usage: 80.2+ MB\n"
     ]
    }
   ],
   "source": [
    "raw_data_boston.info()"
   ]
  },
  {
   "cell_type": "markdown",
   "metadata": {},
   "source": [
    "Now we save the raw data of \"raw_data_boston\" into a new data frame \"trip_data\", which will be modified to our needs. \n",
    "\n",
    "Firstly we add a column hour, which holds the respective hour of the day, so it contains a value between zero and 23. Furthermore we add the attribute duration, which contains how long the trip was, which will be used to check wheter there might be data tuples that have a not rational explainable length. Lastly we added the attribute \"date_time\", which will later be used to join the \"trip_data\" with the \"weather_data\". "
   ]
  },
  {
   "cell_type": "code",
   "execution_count": 5,
   "metadata": {
    "scrolled": false
   },
   "outputs": [],
   "source": [
    "trip_data = raw_data_boston \n",
    "trip_data[\"start_time\"] = pd.to_datetime(trip_data[\"start_time\"], format=\"%Y/%m/%d %H:\")\n",
    "trip_data[\"end_time\"]   = pd.to_datetime(trip_data[\"end_time\"], format=\"%Y/%m/%d %H:\")\n",
    "\n",
    "trip_data[\"hour\"]     = trip_data[\"start_time\"].dt.hour\n",
    "trip_data[\"year\"]     = trip_data[\"start_time\"].dt.year\n",
    "trip_data[\"month\"]    = trip_data[\"start_time\"].dt.month\n",
    "trip_data[\"day\"]      = trip_data[\"start_time\"].dt.day\n",
    "trip_data[\"seconds\"]  = trip_data[\"start_time\"].dt.second\n",
    "trip_data[\"duration\"] = trip_data[\"end_time\"] - trip_data[\"start_time\"]\n",
    "\n",
    "df1 = pd.DataFrame({'year':trip_data[\"year\"],'month':trip_data[\"month\"],\n",
    "                 'day':trip_data[\"day\"],'hour':trip_data[\"hour\"] })\n",
    "df1 = pd.to_datetime(df1, format=\"%Y/%m/%d, %H:\")\n",
    "trip_data[\"date_time\"] = df1\n",
    "\n",
    "trip_data.drop([(\"year\"),(\"month\"),(\"day\"),(\"seconds\")], axis = 1, inplace = True)"
   ]
  },
  {
   "cell_type": "markdown",
   "metadata": {},
   "source": [
    "Below is a first glimpse of the effects our modifications did."
   ]
  },
  {
   "cell_type": "code",
   "execution_count": 6,
   "metadata": {},
   "outputs": [
    {
     "data": {
      "text/html": [
       "<div>\n",
       "<style scoped>\n",
       "    .dataframe tbody tr th:only-of-type {\n",
       "        vertical-align: middle;\n",
       "    }\n",
       "\n",
       "    .dataframe tbody tr th {\n",
       "        vertical-align: top;\n",
       "    }\n",
       "\n",
       "    .dataframe thead th {\n",
       "        text-align: right;\n",
       "    }\n",
       "</style>\n",
       "<table border=\"1\" class=\"dataframe\">\n",
       "  <thead>\n",
       "    <tr style=\"text-align: right;\">\n",
       "      <th></th>\n",
       "      <th>start_time</th>\n",
       "      <th>end_time</th>\n",
       "      <th>start_station_id</th>\n",
       "      <th>end_station_id</th>\n",
       "      <th>start_station_name</th>\n",
       "      <th>end_station_name</th>\n",
       "      <th>bike_id</th>\n",
       "      <th>user_type</th>\n",
       "      <th>hour</th>\n",
       "      <th>duration</th>\n",
       "      <th>date_time</th>\n",
       "    </tr>\n",
       "  </thead>\n",
       "  <tbody>\n",
       "    <tr>\n",
       "      <th>0</th>\n",
       "      <td>2017-01-01 00:06:58</td>\n",
       "      <td>2017-01-01 00:12:49</td>\n",
       "      <td>67</td>\n",
       "      <td>139</td>\n",
       "      <td>MIT at Mass Ave / Amherst St</td>\n",
       "      <td>Dana Park</td>\n",
       "      <td>644</td>\n",
       "      <td>Subscriber</td>\n",
       "      <td>0</td>\n",
       "      <td>0 days 00:05:51</td>\n",
       "      <td>2017-01-01 00:00:00</td>\n",
       "    </tr>\n",
       "    <tr>\n",
       "      <th>1</th>\n",
       "      <td>2017-01-01 00:13:16</td>\n",
       "      <td>2017-01-01 00:28:07</td>\n",
       "      <td>36</td>\n",
       "      <td>10</td>\n",
       "      <td>Boston Public Library - 700 Boylston St.</td>\n",
       "      <td>B.U. Central - 725 Comm. Ave.</td>\n",
       "      <td>230</td>\n",
       "      <td>Subscriber</td>\n",
       "      <td>0</td>\n",
       "      <td>0 days 00:14:51</td>\n",
       "      <td>2017-01-01 00:00:00</td>\n",
       "    </tr>\n",
       "    <tr>\n",
       "      <th>2</th>\n",
       "      <td>2017-01-01 00:16:17</td>\n",
       "      <td>2017-01-01 00:44:10</td>\n",
       "      <td>36</td>\n",
       "      <td>9</td>\n",
       "      <td>Boston Public Library - 700 Boylston St.</td>\n",
       "      <td>Agganis Arena - 925 Comm Ave.</td>\n",
       "      <td>980</td>\n",
       "      <td>Customer</td>\n",
       "      <td>0</td>\n",
       "      <td>0 days 00:27:53</td>\n",
       "      <td>2017-01-01 00:00:00</td>\n",
       "    </tr>\n",
       "    <tr>\n",
       "      <th>3</th>\n",
       "      <td>2017-01-01 00:21:22</td>\n",
       "      <td>2017-01-01 00:33:50</td>\n",
       "      <td>46</td>\n",
       "      <td>19</td>\n",
       "      <td>Christian Science Plaza</td>\n",
       "      <td>Buswell St. at Park Dr.</td>\n",
       "      <td>1834</td>\n",
       "      <td>Subscriber</td>\n",
       "      <td>0</td>\n",
       "      <td>0 days 00:12:28</td>\n",
       "      <td>2017-01-01 00:00:00</td>\n",
       "    </tr>\n",
       "    <tr>\n",
       "      <th>4</th>\n",
       "      <td>2017-01-01 00:30:06</td>\n",
       "      <td>2017-01-01 00:40:28</td>\n",
       "      <td>10</td>\n",
       "      <td>8</td>\n",
       "      <td>B.U. Central - 725 Comm. Ave.</td>\n",
       "      <td>Union Square - Brighton Ave. at Cambridge St.</td>\n",
       "      <td>230</td>\n",
       "      <td>Subscriber</td>\n",
       "      <td>0</td>\n",
       "      <td>0 days 00:10:22</td>\n",
       "      <td>2017-01-01 00:00:00</td>\n",
       "    </tr>\n",
       "    <tr>\n",
       "      <th>...</th>\n",
       "      <td>...</td>\n",
       "      <td>...</td>\n",
       "      <td>...</td>\n",
       "      <td>...</td>\n",
       "      <td>...</td>\n",
       "      <td>...</td>\n",
       "      <td>...</td>\n",
       "      <td>...</td>\n",
       "      <td>...</td>\n",
       "      <td>...</td>\n",
       "      <td>...</td>\n",
       "    </tr>\n",
       "    <tr>\n",
       "      <th>1313769</th>\n",
       "      <td>2017-12-31 23:46:18</td>\n",
       "      <td>2017-12-31 23:50:27</td>\n",
       "      <td>117</td>\n",
       "      <td>141</td>\n",
       "      <td>Binney St / Sixth St</td>\n",
       "      <td>Kendall Street</td>\n",
       "      <td>1846</td>\n",
       "      <td>Subscriber</td>\n",
       "      <td>23</td>\n",
       "      <td>0 days 00:04:09</td>\n",
       "      <td>2017-12-31 23:00:00</td>\n",
       "    </tr>\n",
       "    <tr>\n",
       "      <th>1313770</th>\n",
       "      <td>2017-12-29 16:11:56</td>\n",
       "      <td>2017-12-29 16:16:18</td>\n",
       "      <td>54</td>\n",
       "      <td>42</td>\n",
       "      <td>Tremont St at West St</td>\n",
       "      <td>Boylston St at Arlington St TEMPORARY WINTER L...</td>\n",
       "      <td>2</td>\n",
       "      <td>Subscriber</td>\n",
       "      <td>16</td>\n",
       "      <td>0 days 00:04:22</td>\n",
       "      <td>2017-12-29 16:00:00</td>\n",
       "    </tr>\n",
       "    <tr>\n",
       "      <th>1313771</th>\n",
       "      <td>2017-12-30 08:09:44</td>\n",
       "      <td>2017-12-30 08:26:08</td>\n",
       "      <td>54</td>\n",
       "      <td>58</td>\n",
       "      <td>Tremont St at West St</td>\n",
       "      <td>Beacon St at Arlington St</td>\n",
       "      <td>1534</td>\n",
       "      <td>Subscriber</td>\n",
       "      <td>8</td>\n",
       "      <td>0 days 00:16:24</td>\n",
       "      <td>2017-12-30 08:00:00</td>\n",
       "    </tr>\n",
       "    <tr>\n",
       "      <th>1313772</th>\n",
       "      <td>2017-12-30 12:20:01</td>\n",
       "      <td>2017-12-30 12:49:12</td>\n",
       "      <td>54</td>\n",
       "      <td>46</td>\n",
       "      <td>Tremont St at West St</td>\n",
       "      <td>Christian Science Plaza - Massachusetts Ave at...</td>\n",
       "      <td>1978</td>\n",
       "      <td>Subscriber</td>\n",
       "      <td>12</td>\n",
       "      <td>0 days 00:29:11</td>\n",
       "      <td>2017-12-30 12:00:00</td>\n",
       "    </tr>\n",
       "    <tr>\n",
       "      <th>1313773</th>\n",
       "      <td>2017-12-30 18:27:39</td>\n",
       "      <td>2017-12-30 18:53:54</td>\n",
       "      <td>54</td>\n",
       "      <td>21</td>\n",
       "      <td>Tremont St at West St</td>\n",
       "      <td>Prudential Center - Belvedere St</td>\n",
       "      <td>15</td>\n",
       "      <td>Subscriber</td>\n",
       "      <td>18</td>\n",
       "      <td>0 days 00:26:15</td>\n",
       "      <td>2017-12-30 18:00:00</td>\n",
       "    </tr>\n",
       "  </tbody>\n",
       "</table>\n",
       "<p>1313774 rows × 11 columns</p>\n",
       "</div>"
      ],
      "text/plain": [
       "                 start_time            end_time  start_station_id  \\\n",
       "0       2017-01-01 00:06:58 2017-01-01 00:12:49                67   \n",
       "1       2017-01-01 00:13:16 2017-01-01 00:28:07                36   \n",
       "2       2017-01-01 00:16:17 2017-01-01 00:44:10                36   \n",
       "3       2017-01-01 00:21:22 2017-01-01 00:33:50                46   \n",
       "4       2017-01-01 00:30:06 2017-01-01 00:40:28                10   \n",
       "...                     ...                 ...               ...   \n",
       "1313769 2017-12-31 23:46:18 2017-12-31 23:50:27               117   \n",
       "1313770 2017-12-29 16:11:56 2017-12-29 16:16:18                54   \n",
       "1313771 2017-12-30 08:09:44 2017-12-30 08:26:08                54   \n",
       "1313772 2017-12-30 12:20:01 2017-12-30 12:49:12                54   \n",
       "1313773 2017-12-30 18:27:39 2017-12-30 18:53:54                54   \n",
       "\n",
       "         end_station_id                        start_station_name  \\\n",
       "0                   139              MIT at Mass Ave / Amherst St   \n",
       "1                    10  Boston Public Library - 700 Boylston St.   \n",
       "2                     9  Boston Public Library - 700 Boylston St.   \n",
       "3                    19                   Christian Science Plaza   \n",
       "4                     8             B.U. Central - 725 Comm. Ave.   \n",
       "...                 ...                                       ...   \n",
       "1313769             141                      Binney St / Sixth St   \n",
       "1313770              42                     Tremont St at West St   \n",
       "1313771              58                     Tremont St at West St   \n",
       "1313772              46                     Tremont St at West St   \n",
       "1313773              21                     Tremont St at West St   \n",
       "\n",
       "                                          end_station_name  bike_id  \\\n",
       "0                                                Dana Park      644   \n",
       "1                            B.U. Central - 725 Comm. Ave.      230   \n",
       "2                            Agganis Arena - 925 Comm Ave.      980   \n",
       "3                                  Buswell St. at Park Dr.     1834   \n",
       "4            Union Square - Brighton Ave. at Cambridge St.      230   \n",
       "...                                                    ...      ...   \n",
       "1313769                                     Kendall Street     1846   \n",
       "1313770  Boylston St at Arlington St TEMPORARY WINTER L...        2   \n",
       "1313771                          Beacon St at Arlington St     1534   \n",
       "1313772  Christian Science Plaza - Massachusetts Ave at...     1978   \n",
       "1313773                   Prudential Center - Belvedere St       15   \n",
       "\n",
       "          user_type  hour        duration           date_time  \n",
       "0        Subscriber     0 0 days 00:05:51 2017-01-01 00:00:00  \n",
       "1        Subscriber     0 0 days 00:14:51 2017-01-01 00:00:00  \n",
       "2          Customer     0 0 days 00:27:53 2017-01-01 00:00:00  \n",
       "3        Subscriber     0 0 days 00:12:28 2017-01-01 00:00:00  \n",
       "4        Subscriber     0 0 days 00:10:22 2017-01-01 00:00:00  \n",
       "...             ...   ...             ...                 ...  \n",
       "1313769  Subscriber    23 0 days 00:04:09 2017-12-31 23:00:00  \n",
       "1313770  Subscriber    16 0 days 00:04:22 2017-12-29 16:00:00  \n",
       "1313771  Subscriber     8 0 days 00:16:24 2017-12-30 08:00:00  \n",
       "1313772  Subscriber    12 0 days 00:29:11 2017-12-30 12:00:00  \n",
       "1313773  Subscriber    18 0 days 00:26:15 2017-12-30 18:00:00  \n",
       "\n",
       "[1313774 rows x 11 columns]"
      ]
     },
     "execution_count": 6,
     "metadata": {},
     "output_type": "execute_result"
    }
   ],
   "source": [
    "trip_data"
   ]
  },
  {
   "cell_type": "markdown",
   "metadata": {},
   "source": [
    "Here we see that the trip_data contains our added attributes: hour (int64), duration (timedelta64) and date_time (datetime64)"
   ]
  },
  {
   "cell_type": "code",
   "execution_count": 7,
   "metadata": {},
   "outputs": [
    {
     "name": "stdout",
     "output_type": "stream",
     "text": [
      "<class 'pandas.core.frame.DataFrame'>\n",
      "RangeIndex: 1313774 entries, 0 to 1313773\n",
      "Data columns (total 11 columns):\n",
      " #   Column              Non-Null Count    Dtype          \n",
      "---  ------              --------------    -----          \n",
      " 0   start_time          1313774 non-null  datetime64[ns] \n",
      " 1   end_time            1313774 non-null  datetime64[ns] \n",
      " 2   start_station_id    1313774 non-null  int64          \n",
      " 3   end_station_id      1313774 non-null  int64          \n",
      " 4   start_station_name  1313774 non-null  object         \n",
      " 5   end_station_name    1313774 non-null  object         \n",
      " 6   bike_id             1313774 non-null  int64          \n",
      " 7   user_type           1313774 non-null  object         \n",
      " 8   hour                1313774 non-null  int64          \n",
      " 9   duration            1313774 non-null  timedelta64[ns]\n",
      " 10  date_time           1313774 non-null  datetime64[ns] \n",
      "dtypes: datetime64[ns](3), int64(4), object(3), timedelta64[ns](1)\n",
      "memory usage: 110.3+ MB\n"
     ]
    }
   ],
   "source": [
    "trip_data.info()"
   ]
  },
  {
   "cell_type": "markdown",
   "metadata": {},
   "source": [
    "We checked the trip_data for false entries in regard of trips that do not have a logical duration.\n",
    "\n",
    "*As we can see on the \"min\" attribute we have false data tuples, as it is not possible to have a trip duration, which is negative. We will set a minimum duration of two minutes in the following to eliminate data tuples with a negative trip duration as well as to eliminate trips, which potentially were false starts or users trying to re-dock a bike to ensure it was secure.* \n",
    "\n",
    "*Also the \"max\" indicates false data tuples, as probably no ones rents a bike for a duration of over 48 days. Therefore we set the maximum duration of a trip to eight hours.*"
   ]
  },
  {
   "cell_type": "code",
   "execution_count": 8,
   "metadata": {
    "scrolled": true
   },
   "outputs": [
    {
     "data": {
      "text/plain": [
       "count                      1313774\n",
       "mean     0 days 00:18:57.437388774\n",
       "std      0 days 03:43:04.336374452\n",
       "min              -1 days +23:06:07\n",
       "25%                0 days 00:06:34\n",
       "50%                0 days 00:10:56\n",
       "75%                0 days 00:17:55\n",
       "max               48 days 08:40:21\n",
       "Name: duration, dtype: object"
      ]
     },
     "execution_count": 8,
     "metadata": {},
     "output_type": "execute_result"
    }
   ],
   "source": [
    "trip_data[\"duration\"].describe()"
   ]
  },
  {
   "cell_type": "markdown",
   "metadata": {},
   "source": [
    "The mentioned deletion of data tuples, which are lower than two minutes in duration or higher than eight hours in duration, happens in the next cell.\n",
    "\n",
    "*As you can see we filtered some data tuples, in fact we deleted 11.402 from the trip_data as they probably containted false information.*"
   ]
  },
  {
   "cell_type": "code",
   "execution_count": 9,
   "metadata": {},
   "outputs": [
    {
     "data": {
      "text/plain": [
       "count                      1302372\n",
       "mean     0 days 00:15:17.483793416\n",
       "std      0 days 00:19:58.729193062\n",
       "min                0 days 00:02:01\n",
       "25%                0 days 00:06:39\n",
       "50%                0 days 00:10:59\n",
       "75%                0 days 00:17:56\n",
       "max                0 days 07:59:56\n",
       "Name: duration, dtype: object"
      ]
     },
     "execution_count": 9,
     "metadata": {},
     "output_type": "execute_result"
    }
   ],
   "source": [
    "#Limited duration to prevent using incorrect data\n",
    "\n",
    "trip_data = trip_data[(trip_data[\"duration\"]>\"P0DT0H2M0S\")&\n",
    "                           (trip_data[\"duration\"]<\"P0DT8H0M0S\")]\n",
    "\n",
    "trip_data[\"duration\"].describe()"
   ]
  },
  {
   "cell_type": "markdown",
   "metadata": {},
   "source": [
    "We wanted to ensure that all data tuples are representing a trip, which started in the year 2017.\n",
    "\n",
    "*As we can see this is the case.*"
   ]
  },
  {
   "cell_type": "code",
   "execution_count": 10,
   "metadata": {},
   "outputs": [
    {
     "name": "stderr",
     "output_type": "stream",
     "text": [
      "<ipython-input-10-5bbd172550eb>:1: FutureWarning: Treating datetime data as categorical rather than numeric in `.describe` is deprecated and will be removed in a future version of pandas. Specify `datetime_is_numeric=True` to silence this warning and adopt the future behavior now.\n",
      "  trip_data[\"start_time\"].describe()\n"
     ]
    },
    {
     "data": {
      "text/plain": [
       "count                 1302372\n",
       "unique                1235326\n",
       "top       2017-08-04 08:54:42\n",
       "freq                        6\n",
       "first     2017-01-01 00:06:58\n",
       "last      2017-12-31 23:46:18\n",
       "Name: start_time, dtype: object"
      ]
     },
     "execution_count": 10,
     "metadata": {},
     "output_type": "execute_result"
    }
   ],
   "source": [
    "trip_data[\"start_time\"].describe()"
   ]
  },
  {
   "cell_type": "markdown",
   "metadata": {},
   "source": [
    "We wanted to ensure that all data tuples are representing a trip, which ended in the year 2017.\n",
    "\n",
    "*As we can see this is the case.*"
   ]
  },
  {
   "cell_type": "code",
   "execution_count": 11,
   "metadata": {},
   "outputs": [
    {
     "name": "stderr",
     "output_type": "stream",
     "text": [
      "<ipython-input-11-542d1368c8af>:1: FutureWarning: Treating datetime data as categorical rather than numeric in `.describe` is deprecated and will be removed in a future version of pandas. Specify `datetime_is_numeric=True` to silence this warning and adopt the future behavior now.\n",
      "  trip_data[\"end_time\"].describe()\n"
     ]
    },
    {
     "data": {
      "text/plain": [
       "count                 1302372\n",
       "unique                1234610\n",
       "top       2017-06-27 17:27:42\n",
       "freq                        6\n",
       "first     2017-01-01 00:12:49\n",
       "last      2017-12-31 23:50:27\n",
       "Name: end_time, dtype: object"
      ]
     },
     "execution_count": 11,
     "metadata": {},
     "output_type": "execute_result"
    }
   ],
   "source": [
    "trip_data[\"end_time\"].describe()"
   ]
  },
  {
   "cell_type": "markdown",
   "metadata": {},
   "source": [
    "We use this method to find with how many docking stations \"Blue Bikes\" were operating in the year 2017.\n",
    "\n",
    "*In the year 2017 \"Blue Bikes\" was operating with 285 docking stations.*"
   ]
  },
  {
   "cell_type": "code",
   "execution_count": 12,
   "metadata": {},
   "outputs": [
    {
     "data": {
      "text/plain": [
       "count                          1302372\n",
       "unique                             285\n",
       "top       MIT at Mass Ave / Amherst St\n",
       "freq                             42141\n",
       "Name: start_station_name, dtype: object"
      ]
     },
     "execution_count": 12,
     "metadata": {},
     "output_type": "execute_result"
    }
   ],
   "source": [
    "trip_data[\"start_station_name\"].describe()"
   ]
  },
  {
   "cell_type": "markdown",
   "metadata": {},
   "source": [
    "We use this method to find with how many bikes \"Blue Bikes\" were operating in the year 2017.\n",
    "\n",
    "*In the year 2017 \"Blue Bikes\" was operating with 1799 bikes.*"
   ]
  },
  {
   "cell_type": "code",
   "execution_count": 13,
   "metadata": {},
   "outputs": [
    {
     "data": {
      "text/plain": [
       "1799"
      ]
     },
     "execution_count": 13,
     "metadata": {},
     "output_type": "execute_result"
    }
   ],
   "source": [
    "a = trip_data[\"bike_id\"]\n",
    "a = a.unique()\n",
    "a.size"
   ]
  },
  {
   "cell_type": "markdown",
   "metadata": {},
   "source": [
    "Here we are checking if any duplicates occur in \"trip_data\".\n",
    "\n",
    "*As the number of instances did not change after calling the method proves that we do not have any duplicates in \"trip_data\".*"
   ]
  },
  {
   "cell_type": "code",
   "execution_count": 14,
   "metadata": {},
   "outputs": [
    {
     "data": {
      "text/plain": [
       "start_time            1302372\n",
       "end_time              1302372\n",
       "start_station_id      1302372\n",
       "end_station_id        1302372\n",
       "start_station_name    1302372\n",
       "end_station_name      1302372\n",
       "bike_id               1302372\n",
       "user_type             1302372\n",
       "hour                  1302372\n",
       "duration              1302372\n",
       "date_time             1302372\n",
       "dtype: int64"
      ]
     },
     "execution_count": 14,
     "metadata": {},
     "output_type": "execute_result"
    }
   ],
   "source": [
    "trip_data = trip_data.drop_duplicates()\n",
    "trip_data.count()"
   ]
  },
  {
   "cell_type": "code",
   "execution_count": 15,
   "metadata": {},
   "outputs": [],
   "source": [
    "def get_date (ts):\n",
    "    return ts.date()\n",
    "\n",
    "def get_weekday (ts):\n",
    "    return ts.weekday()\n",
    "\n",
    "def get_hour (ts):\n",
    "    return ts.hour\n",
    "\n",
    "def set1 (ts):\n",
    "    return 1"
   ]
  },
  {
   "cell_type": "code",
   "execution_count": 16,
   "metadata": {},
   "outputs": [],
   "source": [
    "trip_data[\"Date\"]   = trip_data[\"start_time\"].apply(lambda ts: get_date (ts))\n",
    "trip_data[\"Rented\"] = trip_data[\"Date\"].apply(lambda ts: set1(ts))"
   ]
  },
  {
   "cell_type": "code",
   "execution_count": 17,
   "metadata": {},
   "outputs": [],
   "source": [
    "trip_data[\"Weekday\"] = trip_data[\"start_time\"].apply(lambda ts: get_weekday (ts))"
   ]
  },
  {
   "cell_type": "markdown",
   "metadata": {},
   "source": [
    "The following gives an overlook of our modified \"trip_data\" with the elimination of false data tuples."
   ]
  },
  {
   "cell_type": "code",
   "execution_count": 18,
   "metadata": {},
   "outputs": [
    {
     "data": {
      "text/html": [
       "<div>\n",
       "<style scoped>\n",
       "    .dataframe tbody tr th:only-of-type {\n",
       "        vertical-align: middle;\n",
       "    }\n",
       "\n",
       "    .dataframe tbody tr th {\n",
       "        vertical-align: top;\n",
       "    }\n",
       "\n",
       "    .dataframe thead th {\n",
       "        text-align: right;\n",
       "    }\n",
       "</style>\n",
       "<table border=\"1\" class=\"dataframe\">\n",
       "  <thead>\n",
       "    <tr style=\"text-align: right;\">\n",
       "      <th></th>\n",
       "      <th>start_time</th>\n",
       "      <th>end_time</th>\n",
       "      <th>start_station_id</th>\n",
       "      <th>end_station_id</th>\n",
       "      <th>start_station_name</th>\n",
       "      <th>end_station_name</th>\n",
       "      <th>bike_id</th>\n",
       "      <th>user_type</th>\n",
       "      <th>hour</th>\n",
       "      <th>duration</th>\n",
       "      <th>date_time</th>\n",
       "      <th>Date</th>\n",
       "      <th>Rented</th>\n",
       "      <th>Weekday</th>\n",
       "    </tr>\n",
       "  </thead>\n",
       "  <tbody>\n",
       "    <tr>\n",
       "      <th>0</th>\n",
       "      <td>2017-01-01 00:06:58</td>\n",
       "      <td>2017-01-01 00:12:49</td>\n",
       "      <td>67</td>\n",
       "      <td>139</td>\n",
       "      <td>MIT at Mass Ave / Amherst St</td>\n",
       "      <td>Dana Park</td>\n",
       "      <td>644</td>\n",
       "      <td>Subscriber</td>\n",
       "      <td>0</td>\n",
       "      <td>0 days 00:05:51</td>\n",
       "      <td>2017-01-01 00:00:00</td>\n",
       "      <td>2017-01-01</td>\n",
       "      <td>1</td>\n",
       "      <td>6</td>\n",
       "    </tr>\n",
       "    <tr>\n",
       "      <th>1</th>\n",
       "      <td>2017-01-01 00:13:16</td>\n",
       "      <td>2017-01-01 00:28:07</td>\n",
       "      <td>36</td>\n",
       "      <td>10</td>\n",
       "      <td>Boston Public Library - 700 Boylston St.</td>\n",
       "      <td>B.U. Central - 725 Comm. Ave.</td>\n",
       "      <td>230</td>\n",
       "      <td>Subscriber</td>\n",
       "      <td>0</td>\n",
       "      <td>0 days 00:14:51</td>\n",
       "      <td>2017-01-01 00:00:00</td>\n",
       "      <td>2017-01-01</td>\n",
       "      <td>1</td>\n",
       "      <td>6</td>\n",
       "    </tr>\n",
       "    <tr>\n",
       "      <th>2</th>\n",
       "      <td>2017-01-01 00:16:17</td>\n",
       "      <td>2017-01-01 00:44:10</td>\n",
       "      <td>36</td>\n",
       "      <td>9</td>\n",
       "      <td>Boston Public Library - 700 Boylston St.</td>\n",
       "      <td>Agganis Arena - 925 Comm Ave.</td>\n",
       "      <td>980</td>\n",
       "      <td>Customer</td>\n",
       "      <td>0</td>\n",
       "      <td>0 days 00:27:53</td>\n",
       "      <td>2017-01-01 00:00:00</td>\n",
       "      <td>2017-01-01</td>\n",
       "      <td>1</td>\n",
       "      <td>6</td>\n",
       "    </tr>\n",
       "    <tr>\n",
       "      <th>3</th>\n",
       "      <td>2017-01-01 00:21:22</td>\n",
       "      <td>2017-01-01 00:33:50</td>\n",
       "      <td>46</td>\n",
       "      <td>19</td>\n",
       "      <td>Christian Science Plaza</td>\n",
       "      <td>Buswell St. at Park Dr.</td>\n",
       "      <td>1834</td>\n",
       "      <td>Subscriber</td>\n",
       "      <td>0</td>\n",
       "      <td>0 days 00:12:28</td>\n",
       "      <td>2017-01-01 00:00:00</td>\n",
       "      <td>2017-01-01</td>\n",
       "      <td>1</td>\n",
       "      <td>6</td>\n",
       "    </tr>\n",
       "    <tr>\n",
       "      <th>4</th>\n",
       "      <td>2017-01-01 00:30:06</td>\n",
       "      <td>2017-01-01 00:40:28</td>\n",
       "      <td>10</td>\n",
       "      <td>8</td>\n",
       "      <td>B.U. Central - 725 Comm. Ave.</td>\n",
       "      <td>Union Square - Brighton Ave. at Cambridge St.</td>\n",
       "      <td>230</td>\n",
       "      <td>Subscriber</td>\n",
       "      <td>0</td>\n",
       "      <td>0 days 00:10:22</td>\n",
       "      <td>2017-01-01 00:00:00</td>\n",
       "      <td>2017-01-01</td>\n",
       "      <td>1</td>\n",
       "      <td>6</td>\n",
       "    </tr>\n",
       "    <tr>\n",
       "      <th>...</th>\n",
       "      <td>...</td>\n",
       "      <td>...</td>\n",
       "      <td>...</td>\n",
       "      <td>...</td>\n",
       "      <td>...</td>\n",
       "      <td>...</td>\n",
       "      <td>...</td>\n",
       "      <td>...</td>\n",
       "      <td>...</td>\n",
       "      <td>...</td>\n",
       "      <td>...</td>\n",
       "      <td>...</td>\n",
       "      <td>...</td>\n",
       "      <td>...</td>\n",
       "    </tr>\n",
       "    <tr>\n",
       "      <th>1313769</th>\n",
       "      <td>2017-12-31 23:46:18</td>\n",
       "      <td>2017-12-31 23:50:27</td>\n",
       "      <td>117</td>\n",
       "      <td>141</td>\n",
       "      <td>Binney St / Sixth St</td>\n",
       "      <td>Kendall Street</td>\n",
       "      <td>1846</td>\n",
       "      <td>Subscriber</td>\n",
       "      <td>23</td>\n",
       "      <td>0 days 00:04:09</td>\n",
       "      <td>2017-12-31 23:00:00</td>\n",
       "      <td>2017-12-31</td>\n",
       "      <td>1</td>\n",
       "      <td>6</td>\n",
       "    </tr>\n",
       "    <tr>\n",
       "      <th>1313770</th>\n",
       "      <td>2017-12-29 16:11:56</td>\n",
       "      <td>2017-12-29 16:16:18</td>\n",
       "      <td>54</td>\n",
       "      <td>42</td>\n",
       "      <td>Tremont St at West St</td>\n",
       "      <td>Boylston St at Arlington St TEMPORARY WINTER L...</td>\n",
       "      <td>2</td>\n",
       "      <td>Subscriber</td>\n",
       "      <td>16</td>\n",
       "      <td>0 days 00:04:22</td>\n",
       "      <td>2017-12-29 16:00:00</td>\n",
       "      <td>2017-12-29</td>\n",
       "      <td>1</td>\n",
       "      <td>4</td>\n",
       "    </tr>\n",
       "    <tr>\n",
       "      <th>1313771</th>\n",
       "      <td>2017-12-30 08:09:44</td>\n",
       "      <td>2017-12-30 08:26:08</td>\n",
       "      <td>54</td>\n",
       "      <td>58</td>\n",
       "      <td>Tremont St at West St</td>\n",
       "      <td>Beacon St at Arlington St</td>\n",
       "      <td>1534</td>\n",
       "      <td>Subscriber</td>\n",
       "      <td>8</td>\n",
       "      <td>0 days 00:16:24</td>\n",
       "      <td>2017-12-30 08:00:00</td>\n",
       "      <td>2017-12-30</td>\n",
       "      <td>1</td>\n",
       "      <td>5</td>\n",
       "    </tr>\n",
       "    <tr>\n",
       "      <th>1313772</th>\n",
       "      <td>2017-12-30 12:20:01</td>\n",
       "      <td>2017-12-30 12:49:12</td>\n",
       "      <td>54</td>\n",
       "      <td>46</td>\n",
       "      <td>Tremont St at West St</td>\n",
       "      <td>Christian Science Plaza - Massachusetts Ave at...</td>\n",
       "      <td>1978</td>\n",
       "      <td>Subscriber</td>\n",
       "      <td>12</td>\n",
       "      <td>0 days 00:29:11</td>\n",
       "      <td>2017-12-30 12:00:00</td>\n",
       "      <td>2017-12-30</td>\n",
       "      <td>1</td>\n",
       "      <td>5</td>\n",
       "    </tr>\n",
       "    <tr>\n",
       "      <th>1313773</th>\n",
       "      <td>2017-12-30 18:27:39</td>\n",
       "      <td>2017-12-30 18:53:54</td>\n",
       "      <td>54</td>\n",
       "      <td>21</td>\n",
       "      <td>Tremont St at West St</td>\n",
       "      <td>Prudential Center - Belvedere St</td>\n",
       "      <td>15</td>\n",
       "      <td>Subscriber</td>\n",
       "      <td>18</td>\n",
       "      <td>0 days 00:26:15</td>\n",
       "      <td>2017-12-30 18:00:00</td>\n",
       "      <td>2017-12-30</td>\n",
       "      <td>1</td>\n",
       "      <td>5</td>\n",
       "    </tr>\n",
       "  </tbody>\n",
       "</table>\n",
       "<p>1302372 rows × 14 columns</p>\n",
       "</div>"
      ],
      "text/plain": [
       "                 start_time            end_time  start_station_id  \\\n",
       "0       2017-01-01 00:06:58 2017-01-01 00:12:49                67   \n",
       "1       2017-01-01 00:13:16 2017-01-01 00:28:07                36   \n",
       "2       2017-01-01 00:16:17 2017-01-01 00:44:10                36   \n",
       "3       2017-01-01 00:21:22 2017-01-01 00:33:50                46   \n",
       "4       2017-01-01 00:30:06 2017-01-01 00:40:28                10   \n",
       "...                     ...                 ...               ...   \n",
       "1313769 2017-12-31 23:46:18 2017-12-31 23:50:27               117   \n",
       "1313770 2017-12-29 16:11:56 2017-12-29 16:16:18                54   \n",
       "1313771 2017-12-30 08:09:44 2017-12-30 08:26:08                54   \n",
       "1313772 2017-12-30 12:20:01 2017-12-30 12:49:12                54   \n",
       "1313773 2017-12-30 18:27:39 2017-12-30 18:53:54                54   \n",
       "\n",
       "         end_station_id                        start_station_name  \\\n",
       "0                   139              MIT at Mass Ave / Amherst St   \n",
       "1                    10  Boston Public Library - 700 Boylston St.   \n",
       "2                     9  Boston Public Library - 700 Boylston St.   \n",
       "3                    19                   Christian Science Plaza   \n",
       "4                     8             B.U. Central - 725 Comm. Ave.   \n",
       "...                 ...                                       ...   \n",
       "1313769             141                      Binney St / Sixth St   \n",
       "1313770              42                     Tremont St at West St   \n",
       "1313771              58                     Tremont St at West St   \n",
       "1313772              46                     Tremont St at West St   \n",
       "1313773              21                     Tremont St at West St   \n",
       "\n",
       "                                          end_station_name  bike_id  \\\n",
       "0                                                Dana Park      644   \n",
       "1                            B.U. Central - 725 Comm. Ave.      230   \n",
       "2                            Agganis Arena - 925 Comm Ave.      980   \n",
       "3                                  Buswell St. at Park Dr.     1834   \n",
       "4            Union Square - Brighton Ave. at Cambridge St.      230   \n",
       "...                                                    ...      ...   \n",
       "1313769                                     Kendall Street     1846   \n",
       "1313770  Boylston St at Arlington St TEMPORARY WINTER L...        2   \n",
       "1313771                          Beacon St at Arlington St     1534   \n",
       "1313772  Christian Science Plaza - Massachusetts Ave at...     1978   \n",
       "1313773                   Prudential Center - Belvedere St       15   \n",
       "\n",
       "          user_type  hour        duration           date_time        Date  \\\n",
       "0        Subscriber     0 0 days 00:05:51 2017-01-01 00:00:00  2017-01-01   \n",
       "1        Subscriber     0 0 days 00:14:51 2017-01-01 00:00:00  2017-01-01   \n",
       "2          Customer     0 0 days 00:27:53 2017-01-01 00:00:00  2017-01-01   \n",
       "3        Subscriber     0 0 days 00:12:28 2017-01-01 00:00:00  2017-01-01   \n",
       "4        Subscriber     0 0 days 00:10:22 2017-01-01 00:00:00  2017-01-01   \n",
       "...             ...   ...             ...                 ...         ...   \n",
       "1313769  Subscriber    23 0 days 00:04:09 2017-12-31 23:00:00  2017-12-31   \n",
       "1313770  Subscriber    16 0 days 00:04:22 2017-12-29 16:00:00  2017-12-29   \n",
       "1313771  Subscriber     8 0 days 00:16:24 2017-12-30 08:00:00  2017-12-30   \n",
       "1313772  Subscriber    12 0 days 00:29:11 2017-12-30 12:00:00  2017-12-30   \n",
       "1313773  Subscriber    18 0 days 00:26:15 2017-12-30 18:00:00  2017-12-30   \n",
       "\n",
       "         Rented  Weekday  \n",
       "0             1        6  \n",
       "1             1        6  \n",
       "2             1        6  \n",
       "3             1        6  \n",
       "4             1        6  \n",
       "...         ...      ...  \n",
       "1313769       1        6  \n",
       "1313770       1        4  \n",
       "1313771       1        5  \n",
       "1313772       1        5  \n",
       "1313773       1        5  \n",
       "\n",
       "[1302372 rows x 14 columns]"
      ]
     },
     "execution_count": 18,
     "metadata": {},
     "output_type": "execute_result"
    }
   ],
   "source": [
    "trip_data"
   ]
  },
  {
   "cell_type": "markdown",
   "metadata": {},
   "source": [
    "## Weather Data - Collection & Preparation"
   ]
  },
  {
   "cell_type": "markdown",
   "metadata": {},
   "source": [
    "Here we are reading the \"weather_hourly_boston.csv\" file into the juypter notebook, so that in the following we can work with the mentioned data set."
   ]
  },
  {
   "cell_type": "code",
   "execution_count": 19,
   "metadata": {},
   "outputs": [],
   "source": [
    "raw_weather_data = pd.read_csv(\"weather_hourly_boston.csv\")\n",
    "#Please download the \"weather_hourly_boston.csv\" file and place it in the same folder in which this juypter notebook is saved."
   ]
  },
  {
   "cell_type": "markdown",
   "metadata": {},
   "source": [
    "In the following cells we are calling the data set and use methods to get a first glimpse how the data set is structured and which values it contains.\n",
    "\n",
    "*Here we see first instances of the \"raw_weather_data\" data frame and get a first basic overview how the data is structured.*"
   ]
  },
  {
   "cell_type": "code",
   "execution_count": 20,
   "metadata": {},
   "outputs": [
    {
     "data": {
      "text/html": [
       "<div>\n",
       "<style scoped>\n",
       "    .dataframe tbody tr th:only-of-type {\n",
       "        vertical-align: middle;\n",
       "    }\n",
       "\n",
       "    .dataframe tbody tr th {\n",
       "        vertical-align: top;\n",
       "    }\n",
       "\n",
       "    .dataframe thead th {\n",
       "        text-align: right;\n",
       "    }\n",
       "</style>\n",
       "<table border=\"1\" class=\"dataframe\">\n",
       "  <thead>\n",
       "    <tr style=\"text-align: right;\">\n",
       "      <th></th>\n",
       "      <th>date_time</th>\n",
       "      <th>max_temp</th>\n",
       "      <th>min_temp</th>\n",
       "      <th>precip</th>\n",
       "    </tr>\n",
       "  </thead>\n",
       "  <tbody>\n",
       "    <tr>\n",
       "      <th>0</th>\n",
       "      <td>2015-01-02 01:00:00</td>\n",
       "      <td>-1.1</td>\n",
       "      <td>-1.1</td>\n",
       "      <td>0.0</td>\n",
       "    </tr>\n",
       "    <tr>\n",
       "      <th>1</th>\n",
       "      <td>2015-01-02 02:00:00</td>\n",
       "      <td>-1.1</td>\n",
       "      <td>-1.1</td>\n",
       "      <td>0.0</td>\n",
       "    </tr>\n",
       "    <tr>\n",
       "      <th>2</th>\n",
       "      <td>2015-01-02 03:00:00</td>\n",
       "      <td>-0.6</td>\n",
       "      <td>-0.6</td>\n",
       "      <td>0.0</td>\n",
       "    </tr>\n",
       "    <tr>\n",
       "      <th>3</th>\n",
       "      <td>2015-01-02 04:00:00</td>\n",
       "      <td>-0.6</td>\n",
       "      <td>-0.6</td>\n",
       "      <td>0.0</td>\n",
       "    </tr>\n",
       "    <tr>\n",
       "      <th>4</th>\n",
       "      <td>2015-01-02 05:00:00</td>\n",
       "      <td>-0.6</td>\n",
       "      <td>-0.6</td>\n",
       "      <td>0.0</td>\n",
       "    </tr>\n",
       "    <tr>\n",
       "      <th>...</th>\n",
       "      <td>...</td>\n",
       "      <td>...</td>\n",
       "      <td>...</td>\n",
       "      <td>...</td>\n",
       "    </tr>\n",
       "    <tr>\n",
       "      <th>43843</th>\n",
       "      <td>2020-01-01 20:00:00</td>\n",
       "      <td>5.0</td>\n",
       "      <td>5.0</td>\n",
       "      <td>0.0</td>\n",
       "    </tr>\n",
       "    <tr>\n",
       "      <th>43844</th>\n",
       "      <td>2020-01-01 21:00:00</td>\n",
       "      <td>4.4</td>\n",
       "      <td>4.4</td>\n",
       "      <td>0.0</td>\n",
       "    </tr>\n",
       "    <tr>\n",
       "      <th>43845</th>\n",
       "      <td>2020-01-01 22:00:00</td>\n",
       "      <td>4.4</td>\n",
       "      <td>4.4</td>\n",
       "      <td>0.0</td>\n",
       "    </tr>\n",
       "    <tr>\n",
       "      <th>43846</th>\n",
       "      <td>2020-01-01 23:00:00</td>\n",
       "      <td>3.9</td>\n",
       "      <td>3.9</td>\n",
       "      <td>0.0</td>\n",
       "    </tr>\n",
       "    <tr>\n",
       "      <th>43847</th>\n",
       "      <td>2020-01-02 00:00:00</td>\n",
       "      <td>3.3</td>\n",
       "      <td>3.3</td>\n",
       "      <td>0.0</td>\n",
       "    </tr>\n",
       "  </tbody>\n",
       "</table>\n",
       "<p>43848 rows × 4 columns</p>\n",
       "</div>"
      ],
      "text/plain": [
       "                 date_time  max_temp  min_temp  precip\n",
       "0      2015-01-02 01:00:00      -1.1      -1.1     0.0\n",
       "1      2015-01-02 02:00:00      -1.1      -1.1     0.0\n",
       "2      2015-01-02 03:00:00      -0.6      -0.6     0.0\n",
       "3      2015-01-02 04:00:00      -0.6      -0.6     0.0\n",
       "4      2015-01-02 05:00:00      -0.6      -0.6     0.0\n",
       "...                    ...       ...       ...     ...\n",
       "43843  2020-01-01 20:00:00       5.0       5.0     0.0\n",
       "43844  2020-01-01 21:00:00       4.4       4.4     0.0\n",
       "43845  2020-01-01 22:00:00       4.4       4.4     0.0\n",
       "43846  2020-01-01 23:00:00       3.9       3.9     0.0\n",
       "43847  2020-01-02 00:00:00       3.3       3.3     0.0\n",
       "\n",
       "[43848 rows x 4 columns]"
      ]
     },
     "execution_count": 20,
     "metadata": {},
     "output_type": "execute_result"
    }
   ],
   "source": [
    "raw_weather_data"
   ]
  },
  {
   "cell_type": "markdown",
   "metadata": {},
   "source": [
    "*As you can see below the \"raw_weather_data\" data frame does not contain null values, hence we don't need to thing how to handle those, in regard of deleting data tuples or data attributes or filling these with artifical values. It has over 43.354 entries.*\n",
    "\n",
    "*It contains following attributes:*\n",
    "- *date_time (datetime64)*\n",
    "- *max_temp (float64)*\n",
    "- *min_temp (float64)*\n",
    "- *precip (float64)*"
   ]
  },
  {
   "cell_type": "code",
   "execution_count": 21,
   "metadata": {},
   "outputs": [
    {
     "name": "stdout",
     "output_type": "stream",
     "text": [
      "<class 'pandas.core.frame.DataFrame'>\n",
      "RangeIndex: 43848 entries, 0 to 43847\n",
      "Data columns (total 4 columns):\n",
      " #   Column     Non-Null Count  Dtype  \n",
      "---  ------     --------------  -----  \n",
      " 0   date_time  43354 non-null  object \n",
      " 1   max_temp   43354 non-null  float64\n",
      " 2   min_temp   43354 non-null  float64\n",
      " 3   precip     43356 non-null  float64\n",
      "dtypes: float64(3), object(1)\n",
      "memory usage: 1.3+ MB\n"
     ]
    }
   ],
   "source": [
    "raw_weather_data.info()"
   ]
  },
  {
   "cell_type": "markdown",
   "metadata": {},
   "source": [
    "We wanted to get an overview of all weather extremas from 2015 till 2020.\n",
    "\n",
    "*We can see that the minimum temperature in this period is -22.8 degrees celsius. Moreover we see that the maximum temperature in this period is 36.1 degrees celsius.*"
   ]
  },
  {
   "cell_type": "code",
   "execution_count": 22,
   "metadata": {},
   "outputs": [
    {
     "data": {
      "text/html": [
       "<div>\n",
       "<style scoped>\n",
       "    .dataframe tbody tr th:only-of-type {\n",
       "        vertical-align: middle;\n",
       "    }\n",
       "\n",
       "    .dataframe tbody tr th {\n",
       "        vertical-align: top;\n",
       "    }\n",
       "\n",
       "    .dataframe thead th {\n",
       "        text-align: right;\n",
       "    }\n",
       "</style>\n",
       "<table border=\"1\" class=\"dataframe\">\n",
       "  <thead>\n",
       "    <tr style=\"text-align: right;\">\n",
       "      <th></th>\n",
       "      <th>max_temp</th>\n",
       "      <th>min_temp</th>\n",
       "      <th>precip</th>\n",
       "    </tr>\n",
       "  </thead>\n",
       "  <tbody>\n",
       "    <tr>\n",
       "      <th>count</th>\n",
       "      <td>43354.000000</td>\n",
       "      <td>43354.000000</td>\n",
       "      <td>43356.000000</td>\n",
       "    </tr>\n",
       "    <tr>\n",
       "      <th>mean</th>\n",
       "      <td>11.456717</td>\n",
       "      <td>11.395922</td>\n",
       "      <td>0.095581</td>\n",
       "    </tr>\n",
       "    <tr>\n",
       "      <th>std</th>\n",
       "      <td>10.118606</td>\n",
       "      <td>10.114095</td>\n",
       "      <td>0.294019</td>\n",
       "    </tr>\n",
       "    <tr>\n",
       "      <th>min</th>\n",
       "      <td>-22.800000</td>\n",
       "      <td>-22.800000</td>\n",
       "      <td>0.000000</td>\n",
       "    </tr>\n",
       "    <tr>\n",
       "      <th>25%</th>\n",
       "      <td>3.300000</td>\n",
       "      <td>3.300000</td>\n",
       "      <td>0.000000</td>\n",
       "    </tr>\n",
       "    <tr>\n",
       "      <th>50%</th>\n",
       "      <td>11.700000</td>\n",
       "      <td>11.700000</td>\n",
       "      <td>0.000000</td>\n",
       "    </tr>\n",
       "    <tr>\n",
       "      <th>75%</th>\n",
       "      <td>20.000000</td>\n",
       "      <td>19.850000</td>\n",
       "      <td>0.000000</td>\n",
       "    </tr>\n",
       "    <tr>\n",
       "      <th>max</th>\n",
       "      <td>36.100000</td>\n",
       "      <td>36.100000</td>\n",
       "      <td>1.000000</td>\n",
       "    </tr>\n",
       "  </tbody>\n",
       "</table>\n",
       "</div>"
      ],
      "text/plain": [
       "           max_temp      min_temp        precip\n",
       "count  43354.000000  43354.000000  43356.000000\n",
       "mean      11.456717     11.395922      0.095581\n",
       "std       10.118606     10.114095      0.294019\n",
       "min      -22.800000    -22.800000      0.000000\n",
       "25%        3.300000      3.300000      0.000000\n",
       "50%       11.700000     11.700000      0.000000\n",
       "75%       20.000000     19.850000      0.000000\n",
       "max       36.100000     36.100000      1.000000"
      ]
     },
     "execution_count": 22,
     "metadata": {},
     "output_type": "execute_result"
    }
   ],
   "source": [
    "raw_weather_data.describe()"
   ]
  },
  {
   "cell_type": "markdown",
   "metadata": {},
   "source": [
    "In the following we are filtering the weather data to instances of the year 2017."
   ]
  },
  {
   "cell_type": "code",
   "execution_count": 23,
   "metadata": {},
   "outputs": [
    {
     "name": "stdout",
     "output_type": "stream",
     "text": [
      "<class 'pandas.core.frame.DataFrame'>\n",
      "Int64Index: 8667 entries, 17520 to 26279\n",
      "Data columns (total 4 columns):\n",
      " #   Column     Non-Null Count  Dtype         \n",
      "---  ------     --------------  -----         \n",
      " 0   date_time  8667 non-null   datetime64[ns]\n",
      " 1   max_temp   8667 non-null   float64       \n",
      " 2   min_temp   8667 non-null   float64       \n",
      " 3   precip     8667 non-null   float64       \n",
      "dtypes: datetime64[ns](1), float64(3)\n",
      "memory usage: 338.6 KB\n"
     ]
    }
   ],
   "source": [
    "first_date = datetime(year=2017,day=1,month=1)\n",
    "last_date  = datetime(year=2017,day=31,month=12)\n",
    "\n",
    "helper = raw_weather_data\n",
    "helper[\"date_time\"] = pd.to_datetime(helper[\"date_time\"])\n",
    "\n",
    "weather_data = helper[(helper[\"date_time\"]>=first_date)&(helper[\"date_time\"]<=last_date)]\n",
    "weather_data.info()"
   ]
  },
  {
   "cell_type": "markdown",
   "metadata": {},
   "source": [
    "We are checking the wheater data for duplicates.\n",
    "\n",
    "*As we can see the number of data tuples decreases from 8.667 to 8.535, so there were 132 duplicates in the data frame. In addition to that there are actually entries missing. Mathematically there should be 8.760 entries, if we would have a full dataset for every hour in the year 2017. That means we are missing 225 hours. In the following we are ignored trips with the missing hours, as we still have 97.4% of the data. We thought to fill the missing wheater hours with the same values as the day before, but opted to not do so as 97.4% still marks a representative value.*"
   ]
  },
  {
   "cell_type": "code",
   "execution_count": 24,
   "metadata": {},
   "outputs": [
    {
     "name": "stdout",
     "output_type": "stream",
     "text": [
      "<class 'pandas.core.frame.DataFrame'>\n",
      "Int64Index: 8535 entries, 17520 to 26279\n",
      "Data columns (total 4 columns):\n",
      " #   Column     Non-Null Count  Dtype         \n",
      "---  ------     --------------  -----         \n",
      " 0   date_time  8535 non-null   datetime64[ns]\n",
      " 1   max_temp   8535 non-null   float64       \n",
      " 2   min_temp   8535 non-null   float64       \n",
      " 3   precip     8535 non-null   float64       \n",
      "dtypes: datetime64[ns](1), float64(3)\n",
      "memory usage: 333.4 KB\n"
     ]
    }
   ],
   "source": [
    "weather_data = weather_data.drop_duplicates()\n",
    "weather_data.info()"
   ]
  },
  {
   "cell_type": "markdown",
   "metadata": {},
   "source": [
    "*We can see that the minimum temperature in the year 2017 for the city Boston is -16.7 degrees celsius and the mmaximum temperature is 35.0 degrees celsius. As we thought that this could be true, because of the such high intervall we checked with the national climate website for boston. Click [here](https://www.currentresults.com/Yearly-Weather/USA/MA/Boston/extreme-annual-boston-low-temperature.php) for minimum temperature and check [here](https://www.currentresults.com/Yearly-Weather/USA/MA/Boston/extreme-annual-boston-high-temperature.php) for the highest temperature. They have similar values, so we expect the data set to contain the right data.*"
   ]
  },
  {
   "cell_type": "code",
   "execution_count": 25,
   "metadata": {},
   "outputs": [
    {
     "data": {
      "text/html": [
       "<div>\n",
       "<style scoped>\n",
       "    .dataframe tbody tr th:only-of-type {\n",
       "        vertical-align: middle;\n",
       "    }\n",
       "\n",
       "    .dataframe tbody tr th {\n",
       "        vertical-align: top;\n",
       "    }\n",
       "\n",
       "    .dataframe thead th {\n",
       "        text-align: right;\n",
       "    }\n",
       "</style>\n",
       "<table border=\"1\" class=\"dataframe\">\n",
       "  <thead>\n",
       "    <tr style=\"text-align: right;\">\n",
       "      <th></th>\n",
       "      <th>max_temp</th>\n",
       "      <th>min_temp</th>\n",
       "      <th>precip</th>\n",
       "    </tr>\n",
       "  </thead>\n",
       "  <tbody>\n",
       "    <tr>\n",
       "      <th>count</th>\n",
       "      <td>8535.000000</td>\n",
       "      <td>8535.000000</td>\n",
       "      <td>8535.000000</td>\n",
       "    </tr>\n",
       "    <tr>\n",
       "      <th>mean</th>\n",
       "      <td>11.441640</td>\n",
       "      <td>11.382835</td>\n",
       "      <td>0.097832</td>\n",
       "    </tr>\n",
       "    <tr>\n",
       "      <th>std</th>\n",
       "      <td>9.893197</td>\n",
       "      <td>9.889018</td>\n",
       "      <td>0.297105</td>\n",
       "    </tr>\n",
       "    <tr>\n",
       "      <th>min</th>\n",
       "      <td>-16.700000</td>\n",
       "      <td>-16.700000</td>\n",
       "      <td>0.000000</td>\n",
       "    </tr>\n",
       "    <tr>\n",
       "      <th>25%</th>\n",
       "      <td>3.900000</td>\n",
       "      <td>3.900000</td>\n",
       "      <td>0.000000</td>\n",
       "    </tr>\n",
       "    <tr>\n",
       "      <th>50%</th>\n",
       "      <td>11.700000</td>\n",
       "      <td>11.700000</td>\n",
       "      <td>0.000000</td>\n",
       "    </tr>\n",
       "    <tr>\n",
       "      <th>75%</th>\n",
       "      <td>19.400000</td>\n",
       "      <td>19.400000</td>\n",
       "      <td>0.000000</td>\n",
       "    </tr>\n",
       "    <tr>\n",
       "      <th>max</th>\n",
       "      <td>35.000000</td>\n",
       "      <td>35.000000</td>\n",
       "      <td>1.000000</td>\n",
       "    </tr>\n",
       "  </tbody>\n",
       "</table>\n",
       "</div>"
      ],
      "text/plain": [
       "          max_temp     min_temp       precip\n",
       "count  8535.000000  8535.000000  8535.000000\n",
       "mean     11.441640    11.382835     0.097832\n",
       "std       9.893197     9.889018     0.297105\n",
       "min     -16.700000   -16.700000     0.000000\n",
       "25%       3.900000     3.900000     0.000000\n",
       "50%      11.700000    11.700000     0.000000\n",
       "75%      19.400000    19.400000     0.000000\n",
       "max      35.000000    35.000000     1.000000"
      ]
     },
     "execution_count": 25,
     "metadata": {},
     "output_type": "execute_result"
    }
   ],
   "source": [
    "weather_data.describe()"
   ]
  },
  {
   "cell_type": "markdown",
   "metadata": {},
   "source": [
    "## Station Location - Collection & Preparation"
   ]
  },
  {
   "cell_type": "markdown",
   "metadata": {},
   "source": [
    "Here we are reading the \"current_bluebikes_stations.csv\" file into the juypter notebook, so that in the following we can work with the mentioned data set."
   ]
  },
  {
   "cell_type": "code",
   "execution_count": 26,
   "metadata": {
    "scrolled": true
   },
   "outputs": [],
   "source": [
    "raw_station_location_data = pd.read_csv(\"current_bluebikes_stations.csv\")\n",
    "#Please download the \"current_bluebikes_stations.csv\" file and place it in the same folder in which this juypter notebook is saved."
   ]
  },
  {
   "cell_type": "markdown",
   "metadata": {},
   "source": [
    "*As we can see we need to modify the data set as the describing attribute columns are one entry two low.*"
   ]
  },
  {
   "cell_type": "code",
   "execution_count": 27,
   "metadata": {},
   "outputs": [
    {
     "data": {
      "text/html": [
       "<div>\n",
       "<style scoped>\n",
       "    .dataframe tbody tr th:only-of-type {\n",
       "        vertical-align: middle;\n",
       "    }\n",
       "\n",
       "    .dataframe tbody tr th {\n",
       "        vertical-align: top;\n",
       "    }\n",
       "\n",
       "    .dataframe thead th {\n",
       "        text-align: right;\n",
       "    }\n",
       "</style>\n",
       "<table border=\"1\" class=\"dataframe\">\n",
       "  <thead>\n",
       "    <tr style=\"text-align: right;\">\n",
       "      <th></th>\n",
       "      <th>Last Updated</th>\n",
       "      <th>June 11th 2021</th>\n",
       "      <th>Unnamed: 2</th>\n",
       "      <th>Unnamed: 3</th>\n",
       "      <th>Unnamed: 4</th>\n",
       "      <th>Unnamed: 5</th>\n",
       "      <th>Unnamed: 6</th>\n",
       "    </tr>\n",
       "  </thead>\n",
       "  <tbody>\n",
       "    <tr>\n",
       "      <th>0</th>\n",
       "      <td>Number</td>\n",
       "      <td>Name</td>\n",
       "      <td>Latitude</td>\n",
       "      <td>Longitude</td>\n",
       "      <td>District</td>\n",
       "      <td>Public</td>\n",
       "      <td>Total docks</td>\n",
       "    </tr>\n",
       "    <tr>\n",
       "      <th>1</th>\n",
       "      <td>W32006</td>\n",
       "      <td>160 Arsenal</td>\n",
       "      <td>42.36466403</td>\n",
       "      <td>-71.17569387</td>\n",
       "      <td>Watertown</td>\n",
       "      <td>Yes</td>\n",
       "      <td>11</td>\n",
       "    </tr>\n",
       "    <tr>\n",
       "      <th>2</th>\n",
       "      <td>A32019</td>\n",
       "      <td>175 N Harvard St</td>\n",
       "      <td>42.363796</td>\n",
       "      <td>-71.129164</td>\n",
       "      <td>Boston</td>\n",
       "      <td>Yes</td>\n",
       "      <td>18</td>\n",
       "    </tr>\n",
       "    <tr>\n",
       "      <th>3</th>\n",
       "      <td>S32035</td>\n",
       "      <td>191 Beacon St</td>\n",
       "      <td>42.38032335</td>\n",
       "      <td>-71.10878613</td>\n",
       "      <td>Somerville</td>\n",
       "      <td>Yes</td>\n",
       "      <td>19</td>\n",
       "    </tr>\n",
       "    <tr>\n",
       "      <th>4</th>\n",
       "      <td>C32094</td>\n",
       "      <td>2 Hummingbird Lane at Olmsted Green</td>\n",
       "      <td>42.28887</td>\n",
       "      <td>-71.095003</td>\n",
       "      <td>Boston</td>\n",
       "      <td>Yes</td>\n",
       "      <td>17</td>\n",
       "    </tr>\n",
       "    <tr>\n",
       "      <th>...</th>\n",
       "      <td>...</td>\n",
       "      <td>...</td>\n",
       "      <td>...</td>\n",
       "      <td>...</td>\n",
       "      <td>...</td>\n",
       "      <td>...</td>\n",
       "      <td>...</td>\n",
       "    </tr>\n",
       "    <tr>\n",
       "      <th>374</th>\n",
       "      <td>N32006</td>\n",
       "      <td>West Newton Armory</td>\n",
       "      <td>42.34947178</td>\n",
       "      <td>-71.22000679</td>\n",
       "      <td>Newton</td>\n",
       "      <td>Yes</td>\n",
       "      <td>11</td>\n",
       "    </tr>\n",
       "    <tr>\n",
       "      <th>375</th>\n",
       "      <td>A32043</td>\n",
       "      <td>Western Ave at Richardson St</td>\n",
       "      <td>42.36178741</td>\n",
       "      <td>-71.14393111</td>\n",
       "      <td>Boston</td>\n",
       "      <td>Yes</td>\n",
       "      <td>19</td>\n",
       "    </tr>\n",
       "    <tr>\n",
       "      <th>376</th>\n",
       "      <td>B32059</td>\n",
       "      <td>Whittier St Health Center</td>\n",
       "      <td>42.33286288</td>\n",
       "      <td>-71.09218862</td>\n",
       "      <td>Boston</td>\n",
       "      <td>Yes</td>\n",
       "      <td>19</td>\n",
       "    </tr>\n",
       "    <tr>\n",
       "      <th>377</th>\n",
       "      <td>D32040</td>\n",
       "      <td>Williams St at Washington St</td>\n",
       "      <td>42.306539</td>\n",
       "      <td>-71.107669</td>\n",
       "      <td>Boston</td>\n",
       "      <td>Yes</td>\n",
       "      <td>19</td>\n",
       "    </tr>\n",
       "    <tr>\n",
       "      <th>378</th>\n",
       "      <td>S32005</td>\n",
       "      <td>Wilson Square</td>\n",
       "      <td>42.38567579</td>\n",
       "      <td>-71.11412136</td>\n",
       "      <td>Somerville</td>\n",
       "      <td>Yes</td>\n",
       "      <td>15</td>\n",
       "    </tr>\n",
       "  </tbody>\n",
       "</table>\n",
       "<p>379 rows × 7 columns</p>\n",
       "</div>"
      ],
      "text/plain": [
       "    Last Updated                       June 11th 2021   Unnamed: 2  \\\n",
       "0         Number                                 Name     Latitude   \n",
       "1         W32006                          160 Arsenal  42.36466403   \n",
       "2         A32019                     175 N Harvard St    42.363796   \n",
       "3         S32035                        191 Beacon St  42.38032335   \n",
       "4         C32094  2 Hummingbird Lane at Olmsted Green     42.28887   \n",
       "..           ...                                  ...          ...   \n",
       "374       N32006                   West Newton Armory  42.34947178   \n",
       "375       A32043         Western Ave at Richardson St  42.36178741   \n",
       "376       B32059            Whittier St Health Center  42.33286288   \n",
       "377       D32040         Williams St at Washington St    42.306539   \n",
       "378       S32005                        Wilson Square  42.38567579   \n",
       "\n",
       "       Unnamed: 3  Unnamed: 4 Unnamed: 5   Unnamed: 6  \n",
       "0       Longitude    District     Public  Total docks  \n",
       "1    -71.17569387   Watertown        Yes           11  \n",
       "2      -71.129164      Boston        Yes           18  \n",
       "3    -71.10878613  Somerville        Yes           19  \n",
       "4      -71.095003      Boston        Yes           17  \n",
       "..            ...         ...        ...          ...  \n",
       "374  -71.22000679      Newton        Yes           11  \n",
       "375  -71.14393111      Boston        Yes           19  \n",
       "376  -71.09218862      Boston        Yes           19  \n",
       "377    -71.107669      Boston        Yes           19  \n",
       "378  -71.11412136  Somerville        Yes           15  \n",
       "\n",
       "[379 rows x 7 columns]"
      ]
     },
     "execution_count": 27,
     "metadata": {},
     "output_type": "execute_result"
    }
   ],
   "source": [
    "raw_station_location_data"
   ]
  },
  {
   "cell_type": "markdown",
   "metadata": {},
   "source": [
    "The mentioned required changes are made here."
   ]
  },
  {
   "cell_type": "code",
   "execution_count": 28,
   "metadata": {},
   "outputs": [],
   "source": [
    "station_location = raw_station_location_data\n",
    "station_location.drop(0,inplace=True)\n",
    "station_location.rename(columns={'Last Updated':'Number','June 11th 2021':'Name','Unnamed: 2':'Latitude','Unnamed: 3':'Longitude','Unnamed: 4':'District',\n",
    "                                 'Unnamed: 5':'Public','Unnamed: 6':'Total Docks'}, inplace = True)"
   ]
  },
  {
   "cell_type": "markdown",
   "metadata": {},
   "source": [
    "*The data cleanage works as we can see ten plausible entries.*"
   ]
  },
  {
   "cell_type": "code",
   "execution_count": 29,
   "metadata": {},
   "outputs": [
    {
     "data": {
      "text/html": [
       "<div>\n",
       "<style scoped>\n",
       "    .dataframe tbody tr th:only-of-type {\n",
       "        vertical-align: middle;\n",
       "    }\n",
       "\n",
       "    .dataframe tbody tr th {\n",
       "        vertical-align: top;\n",
       "    }\n",
       "\n",
       "    .dataframe thead th {\n",
       "        text-align: right;\n",
       "    }\n",
       "</style>\n",
       "<table border=\"1\" class=\"dataframe\">\n",
       "  <thead>\n",
       "    <tr style=\"text-align: right;\">\n",
       "      <th></th>\n",
       "      <th>Number</th>\n",
       "      <th>Name</th>\n",
       "      <th>Latitude</th>\n",
       "      <th>Longitude</th>\n",
       "      <th>District</th>\n",
       "      <th>Public</th>\n",
       "      <th>Total Docks</th>\n",
       "    </tr>\n",
       "  </thead>\n",
       "  <tbody>\n",
       "    <tr>\n",
       "      <th>1</th>\n",
       "      <td>W32006</td>\n",
       "      <td>160 Arsenal</td>\n",
       "      <td>42.36466403</td>\n",
       "      <td>-71.17569387</td>\n",
       "      <td>Watertown</td>\n",
       "      <td>Yes</td>\n",
       "      <td>11</td>\n",
       "    </tr>\n",
       "    <tr>\n",
       "      <th>2</th>\n",
       "      <td>A32019</td>\n",
       "      <td>175 N Harvard St</td>\n",
       "      <td>42.363796</td>\n",
       "      <td>-71.129164</td>\n",
       "      <td>Boston</td>\n",
       "      <td>Yes</td>\n",
       "      <td>18</td>\n",
       "    </tr>\n",
       "    <tr>\n",
       "      <th>3</th>\n",
       "      <td>S32035</td>\n",
       "      <td>191 Beacon St</td>\n",
       "      <td>42.38032335</td>\n",
       "      <td>-71.10878613</td>\n",
       "      <td>Somerville</td>\n",
       "      <td>Yes</td>\n",
       "      <td>19</td>\n",
       "    </tr>\n",
       "    <tr>\n",
       "      <th>4</th>\n",
       "      <td>C32094</td>\n",
       "      <td>2 Hummingbird Lane at Olmsted Green</td>\n",
       "      <td>42.28887</td>\n",
       "      <td>-71.095003</td>\n",
       "      <td>Boston</td>\n",
       "      <td>Yes</td>\n",
       "      <td>17</td>\n",
       "    </tr>\n",
       "    <tr>\n",
       "      <th>5</th>\n",
       "      <td>S32023</td>\n",
       "      <td>30 Dane St</td>\n",
       "      <td>42.38100143</td>\n",
       "      <td>-71.10402523</td>\n",
       "      <td>Somerville</td>\n",
       "      <td>Yes</td>\n",
       "      <td>15</td>\n",
       "    </tr>\n",
       "    <tr>\n",
       "      <th>6</th>\n",
       "      <td>M32026</td>\n",
       "      <td>359 Broadway - Broadway at Fayette Street</td>\n",
       "      <td>42.370803</td>\n",
       "      <td>-71.104412</td>\n",
       "      <td>Cambridge</td>\n",
       "      <td>Yes</td>\n",
       "      <td>23</td>\n",
       "    </tr>\n",
       "    <tr>\n",
       "      <th>7</th>\n",
       "      <td>C32091</td>\n",
       "      <td>645 Summer St</td>\n",
       "      <td>42.34178089</td>\n",
       "      <td>-71.03987017</td>\n",
       "      <td>Boston</td>\n",
       "      <td>Yes</td>\n",
       "      <td>19</td>\n",
       "    </tr>\n",
       "    <tr>\n",
       "      <th>8</th>\n",
       "      <td>M32054</td>\n",
       "      <td>699 Mt Auburn St</td>\n",
       "      <td>42.37500235</td>\n",
       "      <td>-71.14871614</td>\n",
       "      <td>Cambridge</td>\n",
       "      <td>Yes</td>\n",
       "      <td>25</td>\n",
       "    </tr>\n",
       "    <tr>\n",
       "      <th>9</th>\n",
       "      <td>V32001</td>\n",
       "      <td>7 Acre Park</td>\n",
       "      <td>42.41143223</td>\n",
       "      <td>-71.06823265</td>\n",
       "      <td>Everett</td>\n",
       "      <td>Yes</td>\n",
       "      <td>15</td>\n",
       "    </tr>\n",
       "    <tr>\n",
       "      <th>10</th>\n",
       "      <td>B32060</td>\n",
       "      <td>700 Commonwealth Ave.</td>\n",
       "      <td>42.34960945</td>\n",
       "      <td>-71.10391524</td>\n",
       "      <td>Boston</td>\n",
       "      <td>Yes</td>\n",
       "      <td>16</td>\n",
       "    </tr>\n",
       "  </tbody>\n",
       "</table>\n",
       "</div>"
      ],
      "text/plain": [
       "    Number                                       Name     Latitude  \\\n",
       "1   W32006                                160 Arsenal  42.36466403   \n",
       "2   A32019                           175 N Harvard St    42.363796   \n",
       "3   S32035                              191 Beacon St  42.38032335   \n",
       "4   C32094        2 Hummingbird Lane at Olmsted Green     42.28887   \n",
       "5   S32023                                 30 Dane St  42.38100143   \n",
       "6   M32026  359 Broadway - Broadway at Fayette Street    42.370803   \n",
       "7   C32091                              645 Summer St  42.34178089   \n",
       "8   M32054                           699 Mt Auburn St  42.37500235   \n",
       "9   V32001                                7 Acre Park  42.41143223   \n",
       "10  B32060                      700 Commonwealth Ave.  42.34960945   \n",
       "\n",
       "       Longitude    District Public Total Docks  \n",
       "1   -71.17569387   Watertown    Yes          11  \n",
       "2     -71.129164      Boston    Yes          18  \n",
       "3   -71.10878613  Somerville    Yes          19  \n",
       "4     -71.095003      Boston    Yes          17  \n",
       "5   -71.10402523  Somerville    Yes          15  \n",
       "6     -71.104412   Cambridge    Yes          23  \n",
       "7   -71.03987017      Boston    Yes          19  \n",
       "8   -71.14871614   Cambridge    Yes          25  \n",
       "9   -71.06823265     Everett    Yes          15  \n",
       "10  -71.10391524      Boston    Yes          16  "
      ]
     },
     "execution_count": 29,
     "metadata": {},
     "output_type": "execute_result"
    }
   ],
   "source": [
    "station_location.head(10)"
   ]
  },
  {
   "cell_type": "markdown",
   "metadata": {},
   "source": [
    "Here we are checking for null values.\n",
    "\n",
    "*Null values occur for the attribut \"District\". We do not need to cancel those, because this attribut will not be used in the following.*"
   ]
  },
  {
   "cell_type": "code",
   "execution_count": 30,
   "metadata": {},
   "outputs": [
    {
     "name": "stdout",
     "output_type": "stream",
     "text": [
      "<class 'pandas.core.frame.DataFrame'>\n",
      "Int64Index: 378 entries, 1 to 378\n",
      "Data columns (total 7 columns):\n",
      " #   Column       Non-Null Count  Dtype \n",
      "---  ------       --------------  ----- \n",
      " 0   Number       378 non-null    object\n",
      " 1   Name         378 non-null    object\n",
      " 2   Latitude     378 non-null    object\n",
      " 3   Longitude    378 non-null    object\n",
      " 4   District     375 non-null    object\n",
      " 5   Public       378 non-null    object\n",
      " 6   Total Docks  378 non-null    object\n",
      "dtypes: object(7)\n",
      "memory usage: 23.6+ KB\n"
     ]
    }
   ],
   "source": [
    "station_location.info()"
   ]
  },
  {
   "cell_type": "markdown",
   "metadata": {},
   "source": [
    "## Merge \"trip_data\" with \"weather_data\" for further use"
   ]
  },
  {
   "cell_type": "markdown",
   "metadata": {},
   "source": [
    "We use an inner join to connect both data sets."
   ]
  },
  {
   "cell_type": "code",
   "execution_count": 31,
   "metadata": {},
   "outputs": [
    {
     "data": {
      "text/html": [
       "<div>\n",
       "<style scoped>\n",
       "    .dataframe tbody tr th:only-of-type {\n",
       "        vertical-align: middle;\n",
       "    }\n",
       "\n",
       "    .dataframe tbody tr th {\n",
       "        vertical-align: top;\n",
       "    }\n",
       "\n",
       "    .dataframe thead th {\n",
       "        text-align: right;\n",
       "    }\n",
       "</style>\n",
       "<table border=\"1\" class=\"dataframe\">\n",
       "  <thead>\n",
       "    <tr style=\"text-align: right;\">\n",
       "      <th></th>\n",
       "      <th>start_time</th>\n",
       "      <th>end_time</th>\n",
       "      <th>start_station_id</th>\n",
       "      <th>end_station_id</th>\n",
       "      <th>start_station_name</th>\n",
       "      <th>end_station_name</th>\n",
       "      <th>bike_id</th>\n",
       "      <th>user_type</th>\n",
       "      <th>hour</th>\n",
       "      <th>duration</th>\n",
       "      <th>date_time</th>\n",
       "      <th>Date</th>\n",
       "      <th>Rented</th>\n",
       "      <th>Weekday</th>\n",
       "      <th>max_temp</th>\n",
       "      <th>min_temp</th>\n",
       "      <th>precip</th>\n",
       "    </tr>\n",
       "  </thead>\n",
       "  <tbody>\n",
       "    <tr>\n",
       "      <th>0</th>\n",
       "      <td>2017-01-01 00:06:58</td>\n",
       "      <td>2017-01-01 00:12:49</td>\n",
       "      <td>67</td>\n",
       "      <td>139</td>\n",
       "      <td>MIT at Mass Ave / Amherst St</td>\n",
       "      <td>Dana Park</td>\n",
       "      <td>644</td>\n",
       "      <td>Subscriber</td>\n",
       "      <td>0</td>\n",
       "      <td>0 days 00:05:51</td>\n",
       "      <td>2017-01-01</td>\n",
       "      <td>2017-01-01</td>\n",
       "      <td>1</td>\n",
       "      <td>6</td>\n",
       "      <td>3.9</td>\n",
       "      <td>3.9</td>\n",
       "      <td>0.0</td>\n",
       "    </tr>\n",
       "    <tr>\n",
       "      <th>1</th>\n",
       "      <td>2017-01-01 00:13:16</td>\n",
       "      <td>2017-01-01 00:28:07</td>\n",
       "      <td>36</td>\n",
       "      <td>10</td>\n",
       "      <td>Boston Public Library - 700 Boylston St.</td>\n",
       "      <td>B.U. Central - 725 Comm. Ave.</td>\n",
       "      <td>230</td>\n",
       "      <td>Subscriber</td>\n",
       "      <td>0</td>\n",
       "      <td>0 days 00:14:51</td>\n",
       "      <td>2017-01-01</td>\n",
       "      <td>2017-01-01</td>\n",
       "      <td>1</td>\n",
       "      <td>6</td>\n",
       "      <td>3.9</td>\n",
       "      <td>3.9</td>\n",
       "      <td>0.0</td>\n",
       "    </tr>\n",
       "    <tr>\n",
       "      <th>2</th>\n",
       "      <td>2017-01-01 00:16:17</td>\n",
       "      <td>2017-01-01 00:44:10</td>\n",
       "      <td>36</td>\n",
       "      <td>9</td>\n",
       "      <td>Boston Public Library - 700 Boylston St.</td>\n",
       "      <td>Agganis Arena - 925 Comm Ave.</td>\n",
       "      <td>980</td>\n",
       "      <td>Customer</td>\n",
       "      <td>0</td>\n",
       "      <td>0 days 00:27:53</td>\n",
       "      <td>2017-01-01</td>\n",
       "      <td>2017-01-01</td>\n",
       "      <td>1</td>\n",
       "      <td>6</td>\n",
       "      <td>3.9</td>\n",
       "      <td>3.9</td>\n",
       "      <td>0.0</td>\n",
       "    </tr>\n",
       "    <tr>\n",
       "      <th>3</th>\n",
       "      <td>2017-01-01 00:21:22</td>\n",
       "      <td>2017-01-01 00:33:50</td>\n",
       "      <td>46</td>\n",
       "      <td>19</td>\n",
       "      <td>Christian Science Plaza</td>\n",
       "      <td>Buswell St. at Park Dr.</td>\n",
       "      <td>1834</td>\n",
       "      <td>Subscriber</td>\n",
       "      <td>0</td>\n",
       "      <td>0 days 00:12:28</td>\n",
       "      <td>2017-01-01</td>\n",
       "      <td>2017-01-01</td>\n",
       "      <td>1</td>\n",
       "      <td>6</td>\n",
       "      <td>3.9</td>\n",
       "      <td>3.9</td>\n",
       "      <td>0.0</td>\n",
       "    </tr>\n",
       "    <tr>\n",
       "      <th>4</th>\n",
       "      <td>2017-01-01 00:30:06</td>\n",
       "      <td>2017-01-01 00:40:28</td>\n",
       "      <td>10</td>\n",
       "      <td>8</td>\n",
       "      <td>B.U. Central - 725 Comm. Ave.</td>\n",
       "      <td>Union Square - Brighton Ave. at Cambridge St.</td>\n",
       "      <td>230</td>\n",
       "      <td>Subscriber</td>\n",
       "      <td>0</td>\n",
       "      <td>0 days 00:10:22</td>\n",
       "      <td>2017-01-01</td>\n",
       "      <td>2017-01-01</td>\n",
       "      <td>1</td>\n",
       "      <td>6</td>\n",
       "      <td>3.9</td>\n",
       "      <td>3.9</td>\n",
       "      <td>0.0</td>\n",
       "    </tr>\n",
       "    <tr>\n",
       "      <th>...</th>\n",
       "      <td>...</td>\n",
       "      <td>...</td>\n",
       "      <td>...</td>\n",
       "      <td>...</td>\n",
       "      <td>...</td>\n",
       "      <td>...</td>\n",
       "      <td>...</td>\n",
       "      <td>...</td>\n",
       "      <td>...</td>\n",
       "      <td>...</td>\n",
       "      <td>...</td>\n",
       "      <td>...</td>\n",
       "      <td>...</td>\n",
       "      <td>...</td>\n",
       "      <td>...</td>\n",
       "      <td>...</td>\n",
       "      <td>...</td>\n",
       "    </tr>\n",
       "    <tr>\n",
       "      <th>1271762</th>\n",
       "      <td>2017-12-31 00:16:21</td>\n",
       "      <td>2017-12-31 00:40:04</td>\n",
       "      <td>66</td>\n",
       "      <td>91</td>\n",
       "      <td>Allston Green District - Griggs St at Commonwe...</td>\n",
       "      <td>One Kendall Square at Hampshire St / Portland St</td>\n",
       "      <td>325</td>\n",
       "      <td>Subscriber</td>\n",
       "      <td>0</td>\n",
       "      <td>0 days 00:23:43</td>\n",
       "      <td>2017-12-31</td>\n",
       "      <td>2017-12-31</td>\n",
       "      <td>1</td>\n",
       "      <td>6</td>\n",
       "      <td>-7.8</td>\n",
       "      <td>-7.8</td>\n",
       "      <td>0.0</td>\n",
       "    </tr>\n",
       "    <tr>\n",
       "      <th>1271763</th>\n",
       "      <td>2017-12-31 00:28:08</td>\n",
       "      <td>2017-12-31 00:33:06</td>\n",
       "      <td>12</td>\n",
       "      <td>27</td>\n",
       "      <td>Ruggles T Stop - Columbus Ave at Melnea Cass Blvd</td>\n",
       "      <td>Roxbury Crossing T Stop - Columbus Ave at Trem...</td>\n",
       "      <td>1709</td>\n",
       "      <td>Subscriber</td>\n",
       "      <td>0</td>\n",
       "      <td>0 days 00:04:58</td>\n",
       "      <td>2017-12-31</td>\n",
       "      <td>2017-12-31</td>\n",
       "      <td>1</td>\n",
       "      <td>6</td>\n",
       "      <td>-7.8</td>\n",
       "      <td>-7.8</td>\n",
       "      <td>0.0</td>\n",
       "    </tr>\n",
       "    <tr>\n",
       "      <th>1271764</th>\n",
       "      <td>2017-12-31 00:42:58</td>\n",
       "      <td>2017-12-31 00:52:44</td>\n",
       "      <td>76</td>\n",
       "      <td>179</td>\n",
       "      <td>Central Sq Post Office / Cambridge City Hall a...</td>\n",
       "      <td>MIT Vassar St</td>\n",
       "      <td>762</td>\n",
       "      <td>Subscriber</td>\n",
       "      <td>0</td>\n",
       "      <td>0 days 00:09:46</td>\n",
       "      <td>2017-12-31</td>\n",
       "      <td>2017-12-31</td>\n",
       "      <td>1</td>\n",
       "      <td>6</td>\n",
       "      <td>-7.8</td>\n",
       "      <td>-7.8</td>\n",
       "      <td>0.0</td>\n",
       "    </tr>\n",
       "    <tr>\n",
       "      <th>1271765</th>\n",
       "      <td>2017-12-31 00:54:06</td>\n",
       "      <td>2017-12-31 00:59:29</td>\n",
       "      <td>36</td>\n",
       "      <td>81</td>\n",
       "      <td>Copley Square - Dartmouth St at Boylston St</td>\n",
       "      <td>Boylston St at Washington St</td>\n",
       "      <td>1326</td>\n",
       "      <td>Subscriber</td>\n",
       "      <td>0</td>\n",
       "      <td>0 days 00:05:23</td>\n",
       "      <td>2017-12-31</td>\n",
       "      <td>2017-12-31</td>\n",
       "      <td>1</td>\n",
       "      <td>6</td>\n",
       "      <td>-7.8</td>\n",
       "      <td>-7.8</td>\n",
       "      <td>0.0</td>\n",
       "    </tr>\n",
       "    <tr>\n",
       "      <th>1271766</th>\n",
       "      <td>2017-12-31 00:57:33</td>\n",
       "      <td>2017-12-31 01:03:20</td>\n",
       "      <td>27</td>\n",
       "      <td>131</td>\n",
       "      <td>Roxbury Crossing T Stop - Columbus Ave at Trem...</td>\n",
       "      <td>Jackson Square T Stop</td>\n",
       "      <td>1754</td>\n",
       "      <td>Subscriber</td>\n",
       "      <td>0</td>\n",
       "      <td>0 days 00:05:47</td>\n",
       "      <td>2017-12-31</td>\n",
       "      <td>2017-12-31</td>\n",
       "      <td>1</td>\n",
       "      <td>6</td>\n",
       "      <td>-7.8</td>\n",
       "      <td>-7.8</td>\n",
       "      <td>0.0</td>\n",
       "    </tr>\n",
       "  </tbody>\n",
       "</table>\n",
       "<p>1271767 rows × 17 columns</p>\n",
       "</div>"
      ],
      "text/plain": [
       "                 start_time            end_time  start_station_id  \\\n",
       "0       2017-01-01 00:06:58 2017-01-01 00:12:49                67   \n",
       "1       2017-01-01 00:13:16 2017-01-01 00:28:07                36   \n",
       "2       2017-01-01 00:16:17 2017-01-01 00:44:10                36   \n",
       "3       2017-01-01 00:21:22 2017-01-01 00:33:50                46   \n",
       "4       2017-01-01 00:30:06 2017-01-01 00:40:28                10   \n",
       "...                     ...                 ...               ...   \n",
       "1271762 2017-12-31 00:16:21 2017-12-31 00:40:04                66   \n",
       "1271763 2017-12-31 00:28:08 2017-12-31 00:33:06                12   \n",
       "1271764 2017-12-31 00:42:58 2017-12-31 00:52:44                76   \n",
       "1271765 2017-12-31 00:54:06 2017-12-31 00:59:29                36   \n",
       "1271766 2017-12-31 00:57:33 2017-12-31 01:03:20                27   \n",
       "\n",
       "         end_station_id                                 start_station_name  \\\n",
       "0                   139                       MIT at Mass Ave / Amherst St   \n",
       "1                    10           Boston Public Library - 700 Boylston St.   \n",
       "2                     9           Boston Public Library - 700 Boylston St.   \n",
       "3                    19                            Christian Science Plaza   \n",
       "4                     8                      B.U. Central - 725 Comm. Ave.   \n",
       "...                 ...                                                ...   \n",
       "1271762              91  Allston Green District - Griggs St at Commonwe...   \n",
       "1271763              27  Ruggles T Stop - Columbus Ave at Melnea Cass Blvd   \n",
       "1271764             179  Central Sq Post Office / Cambridge City Hall a...   \n",
       "1271765              81        Copley Square - Dartmouth St at Boylston St   \n",
       "1271766             131  Roxbury Crossing T Stop - Columbus Ave at Trem...   \n",
       "\n",
       "                                          end_station_name  bike_id  \\\n",
       "0                                                Dana Park      644   \n",
       "1                            B.U. Central - 725 Comm. Ave.      230   \n",
       "2                            Agganis Arena - 925 Comm Ave.      980   \n",
       "3                                  Buswell St. at Park Dr.     1834   \n",
       "4            Union Square - Brighton Ave. at Cambridge St.      230   \n",
       "...                                                    ...      ...   \n",
       "1271762   One Kendall Square at Hampshire St / Portland St      325   \n",
       "1271763  Roxbury Crossing T Stop - Columbus Ave at Trem...     1709   \n",
       "1271764                                      MIT Vassar St      762   \n",
       "1271765                       Boylston St at Washington St     1326   \n",
       "1271766                              Jackson Square T Stop     1754   \n",
       "\n",
       "          user_type  hour        duration  date_time        Date  Rented  \\\n",
       "0        Subscriber     0 0 days 00:05:51 2017-01-01  2017-01-01       1   \n",
       "1        Subscriber     0 0 days 00:14:51 2017-01-01  2017-01-01       1   \n",
       "2          Customer     0 0 days 00:27:53 2017-01-01  2017-01-01       1   \n",
       "3        Subscriber     0 0 days 00:12:28 2017-01-01  2017-01-01       1   \n",
       "4        Subscriber     0 0 days 00:10:22 2017-01-01  2017-01-01       1   \n",
       "...             ...   ...             ...        ...         ...     ...   \n",
       "1271762  Subscriber     0 0 days 00:23:43 2017-12-31  2017-12-31       1   \n",
       "1271763  Subscriber     0 0 days 00:04:58 2017-12-31  2017-12-31       1   \n",
       "1271764  Subscriber     0 0 days 00:09:46 2017-12-31  2017-12-31       1   \n",
       "1271765  Subscriber     0 0 days 00:05:23 2017-12-31  2017-12-31       1   \n",
       "1271766  Subscriber     0 0 days 00:05:47 2017-12-31  2017-12-31       1   \n",
       "\n",
       "         Weekday  max_temp  min_temp  precip  \n",
       "0              6       3.9       3.9     0.0  \n",
       "1              6       3.9       3.9     0.0  \n",
       "2              6       3.9       3.9     0.0  \n",
       "3              6       3.9       3.9     0.0  \n",
       "4              6       3.9       3.9     0.0  \n",
       "...          ...       ...       ...     ...  \n",
       "1271762        6      -7.8      -7.8     0.0  \n",
       "1271763        6      -7.8      -7.8     0.0  \n",
       "1271764        6      -7.8      -7.8     0.0  \n",
       "1271765        6      -7.8      -7.8     0.0  \n",
       "1271766        6      -7.8      -7.8     0.0  \n",
       "\n",
       "[1271767 rows x 17 columns]"
      ]
     },
     "execution_count": 31,
     "metadata": {},
     "output_type": "execute_result"
    }
   ],
   "source": [
    "left  = trip_data\n",
    "right = weather_data\n",
    "inner_merge = pd.merge(left=left, right=right, left_on=\"date_time\", right_on=\"date_time\")\n",
    "inner_merge"
   ]
  },
  {
   "cell_type": "markdown",
   "metadata": {},
   "source": [
    "$\\;\\;\\;\\;\\;\\;$\n",
    "# `Task 2) Descriptive Analysis:`"
   ]
  },
  {
   "cell_type": "markdown",
   "metadata": {},
   "source": [
    "#### Task Description\n",
    "1. `Temporal Demand Patterns and Seasonality:` We demonstrate how fleet usage varies during a day, a week and over the year. Furthermore we are going to explain observed patterns.\n",
    "1. `Geographical Demand Patterns:` We are going to visualize which stations are particularly popular and which are not as well as a rationale why this might be the case.\n",
    "1. `Key Performance Indicators (KPIs):` We define [add number here] KPIs that we would include in a dashboard for a fleet operators. In theory these KPIs provide an immediate overview of the current fleet operations and how well the fleet is doing in terms of utilization, revenue, coverage and/or other business-related aspects. Additonally we explain the rationale behind each KPI and explain why we chose them. We calculate hourly values for the selected KPIs for the year 2017 and visualize them over time. Furthermore we are going to explain observed patterns."
   ]
  },
  {
   "cell_type": "markdown",
   "metadata": {},
   "source": [
    "## Temporal Demand Patterns and Seasonality:"
   ]
  },
  {
   "cell_type": "markdown",
   "metadata": {},
   "source": [
    "Here we are visualizing the effect weather has on the amount of rentals. The first graph shows the influence of the temperature, the second graph shows the influence of the precipiation.\n",
    "\n",
    "*We can see that temperature has a significant effect on the amount of rentals.*"
   ]
  },
  {
   "cell_type": "code",
   "execution_count": 32,
   "metadata": {},
   "outputs": [
    {
     "data": {
      "image/png": "[encoded data removed]",
      "text/plain": [
       "<Figure size 1152x648 with 1 Axes>"
      ]
     },
     "metadata": {},
     "output_type": "display_data"
    }
   ],
   "source": [
    "weather_rentals = inner_merge.groupby(\"min_temp\")[\"Rented\"].sum()\n",
    "\n",
    "Fig_2, ax_2 = plt.subplots(figsize=(16,9))\n",
    "\n",
    "ax_2.plot(weather_rentals, color = \"blue\")\n",
    "\n",
    "ax_2.set_title(\"RENTALS/TEMPERATURE\", fontsize = 20, fontname = \"arial\", color = \"blue\")\n",
    "ax_2.set_ylabel(\"number of rentals\", fontsize = 14, color = \"blue\")\n",
    "ax_2.set_xlabel(\"temperature at the rental\", fontsize = 14, color = \"blue\")\n",
    "\n",
    "plt.show()"
   ]
  },
  {
   "cell_type": "code",
   "execution_count": 33,
   "metadata": {},
   "outputs": [
    {
     "data": {
      "text/plain": [
       "<function matplotlib.pyplot.show(close=None, block=None)>"
      ]
     },
     "execution_count": 33,
     "metadata": {},
     "output_type": "execute_result"
    },
    {
     "data": {
      "image/png": "[encoded data removed]",
      "text/plain": [
       "<Figure size 2160x1440 with 1 Axes>"
      ]
     },
     "metadata": {},
     "output_type": "display_data"
    }
   ],
   "source": [
    "left  = trip_data\n",
    "right = weather_data\n",
    "inner_merge3 = pd.merge(left=left, right=right, left_on=\"date_time\", right_on=\"date_time\")\n",
    "station_rentals = inner_merge3.groupby(\"precip\")[\"Rented\"].sum()\n",
    "df = pd.DataFrame(station_rentals, columns = ['precip','Rented'])\n",
    "df.plot.bar(x = 'precip', y = 'Rented',figsize=(30,20),fontsize = 20, color = \"blue\")\n",
    "bars = ['sun', 'rain/snow']\n",
    "y_pos = np.arange(len(bars))\n",
    "plt.xticks(y_pos, bars)\n",
    "plt.show"
   ]
  },
  {
   "cell_type": "markdown",
   "metadata": {},
   "source": [
    "The following cell creates a visualization, which shows the amount of rentals per hour. We are summing the number on rentals over all 24 hours over the hole year.\n",
    "- At the moment the total of all rented bikes per hour over the hole year is printed (-> needed to be /365 for one day)"
   ]
  },
  {
   "cell_type": "code",
   "execution_count": 34,
   "metadata": {},
   "outputs": [
    {
     "data": {
      "text/plain": [
       "<function matplotlib.pyplot.show(close=None, block=None)>"
      ]
     },
     "execution_count": 34,
     "metadata": {},
     "output_type": "execute_result"
    },
    {
     "data": {
      "image/png": "[encoded data removed]",
      "text/plain": [
       "<Figure size 1152x648 with 1 Axes>"
      ]
     },
     "metadata": {},
     "output_type": "display_data"
    }
   ],
   "source": [
    "hourly_rentals = trip_data.groupby(\"hour\")[\"Rented\"].sum()\n",
    "Fig_3, ax_3    = plt.subplots(figsize=(16,9))\n",
    "ax_3.plot(hourly_rentals, color = \"blue\")\n",
    "ax_3.set_title(\"RENTALS/HOUR\", fontsize = 20, fontname = \"arial\", color = \"blue\")\n",
    "ax_3.set_ylabel(\"number of rentals\", fontsize = 14, color = \"blue\")\n",
    "ax_3.set_xlabel(\"hour\", fontsize = 14, color = \"blue\")\n",
    "plt.show"
   ]
  },
  {
   "cell_type": "markdown",
   "metadata": {},
   "source": [
    "*As we look upon the graph we notice two extrema. One in the morning around 8 am and one in the evening around 5 pm. The number of rentals increases continously after 5 am till it reaches the first extrema at around 8 am. After that the number of rentals continoulsy decreases till 10am, after that it is more or less steadily climbing till the second extrema around 5 pm. Afterwards it is falling constantly till we reach 5 am again.*\n",
    "\n",
    "*The rational explanation for the two extremas is that they are generated by locals, who are using the bikes to get to work and home from work. The more or less consistent number of rented bikes between 9 am till 15 am can be explained by tourism use, as well as free time activities by locals, which are likely most active in these hours. Otherwise the number would likely be much lower as many people are working in these hours. The small increase in this period can be explained by the fact that some working people might take a fast bike trip to grab lunch. Moreover the low number of rentals in the night hours can be explained that most people are active during the day and rest at night.*"
   ]
  },
  {
   "cell_type": "markdown",
   "metadata": {},
   "source": [
    "##  Fleet  usage during the week"
   ]
  },
  {
   "cell_type": "code",
   "execution_count": 35,
   "metadata": {},
   "outputs": [
    {
     "data": {
      "text/plain": [
       "<function matplotlib.pyplot.show(close=None, block=None)>"
      ]
     },
     "execution_count": 35,
     "metadata": {},
     "output_type": "execute_result"
    },
    {
     "data": {
      "image/png": "[encoded data removed]",
      "text/plain": [
       "<Figure size 1152x648 with 1 Axes>"
      ]
     },
     "metadata": {},
     "output_type": "display_data"
    }
   ],
   "source": [
    "weekday_rentals = trip_data.groupby(\"Weekday\")[\"Rented\"].sum()\n",
    "Fig_3, ax_3     = plt.subplots(figsize=(16,9))\n",
    "\n",
    "ax_3.plot(weekday_rentals, color =\"blue\")\n",
    "\n",
    "ax_3.set_title(\"RENTALS/WEEKDAY\", fontsize = 20, fontname = \"arial\", color = \"blue\")\n",
    "ax_3.set_ylabel(\"number of rentals\", fontsize = 14, color = \"blue\")\n",
    "ax_3.set_xlabel(\"weekday\", fontsize = 14, color = \"blue\")\n",
    "\n",
    "plt.ylim(0, 250000)\n",
    "\n",
    "plt.show"
   ]
  },
  {
   "cell_type": "markdown",
   "metadata": {},
   "source": [
    "In the Graph we can see high demand during the week and low demand at the weekend. Like in the Graph from above the demand is correlated to the working days which means that a bike is rented mostly for the way to work. Due to the fact most of the people do not work at the weekend there is low demand at those days. As a result the major group of people that rent a bikes live in Boston and are not tourists."
   ]
  },
  {
   "cell_type": "markdown",
   "metadata": {},
   "source": [
    "## Fleet usage during a year"
   ]
  },
  {
   "cell_type": "code",
   "execution_count": 36,
   "metadata": {},
   "outputs": [],
   "source": [
    "bikes_rented_total = trip_data.groupby([\"Date\"], as_index=False)[\"Rented\"].sum()\n",
    "bikes_rented_total\n",
    "\n",
    "x_brt = bikes_rented_total[\"Date\"]\n",
    "y_brt = bikes_rented_total[\"Rented\"]"
   ]
  },
  {
   "cell_type": "code",
   "execution_count": 37,
   "metadata": {},
   "outputs": [
    {
     "data": {
      "image/png": "[encoded data removed]",
      "text/plain": [
       "<Figure size 1152x648 with 1 Axes>"
      ]
     },
     "metadata": {},
     "output_type": "display_data"
    }
   ],
   "source": [
    "fig,ax = plt.subplots(figsize=(16,9)) \n",
    "\n",
    "ax.plot(x_brt, y_brt, color = \"blue\")\n",
    "\n",
    "ax.set_title(\"# RENTALS PER DAY\", fontsize = 20, fontname = \"arial\", color = \"blue\")\n",
    "ax.set_ylabel(\"# of rentals\", fontsize = 14, color = \"blue\")\n",
    "ax.set_xlabel(\"Date\", fontsize = 14, color = \"blue\")\n",
    "\n",
    "plt.show()"
   ]
  },
  {
   "cell_type": "code",
   "execution_count": 38,
   "metadata": {},
   "outputs": [
    {
     "data": {
      "text/html": [
       "<div>\n",
       "<style scoped>\n",
       "    .dataframe tbody tr th:only-of-type {\n",
       "        vertical-align: middle;\n",
       "    }\n",
       "\n",
       "    .dataframe tbody tr th {\n",
       "        vertical-align: top;\n",
       "    }\n",
       "\n",
       "    .dataframe thead th {\n",
       "        text-align: right;\n",
       "    }\n",
       "</style>\n",
       "<table border=\"1\" class=\"dataframe\">\n",
       "  <thead>\n",
       "    <tr style=\"text-align: right;\">\n",
       "      <th></th>\n",
       "      <th>date_time</th>\n",
       "      <th>max_temp</th>\n",
       "      <th>precip</th>\n",
       "    </tr>\n",
       "  </thead>\n",
       "  <tbody>\n",
       "    <tr>\n",
       "      <th>17520</th>\n",
       "      <td>2017-01-01 01:00:00</td>\n",
       "      <td>4.4</td>\n",
       "      <td>0.0</td>\n",
       "    </tr>\n",
       "    <tr>\n",
       "      <th>17521</th>\n",
       "      <td>2017-01-01 02:00:00</td>\n",
       "      <td>5.0</td>\n",
       "      <td>1.0</td>\n",
       "    </tr>\n",
       "    <tr>\n",
       "      <th>17522</th>\n",
       "      <td>2017-01-01 03:00:00</td>\n",
       "      <td>5.0</td>\n",
       "      <td>1.0</td>\n",
       "    </tr>\n",
       "    <tr>\n",
       "      <th>17523</th>\n",
       "      <td>2017-01-01 04:00:00</td>\n",
       "      <td>5.0</td>\n",
       "      <td>1.0</td>\n",
       "    </tr>\n",
       "    <tr>\n",
       "      <th>17524</th>\n",
       "      <td>2017-01-01 05:00:00</td>\n",
       "      <td>4.4</td>\n",
       "      <td>1.0</td>\n",
       "    </tr>\n",
       "    <tr>\n",
       "      <th>...</th>\n",
       "      <td>...</td>\n",
       "      <td>...</td>\n",
       "      <td>...</td>\n",
       "    </tr>\n",
       "    <tr>\n",
       "      <th>26274</th>\n",
       "      <td>2017-12-30 18:00:00</td>\n",
       "      <td>-8.9</td>\n",
       "      <td>1.0</td>\n",
       "    </tr>\n",
       "    <tr>\n",
       "      <th>26275</th>\n",
       "      <td>2017-12-30 20:00:00</td>\n",
       "      <td>-8.3</td>\n",
       "      <td>0.0</td>\n",
       "    </tr>\n",
       "    <tr>\n",
       "      <th>26276</th>\n",
       "      <td>2017-12-30 21:00:00</td>\n",
       "      <td>-8.3</td>\n",
       "      <td>1.0</td>\n",
       "    </tr>\n",
       "    <tr>\n",
       "      <th>26278</th>\n",
       "      <td>2017-12-30 22:00:00</td>\n",
       "      <td>-8.3</td>\n",
       "      <td>1.0</td>\n",
       "    </tr>\n",
       "    <tr>\n",
       "      <th>26279</th>\n",
       "      <td>2017-12-31 00:00:00</td>\n",
       "      <td>-7.8</td>\n",
       "      <td>0.0</td>\n",
       "    </tr>\n",
       "  </tbody>\n",
       "</table>\n",
       "<p>8535 rows × 3 columns</p>\n",
       "</div>"
      ],
      "text/plain": [
       "                date_time  max_temp  precip\n",
       "17520 2017-01-01 01:00:00       4.4     0.0\n",
       "17521 2017-01-01 02:00:00       5.0     1.0\n",
       "17522 2017-01-01 03:00:00       5.0     1.0\n",
       "17523 2017-01-01 04:00:00       5.0     1.0\n",
       "17524 2017-01-01 05:00:00       4.4     1.0\n",
       "...                   ...       ...     ...\n",
       "26274 2017-12-30 18:00:00      -8.9     1.0\n",
       "26275 2017-12-30 20:00:00      -8.3     0.0\n",
       "26276 2017-12-30 21:00:00      -8.3     1.0\n",
       "26278 2017-12-30 22:00:00      -8.3     1.0\n",
       "26279 2017-12-31 00:00:00      -7.8     0.0\n",
       "\n",
       "[8535 rows x 3 columns]"
      ]
     },
     "execution_count": 38,
     "metadata": {},
     "output_type": "execute_result"
    }
   ],
   "source": [
    "weather_plot = weather_data\n",
    "\n",
    "del weather_plot [\"min_temp\"]\n",
    "weather_plot"
   ]
  },
  {
   "cell_type": "code",
   "execution_count": 39,
   "metadata": {},
   "outputs": [
    {
     "data": {
      "image/png": "[encoded data removed]",
      "text/plain": [
       "<Figure size 1584x1080 with 1 Axes>"
      ]
     },
     "metadata": {},
     "output_type": "display_data"
    }
   ],
   "source": [
    "weather_plot\n",
    "x = weather_plot['date_time']\n",
    "y = weather_plot['max_temp']\n",
    "Fig_1 = plt.figure(figsize=(22,15))\n",
    "ax_1 = Fig_1.add_axes([0.5, 0.5, 0.51, 0.51])\n",
    "ax_1.plot(x, y, color = \"blue\")\n",
    "ax_1.set_xlabel('Date', color = \"blue\")\n",
    "ax_1.set_ylabel('Temperature', color = \"blue\")\n",
    "ax_1.set_title('Date/ Temperature', color = \"blue\")\n",
    "\n",
    "plt.show()"
   ]
  },
  {
   "cell_type": "markdown",
   "metadata": {},
   "source": [
    "As we can see there is much demand in the summer than in the winter. It can be explained with the weather. So there is no need to add the seasons as input feature for our prediction"
   ]
  },
  {
   "cell_type": "markdown",
   "metadata": {},
   "source": [
    "### Frequency of temperature"
   ]
  },
  {
   "cell_type": "markdown",
   "metadata": {},
   "source": [
    "In order to ensure the statements about the relationship between temperature and rental behavior, it makes sense to consider the frequency with which temperatures occur."
   ]
  },
  {
   "cell_type": "code",
   "execution_count": 40,
   "metadata": {},
   "outputs": [
    {
     "name": "stdout",
     "output_type": "stream",
     "text": [
      "<class 'pandas.core.frame.DataFrame'>\n",
      "RangeIndex: 94 entries, 0 to 93\n",
      "Data columns (total 2 columns):\n",
      " #   Column    Non-Null Count  Dtype  \n",
      "---  ------    --------------  -----  \n",
      " 0   max_temp  94 non-null     float64\n",
      " 1   count     94 non-null     int64  \n",
      "dtypes: float64(1), int64(1)\n",
      "memory usage: 1.6 KB\n"
     ]
    },
    {
     "data": {
      "text/html": [
       "<div>\n",
       "<style scoped>\n",
       "    .dataframe tbody tr th:only-of-type {\n",
       "        vertical-align: middle;\n",
       "    }\n",
       "\n",
       "    .dataframe tbody tr th {\n",
       "        vertical-align: top;\n",
       "    }\n",
       "\n",
       "    .dataframe thead th {\n",
       "        text-align: right;\n",
       "    }\n",
       "</style>\n",
       "<table border=\"1\" class=\"dataframe\">\n",
       "  <thead>\n",
       "    <tr style=\"text-align: right;\">\n",
       "      <th></th>\n",
       "      <th>max_temp</th>\n",
       "      <th>count</th>\n",
       "    </tr>\n",
       "  </thead>\n",
       "  <tbody>\n",
       "    <tr>\n",
       "      <th>count</th>\n",
       "      <td>94.000000</td>\n",
       "      <td>94.000000</td>\n",
       "    </tr>\n",
       "    <tr>\n",
       "      <th>mean</th>\n",
       "      <td>9.165957</td>\n",
       "      <td>90.797872</td>\n",
       "    </tr>\n",
       "    <tr>\n",
       "      <th>std</th>\n",
       "      <td>15.155137</td>\n",
       "      <td>64.213284</td>\n",
       "    </tr>\n",
       "    <tr>\n",
       "      <th>min</th>\n",
       "      <td>-16.700000</td>\n",
       "      <td>2.000000</td>\n",
       "    </tr>\n",
       "    <tr>\n",
       "      <th>25%</th>\n",
       "      <td>-3.750000</td>\n",
       "      <td>21.750000</td>\n",
       "    </tr>\n",
       "    <tr>\n",
       "      <th>50%</th>\n",
       "      <td>9.150000</td>\n",
       "      <td>94.000000</td>\n",
       "    </tr>\n",
       "    <tr>\n",
       "      <th>75%</th>\n",
       "      <td>22.075000</td>\n",
       "      <td>147.500000</td>\n",
       "    </tr>\n",
       "    <tr>\n",
       "      <th>max</th>\n",
       "      <td>35.000000</td>\n",
       "      <td>210.000000</td>\n",
       "    </tr>\n",
       "  </tbody>\n",
       "</table>\n",
       "</div>"
      ],
      "text/plain": [
       "        max_temp       count\n",
       "count  94.000000   94.000000\n",
       "mean    9.165957   90.797872\n",
       "std    15.155137   64.213284\n",
       "min   -16.700000    2.000000\n",
       "25%    -3.750000   21.750000\n",
       "50%     9.150000   94.000000\n",
       "75%    22.075000  147.500000\n",
       "max    35.000000  210.000000"
      ]
     },
     "execution_count": 40,
     "metadata": {},
     "output_type": "execute_result"
    }
   ],
   "source": [
    "count_temperature = weather_data\n",
    "count_temperature = count_temperature[\"max_temp\"].value_counts().to_frame()\n",
    "count_temperature.reset_index(level=0, inplace=True)\n",
    "count_temperature.rename(columns={'max_temp':'count'}, inplace=True)\n",
    "count_temperature.rename(columns={'index':'max_temp'}, inplace=True)\n",
    "count_temperature\n",
    "\n",
    "count_temperature.info()\n",
    "count_temperature.describe()"
   ]
  },
  {
   "cell_type": "markdown",
   "metadata": {},
   "source": [
    "As a representation a Violin plot and regression plot was chosen.\n",
    "\n",
    "*Turns out that both low temperatures (between 0-10°C) and temperatures around 20°C occur more frequently. However, since no increased demand can be identified at low temperatures, it can be assumed that the statement about higher demand in summer is correct.*"
   ]
  },
  {
   "cell_type": "code",
   "execution_count": 41,
   "metadata": {},
   "outputs": [
    {
     "data": {
      "text/plain": [
       "Text(0.5, 0, 'Temperature(°C)')"
      ]
     },
     "execution_count": 41,
     "metadata": {},
     "output_type": "execute_result"
    },
    {
     "data": {
      "image/png": "[encoded data removed]",
      "text/plain": [
       "<Figure size 432x288 with 1 Axes>"
      ]
     },
     "metadata": {},
     "output_type": "display_data"
    }
   ],
   "source": [
    "ax = sns.violinplot(x=weather_data[\"max_temp\"], color = \"blue\")\n",
    "plt.xlabel(\"Temperature(°C)\", color = \"blue\")"
   ]
  },
  {
   "cell_type": "code",
   "execution_count": 42,
   "metadata": {},
   "outputs": [],
   "source": [
    "def plot_regularized_polyregression (x, y, lam, d):\n",
    "    \n",
    "    min_x, max_x = x.min(), x.max()\n",
    "    xs = 2*(x - min_x)/(max_x - min_x) - 1\n",
    "    X = np.array([xs**i for i in range(d,-1,-1)]).T\n",
    "    theta = np.linalg.solve(X.T @ X + lam*np.eye(X.shape[1]), X.T @ y)  # see lecture notes for derivation!, where np.eye() returns the identity matrix\n",
    "    xt0 = np.linspace(min_x-1, max_x+1, 400)\n",
    "    xt = 2*(xt0 - min_x)/(max_x - min_x) - 1\n",
    "    Xt = np.array([xt**i for i in range(d,-1,-1)]).T\n",
    "    yt = Xt @ theta\n",
    "    \n",
    "    plt.figure(figsize = (8,6))\n",
    "    plt.scatter(x, y, marker=\"x\")\n",
    "    ylim = plt.ylim()\n",
    "    plt.plot(xt0, yt, 'C1')\n",
    "    plt.xlabel(\"Temperature (°C)\")\n",
    "    plt.ylabel(\"Demand (GW)\")\n",
    "    plt.xlim([min_x-2, max_x+2])\n",
    "    plt.ylim(ylim)\n",
    "    print(theta[:4])"
   ]
  },
  {
   "cell_type": "code",
   "execution_count": 43,
   "metadata": {},
   "outputs": [
    {
     "name": "stdout",
     "output_type": "stream",
     "text": [
      "[30.20422903  6.00142233 28.44938446 26.78014369]\n"
     ]
    },
    {
     "data": {
      "text/plain": [
       "Text(0, 0.5, 'Frequency')"
      ]
     },
     "execution_count": 43,
     "metadata": {},
     "output_type": "execute_result"
    },
    {
     "data": {
      "image/png": "[encoded data removed]",
      "text/plain": [
       "<Figure size 576x432 with 1 Axes>"
      ]
     },
     "metadata": {},
     "output_type": "display_data"
    }
   ],
   "source": [
    "xp=count_temperature['max_temp']\n",
    "yp=count_temperature['count']\n",
    "\n",
    "plot_regularized_polyregression (xp,yp,0.1, 15)\n",
    "\n",
    "plt.xlabel(\"Temperature (°C)\", color = \"green\")\n",
    "plt.ylabel(\"Frequency\", color = \"green\")"
   ]
  },
  {
   "cell_type": "markdown",
   "metadata": {},
   "source": [
    "### Trip duration"
   ]
  },
  {
   "cell_type": "markdown",
   "metadata": {},
   "source": [
    "The presentation of the duration can provide information about the purpose for which the bicycles were rented. Therefore a box plot was created, which shows the distribution of the length of the rental periods."
   ]
  },
  {
   "cell_type": "code",
   "execution_count": null,
   "metadata": {},
   "outputs": [],
   "source": [
    "ax = plt.figure(figsize=(10,5))\n",
    "ax = sns.boxplot(x=trip_data[\"duration\"] / np.timedelta64(1, 'm'))\n",
    "ax.set(xlim=(0,120))\n",
    "plt.xlabel(\"Trip duration (minute)\", color = \"green\")"
   ]
  },
  {
   "cell_type": "markdown",
   "metadata": {},
   "source": [
    "This visualization shows that the rental period is usually short. The average is about 15 minutes. This observation supports the assumption that it is mostly locals who use bicycles to get to work or university."
   ]
  },
  {
   "cell_type": "code",
   "execution_count": null,
   "metadata": {},
   "outputs": [],
   "source": [
    "data_boston=trip_data[[\"hour\",\"duration\",\"date_time\",\"Date\",\"Rented\",\"Weekday\"]]\n",
    "\n",
    "\n",
    "left_mergeT = pd.merge(weather_data,data_boston, on=\"date_time\",how=\"left\")\n",
    "left_mergeT"
   ]
  },
  {
   "cell_type": "code",
   "execution_count": null,
   "metadata": {},
   "outputs": [],
   "source": [
    "left_mergeT[\"IsWeekday\"] = left_mergeT[\"Weekday\"].apply(lambda x: 1 if x<=4 else 0)\n",
    "left_mergeT"
   ]
  },
  {
   "cell_type": "code",
   "execution_count": null,
   "metadata": {},
   "outputs": [],
   "source": [
    "del left_mergeT[\"Weekday\"]\n",
    "del left_mergeT[\"Date\"]\n",
    "del left_mergeT[\"duration\"]\n",
    "left_mergeT = left_mergeT.dropna()\n",
    "left_mergeT.info()"
   ]
  },
  {
   "cell_type": "code",
   "execution_count": null,
   "metadata": {},
   "outputs": [],
   "source": [
    "summe = left_mergeT.groupby(\"date_time\")[\"Rented\"].sum()\n",
    "df    = pd.DataFrame(summe, columns = ['Rented'])"
   ]
  },
  {
   "cell_type": "code",
   "execution_count": null,
   "metadata": {},
   "outputs": [],
   "source": [
    "bikes_rented_total = df\n",
    "fig,ax = plt.subplots(figsize=(16,9)) \n",
    "\n",
    "\n",
    "ax.plot(bikes_rented_total, color = \"blue\")\n",
    "\n",
    "ax.set_title(\"# RENTALS PER HOUR\", fontsize = 20, fontname = \"arial\", color = \"blue\")\n",
    "ax.set_ylabel(\"# of rentals\", fontsize = 14, color = \"blue\")\n",
    "ax.set_xlabel(\"Date\", fontsize = 14, color = \"blue\")\n",
    "\n",
    "plt.show()"
   ]
  },
  {
   "cell_type": "markdown",
   "metadata": {},
   "source": [
    "## Geographical Demand"
   ]
  },
  {
   "cell_type": "markdown",
   "metadata": {},
   "source": [
    "The analysis of the locations and the geographic demand can provide further information about the reasons for using Blue Bike. In order to view the use of the stations from different perspectives, different approaches were chosen."
   ]
  },
  {
   "cell_type": "markdown",
   "metadata": {},
   "source": [
    "## Popularity of the stations "
   ]
  },
  {
   "cell_type": "code",
   "execution_count": null,
   "metadata": {},
   "outputs": [],
   "source": [
    "start_station_rentals = inner_merge.groupby(\"start_station_id\")[\"Rented\"].sum()\n",
    "end_station_rentals   = inner_merge.groupby(\"end_station_id\")[\"Rented\"].sum()\n",
    "\n",
    "\n",
    "Fig_4, ax_4= plt.subplots(figsize=(16,9))\n",
    "\n",
    "ax_4.plot(start_station_rentals, label=\"start_station\", color = \"blue\")\n",
    "ax_4.plot(end_station_rentals , label=\"end_station\", color = \"green\")\n",
    "\n",
    "ax_4.set_title(\"POPULARITY OF A STATION\", fontsize = 20, fontname = \"arial\", color = \"blue\")\n",
    "ax_4.set_ylabel(\"number of rentals\", fontsize = 14, color = \"blue\")\n",
    "ax_4.set_xlabel(\"station number\", fontsize = 14, color = \"blue\")\n",
    "\n",
    "plt.legend(loc=\"upper left\")"
   ]
  },
  {
   "cell_type": "code",
   "execution_count": null,
   "metadata": {},
   "outputs": [],
   "source": [
    "ypos= trip_data[\"start_station_id\"].unique()\n",
    "ypos"
   ]
  },
  {
   "cell_type": "code",
   "execution_count": null,
   "metadata": {},
   "outputs": [],
   "source": [
    "max= trip_data[\"start_station_id\"].quantile(1)\n",
    "max=int(max)\n",
    "stations= np.arange(1,233)\n",
    "stations"
   ]
  },
  {
   "cell_type": "code",
   "execution_count": null,
   "metadata": {},
   "outputs": [],
   "source": [
    "station_rentals=trip_data.groupby(\"start_station_id\")[\"Rented\"].sum()\n",
    "plt.figure(figsize=(35,20))\n",
    "n,bins,patch = plt.hist(trip_data.start_station_id,bins=232, color='blue', alpha=0.8, label='Value', edgecolor='orange', linewidth=2)\n",
    "\n",
    "plt.show()"
   ]
  },
  {
   "cell_type": "markdown",
   "metadata": {},
   "source": [
    "## Popularity of start stations"
   ]
  },
  {
   "cell_type": "code",
   "execution_count": null,
   "metadata": {},
   "outputs": [],
   "source": [
    "df_station_rentals = pd.DataFrame(station_rentals)\n",
    "df_station_rentals = df_station_rentals.sort_values([\"Rented\"], ascending=False)\n",
    "\n",
    "right = df_station_rentals\n",
    "left  = trip_data\n",
    "\n",
    "inner_merge2 = pd.merge(df_station_rentals,trip_data, on=\"start_station_id\",how=\"left\")\n",
    "del inner_merge2[\"start_time\"]\n",
    "del inner_merge2[\"end_time\"]\n",
    "del inner_merge2[\"end_station_id\"]\n",
    "del inner_merge2[\"end_station_name\"]\n",
    "del inner_merge2[\"bike_id\"]\n",
    "del inner_merge2[\"user_type\"]\n",
    "del inner_merge2[\"date_time\"]\n",
    "del inner_merge2[\"Date\"]\n",
    "del inner_merge2[\"Rented_y\"]\n",
    "del inner_merge2[\"Weekday\"]\n",
    "del inner_merge2[\"hour\"]\n",
    "inner_merge2 = inner_merge2.drop_duplicates(subset=[\"start_station_id\"], keep='first', inplace=False, ignore_index=False)\n",
    "inner_merge2.set_index(\"start_station_id\",inplace=True)\n",
    "inner_merge2"
   ]
  },
  {
   "cell_type": "code",
   "execution_count": null,
   "metadata": {},
   "outputs": [],
   "source": [
    "### FILLER ###"
   ]
  },
  {
   "cell_type": "code",
   "execution_count": null,
   "metadata": {},
   "outputs": [],
   "source": [
    "station_trips=inner_merge[[\"start_station_id\",\"end_station_id\",\"start_station_name\",\"end_station_name\"]]\n",
    "\n",
    "stations_start= station_trips[[\"start_station_id\",\"start_station_name\"]]"
   ]
  },
  {
   "cell_type": "code",
   "execution_count": null,
   "metadata": {},
   "outputs": [],
   "source": [
    "stations_start"
   ]
  },
  {
   "cell_type": "code",
   "execution_count": null,
   "metadata": {},
   "outputs": [],
   "source": [
    "left  = stations_start\n",
    "right = station_location\n",
    "\n",
    "station_loc = pd.merge(left=left, right=right, left_on=\"start_station_name\", right_on=\"Name\")\n",
    "\n",
    "del station_loc[\"start_station_name\"]\n",
    "del station_loc[\"Number\"]\n",
    "del station_loc[\"District\"]\n",
    "del station_loc[\"Public\"]\n",
    "del station_loc[\"Total Docks\"]\n",
    "\n",
    "station_loc = station_loc.drop_duplicates(subset=None, keep='first', inplace=False, ignore_index=True)\n",
    "station_loc.Latitude = station_loc.Latitude.astype(float)\n",
    "station_loc.Longitude = station_loc.Longitude.astype(float)"
   ]
  },
  {
   "cell_type": "code",
   "execution_count": null,
   "metadata": {},
   "outputs": [],
   "source": [
    "station_loc.info()"
   ]
  },
  {
   "cell_type": "code",
   "execution_count": null,
   "metadata": {},
   "outputs": [],
   "source": [
    "left  = trip_data\n",
    "right = station_loc\n",
    "\n",
    "station_tours = pd.merge(left=left, right=right, left_on=\"start_station_id\", right_on=\"start_station_id\")\n",
    "station_tours = pd.merge(left=station_tours, right=right, left_on=\"end_station_id\", right_on=\"start_station_id\")\n",
    "\n",
    "station_tours_hour=station_tours[[\"start_station_id_x\",\"end_station_id\",\"start_station_name\",\"end_station_name\",\"hour\",\n",
    "    \"Rented\",\"Latitude_x\",\"Longitude_x\",\"start_station_id_y\",\"Latitude_y\",\"Longitude_y\"]]\n",
    "\n",
    "station_tours_hour[\"Coordinates_orig\"] = list(zip(station_tours_hour[\"Latitude_x\"].round(4),station_tours_hour[\"Longitude_x\"].round(4)))\n",
    "station_tours_hour[\"Coordinates_dest\"] = list(zip(station_tours_hour[\"Latitude_y\"].round(4),station_tours_hour[\"Longitude_y\"].round(4)))\n",
    "\n",
    "station_tours = station_tours.drop_duplicates(subset=None, keep='first', inplace=False, ignore_index=True)\n",
    "popular_station = inner_merge2.head(1)\n",
    "station_tours_top = station_tours_hour[station_tours_hour[\"start_station_id_x\"].isin(popular_station.index)]\n",
    "del station_tours_top[\"hour\"]\n",
    "station_tours_top = station_tours_top.drop_duplicates(subset=None, keep='first', inplace=False, ignore_index=True)\n",
    "\n",
    "tours_eve = station_tours_hour[(station_tours_hour[\"hour\"]> 15)&\n",
    "                           (station_tours_hour[\"hour\"]< 20)]\n",
    "\n",
    "tours_mrng = station_tours_hour[(station_tours_hour[\"hour\"]> 5)&\n",
    "                           (station_tours_hour[\"hour\"]< 10)]\n",
    "\n",
    "station_tours.reset_index()"
   ]
  },
  {
   "cell_type": "markdown",
   "metadata": {},
   "source": [
    "### Tours starting from the most popular station"
   ]
  },
  {
   "cell_type": "markdown",
   "metadata": {},
   "source": [
    "The outgoing tours of the most frequently used station (MIT at Mass Ave / Amherst St) were shown on this map in order to make statements about the distribution of common endpoints."
   ]
  },
  {
   "cell_type": "code",
   "execution_count": null,
   "metadata": {},
   "outputs": [],
   "source": [
    "#define empty map\n",
    "\n",
    "STR_map_tours = folium.Map(location=(42.3581,-71.093198),  tiles='Stamen Toner', \n",
    "                       zoom_start=12, control_scale=True, max_zoom=20)\n",
    "\n",
    "for i in range(station_tours_top[\"Latitude_x\"].count()):\n",
    "    folium.PolyLine([(station_tours_top[\"Latitude_x\"].iloc[i], station_tours_top[\"Longitude_x\"].iloc[i]),(station_tours_top[\"Latitude_y\"].iloc[i],station_tours_top[\"Longitude_y\"].iloc[i])]).add_to(STR_map_tours)\n",
    "\n",
    "folium.CircleMarker(radius=5, location=(station_tours_top[\"Latitude_x\"].iloc[1], station_tours_top[\"Longitude_x\"].iloc[1]), popup= station_tours_top[\"start_station_name\"].iloc[1], \n",
    "                              color='red', fill_color='red').add_to(STR_map_tours)                    \n",
    "                    \n",
    "STR_map_tours"
   ]
  },
  {
   "cell_type": "markdown",
   "metadata": {},
   "source": [
    "If you look at which stations are served by the most popular station \"MIT at Mass Ave / Amherst St\", it becomes apparent that these are distributed over the entire city area."
   ]
  },
  {
   "cell_type": "markdown",
   "metadata": {},
   "source": [
    "## Popularity of start/end stations"
   ]
  },
  {
   "cell_type": "markdown",
   "metadata": {},
   "source": [
    "The following Heatmaps were created to show how frequently station are used as a origin/destination. The differences between morning and evening were also considered.\n",
    "\n",
    "*The first two heatmaps show that the stations are near universities and the east side of the city center are popular both as a start station and as an end station..*"
   ]
  },
  {
   "cell_type": "markdown",
   "metadata": {},
   "source": [
    "#### Popularity of start stations"
   ]
  },
  {
   "cell_type": "markdown",
   "metadata": {},
   "source": [
    "heatmap_bb_start = folium.Map(location=(42.34178089,-71.03987017),  tiles='Stamen Toner', \n",
    "                       zoom_start=12, control_scale=True, max_zoom=20)\n",
    "\n",
    "hm(station_tours_hour[\"Coordinates_orig\"]).add_to(heatmap_bb_start)\n",
    "heatmap_bb_start"
   ]
  },
  {
   "cell_type": "markdown",
   "metadata": {},
   "source": [
    "#### Populartiy of end stations"
   ]
  },
  {
   "cell_type": "markdown",
   "metadata": {},
   "source": [
    "heatmap_bb_end= folium.Map(location=(42.34178089,-71.03987017),  tiles='Stamen Toner', \n",
    "                       zoom_start=12, control_scale=True, max_zoom=20)\n",
    "\n",
    "hm(station_tours_hour[\"Coordinates_orig\"]).add_to(heatmap_bb_end)\n",
    "heatmap_bb_end"
   ]
  },
  {
   "cell_type": "markdown",
   "metadata": {},
   "source": [
    "#### Popularity of end stations (morning)"
   ]
  },
  {
   "cell_type": "markdown",
   "metadata": {},
   "source": [
    "heatmap_bb_end_mrng= folium.Map(location=(42.34178089,-71.03987017),  tiles='Stamen Toner', \n",
    "                       zoom_start=12, control_scale=True, max_zoom=20)\n",
    "\n",
    "hm(tours_mrng[\"Coordinates_dest\"]).add_to(heatmap_bb_end_mrng)\n",
    "heatmap_bb_end_mrng"
   ]
  },
  {
   "cell_type": "markdown",
   "metadata": {},
   "source": [
    "This heat map shows a shift in the stations used. The use of the stations near universities is decreasing slightly. In return for this, the station near the TD Garden, a large event hall in the Westend, is used more frequently in the evening."
   ]
  },
  {
   "cell_type": "markdown",
   "metadata": {},
   "source": [
    "#### Popularity of end stations (evening)"
   ]
  },
  {
   "cell_type": "markdown",
   "metadata": {},
   "source": [
    "heatmap_bb_end_eve = folium.Map(location=(42.34178089,-71.03987017),  tiles='Stamen Toner', \n",
    "                       zoom_start=12, control_scale=True, max_zoom=20)\n",
    "\n",
    "\n",
    "hm(tours_eve[\"Coordinates_dest\"]).add_to(heatmap_bb_end_eve)\n",
    "heatmap_bb_end_eve"
   ]
  },
  {
   "cell_type": "markdown",
   "metadata": {},
   "source": [
    "### Location and popularty of stations"
   ]
  },
  {
   "cell_type": "markdown",
   "metadata": {},
   "source": [
    "The exact locations of the stations are shown, supplemented by their popularity and rental figures. To make it easier to perceive, the color scheme has been adapted to the respective \"popularity category\"."
   ]
  },
  {
   "cell_type": "code",
   "execution_count": null,
   "metadata": {},
   "outputs": [],
   "source": [
    "left  = inner_merge2\n",
    "right = station_loc\n",
    "\n",
    "station_rentals = pd.merge(left=left, right=right, left_on=\"start_station_id\", right_on=\"start_station_id\")"
   ]
  },
  {
   "cell_type": "code",
   "execution_count": null,
   "metadata": {},
   "outputs": [],
   "source": [
    "def number_DivIcon(color,number):\n",
    "    \"\"\" Create a 'numbered' icon\n",
    "    \n",
    "    \"\"\"\n",
    "    icon = DivIcon(\n",
    "            icon_size=(150,36),\n",
    "            icon_anchor=(14,40),\n",
    "#             html='<div style=\"font-size: 18pt; align:center, color : black\">' + '{:02d}'.format(num+1) + '</div>',\n",
    "            html=\"\"\"<span class=\"fa-stack \" style=\"font-size: 12pt\" >>\n",
    "                    <!-- The icon that will wrap the number -->\n",
    "                    <span class=\"fa fa-circle-o fa-stack-2x\" style=\"color : {:s}\"></span>\n",
    "                    <!-- a strong element with the custom content, in this case a number -->\n",
    "                    <strong class=\"fa-stack-1x\" style=\"font-size: 12pt\">\n",
    "                         {:02d} \n",
    "                    </strong>\n",
    "                </span>\"\"\".format(color,number)\n",
    "        )\n",
    "    return icon"
   ]
  },
  {
   "cell_type": "markdown",
   "metadata": {},
   "source": [
    "*It turns out that the most used stations are in the city center or near train stations and universities.*"
   ]
  },
  {
   "cell_type": "code",
   "execution_count": null,
   "metadata": {},
   "outputs": [],
   "source": [
    "# Create base map\n",
    "Boston = (42.34178089,-71.03987017)\n",
    "map = folium.Map(location = Boston,\n",
    " zoom_start = 12,\n",
    " tiles = \"CartoDB positron\")\n",
    "\n",
    "\n",
    "col_hex = ['#6FCCDD', \n",
    "           '#00517C',\n",
    "           '#84C440',\n",
    "           '#2F6D36',\n",
    "           '#F8E318',\n",
    "           '#DEB625',\n",
    "           '#FAAF17',\n",
    "           '#F26721',\n",
    "           '#E32925',\n",
    "           '#5e2028']\n",
    "\n",
    "for i in range(station_rentals[\"Latitude\"].count()):\n",
    "    count = station_rentals[\"Rented_x\"].iloc[i]\n",
    "     \n",
    "    if count < 500: \n",
    "        num = 0\n",
    "    elif (count > 500) & (count < 1000):\n",
    "        num = 1\n",
    "    elif (count > 1000) & (count < 2500):\n",
    "        num = 2\n",
    "    elif (count > 1000) & (count < 2500):\n",
    "        num = 3\n",
    "    elif (count > 5000) & (count < 10000):\n",
    "        num = 4\n",
    "    elif (count > 10000) & (count < 15000):\n",
    "        num = 5\n",
    "    elif (count > 15000) & (count < 20000):\n",
    "        num = 6\n",
    "    elif (count > 20000) & (count < 25000):\n",
    "        num = 7\n",
    "    elif (count > 25000) & (count < 35000):\n",
    "        num = 8\n",
    "    elif (count > 35000):\n",
    "        num = 9\n",
    "        \n",
    "    loc = (station_rentals[\"Latitude\"].iloc[i], station_rentals[\"Longitude\"].iloc[i])\n",
    "    folium.Marker(\n",
    "        location=loc,\n",
    "        popup=\"Rentals at \"+ station_rentals[\"start_station_name\"].iloc[i]+\": \" + '{:02d}'.format(count),\n",
    "        icon=folium.Icon(color='white',icon_color='white'),\n",
    "        markerColor=col_hex[num],\n",
    "    ).add_to(map)\n",
    "    folium.Marker(\n",
    "        location=loc,\n",
    "        popup=\"Rentals at \"+ station_rentals[\"start_station_name\"].iloc[i]+\": \" + '{:02d}'.format(count),\n",
    "        icon= number_DivIcon(col_hex[num],num+1)\n",
    "    ).add_to(map)\n",
    "\n",
    "map"
   ]
  },
  {
   "cell_type": "markdown",
   "metadata": {},
   "source": [
    "## Selecting the Key Performance Indicators"
   ]
  },
  {
   "cell_type": "markdown",
   "metadata": {},
   "source": [
    "A first Indicator could be the utilization ratio of the bicicles, to see how many bicicles are on the strett or how many are just waiting at station, so the managers could decide to increase or decrease the total number of bicicles. Futhermore, this KPI can be expanded to utilization ration of the bicicles at a specfic station to examine the uitlization at an popular station for example, so the manager could sent more bikes to this particular station.\n",
    "\n",
    "Another KPI could be the number of borrowed bikes last hour in proportion of a benchmark. The benchmark can be a indicator for the profit and answers the question: \"How many bikes need to be rented to make profit?\". So this ratio gives info of how many percent of the break even point is reached. (For simplification we will use the mean value as benchmark) This KPI can be spilted into number of borrowed bikes form customer and from subscribers due to the  fact that there may exist different prices for customer and subcriber.\n",
    "In summary this KPI shows whether the company is making money.\n",
    "\n",
    "A third KPI could be subscriber/ customer ratio. This KPI gives info of how many percent of the bikes from the last hour has been rented by subscribers or customers. This Key Performance Indicator can be interesting for the marketing department of a company in order to design appropriate advertising.\n"
   ]
  },
  {
   "cell_type": "markdown",
   "metadata": {},
   "source": [
    "### Utilization ratio"
   ]
  },
  {
   "cell_type": "code",
   "execution_count": null,
   "metadata": {},
   "outputs": [],
   "source": [
    "a = inner_merge[\"bike_id\"]\n",
    "a = a.unique()\n",
    "a.size"
   ]
  },
  {
   "cell_type": "code",
   "execution_count": null,
   "metadata": {},
   "outputs": [],
   "source": [
    "#extract the prime hour from a random data\n",
    "rdb = trip_data[[\"date_time\",\"bike_id\"]]\n",
    "b = rdb.value_counts()\n",
    "rdb = rdb.set_index([\"date_time\"])"
   ]
  },
  {
   "cell_type": "code",
   "execution_count": null,
   "metadata": {},
   "outputs": [],
   "source": [
    "b  = pd.DataFrame(b)\n",
    "b2 = b.value_counts(subset='date_time')\n",
    "\n",
    "b2 = pd.DataFrame(b2)\n",
    "b2 = b2.sort_values(by='date_time')\n",
    "bikes_rented_total = b2\n",
    "fig,ax = plt.subplots(figsize=(16,9)) \n",
    "\n",
    "ax.plot(bikes_rented_total)\n",
    "\n",
    "ax.set_title(\"# Rented unique bikes per hour\", fontsize = 20, fontname = \"arial\", color = \"blue\")\n",
    "ax.set_ylabel(\"# Rented unique bikes\", fontsize = 14, color = \"blue\")\n",
    "ax.set_xlabel(\"Date\", fontsize = 14, color = \"blue\")\n",
    "\n",
    "plt.show()"
   ]
  },
  {
   "cell_type": "markdown",
   "metadata": {},
   "source": [
    "If we compare this Graph with the Graph about the total rentals per hour over a year, you can see that we have a peek demand of approximately 1500 but the peek of rented unique bikes per hour is around 650 because a bike can rented multiple times in hour especially when the time period of the rent is short."
   ]
  },
  {
   "cell_type": "code",
   "execution_count": null,
   "metadata": {},
   "outputs": [],
   "source": [
    "b2\n",
    "xur=b2.loc[\"2017-06-01 00:00:00\":\"2017-06-01 23:00:00\"]\n",
    "xur=xur/1799"
   ]
  },
  {
   "cell_type": "code",
   "execution_count": null,
   "metadata": {},
   "outputs": [],
   "source": [
    "fig,ax = plt.subplots(figsize=(16,9)) \n",
    "\n",
    "ax.plot(xur, color = \"blue\")\n",
    "\n",
    "ax.set_title(\"# hourly utilization over one day\", fontsize = 20, fontname = \"arial\", color = \"blue\")\n",
    "ax.set_ylabel(\"# percentage\", fontsize = 14, color = \"blue\")\n",
    "ax.set_xlabel(\"Date\", fontsize = 14, color = \"blue\")\n",
    "\n",
    "plt.show()"
   ]
  },
  {
   "cell_type": "markdown",
   "metadata": {},
   "source": [
    "\n",
    "As we can see in Graph from above the highest utilization over the day was 30 percent. The Graph uses the data from the first of June 2017. The Graph looks similar to the Graph in the section about the fleet usage during a day because the number of rentals is related to the number of unique rented bikes. But if u take a closer look there are some differences due to the fact that this Graph do not shows rentals of the same bike within a hour."
   ]
  },
  {
   "cell_type": "markdown",
   "metadata": {},
   "source": [
    "### Number of borrowed bikes last hour benchmark ratio"
   ]
  },
  {
   "cell_type": "markdown",
   "metadata": {},
   "source": [
    "As mentioned above we will use the average number of borrowed bikes within a hour in the further course of the analysis."
   ]
  },
  {
   "cell_type": "code",
   "execution_count": null,
   "metadata": {},
   "outputs": [],
   "source": [
    "linie=trip_data.groupby([\"date_time\"], as_index=False)[\"Rented\"].sum()\n",
    "linie2=linie[\"Rented\"]\n",
    "linie2\n",
    "h=np.sum(linie2)\n",
    "p=linie2.size\n",
    "gerade=h/p\n",
    "y=np.full((24),gerade)"
   ]
  },
  {
   "cell_type": "code",
   "execution_count": null,
   "metadata": {},
   "outputs": [],
   "source": [
    "hourly_rentals = trip_data.groupby([\"hour\"], as_index=False)[\"Rented\"].sum()\n",
    "xh=hourly_rentals[\"hour\"]\n",
    "yh=hourly_rentals[\"Rented\"]/365\n",
    "\n",
    "Fig_3, ax_3    = plt.subplots(figsize=(16,9))\n",
    "\n",
    "ax_3.plot(xh,yh, color = \"blue\")\n",
    "ax_3.plot(xh,y, color=\"orange\")\n",
    "\n",
    "ax_3.set_title(\"HOUR/RENTALS\", fontsize = 20, fontname = \"arial\", color = \"blue\")\n",
    "ax_3.set_ylabel(\"number of rentals\", fontsize = 14, color = \"blue\")\n",
    "ax_3.set_xlabel(\"hour\", fontsize = 14, color = \"blue\")\n",
    "\n",
    "plt.show"
   ]
  },
  {
   "cell_type": "markdown",
   "metadata": {},
   "source": [
    "\n",
    "First we have to compute the mean value of the renatls per hour because we do not know the break even point of the company so we use the mean value of rentals per hour as a replacement."
   ]
  },
  {
   "cell_type": "code",
   "execution_count": null,
   "metadata": {},
   "outputs": [],
   "source": [
    "scr=trip_data[[\"date_time\",\"Rented\"]]\n",
    "ratio=scr.groupby([\"date_time\"], as_index=False)[\"Rented\"].sum()\n",
    "ratio=ratio.set_index([\"date_time\"])\n",
    "ratio=ratio.loc[\"2017-06-01 00:00:00\":\"2017-06-01 23:00:00\"]\n",
    "ratio2=ratio/gerade\n",
    "ratio3=ratio/ratio"
   ]
  },
  {
   "cell_type": "code",
   "execution_count": null,
   "metadata": {},
   "outputs": [],
   "source": [
    "fig,ax = plt.subplots(figsize=(16,9)) \n",
    "\n",
    "ax.plot(ratio2, color=\"blue\")\n",
    "ax.plot(ratio3, color=\"red\")\n",
    "\n",
    "ax.set_title(\"# hourly ratio of the break even point\", fontsize = 20, fontname = \"arial\", color = \"blue\")\n",
    "ax.set_ylabel(\"# percentage\", fontsize = 14, color = \"blue\")\n",
    "ax.set_xlabel(\"Date\", fontsize = 14, color = \"blue\")\n",
    "\n",
    "plt.show()"
   ]
  },
  {
   "cell_type": "markdown",
   "metadata": {},
   "source": [
    "### Subscriber customer ratio"
   ]
  },
  {
   "cell_type": "code",
   "execution_count": null,
   "metadata": {},
   "outputs": [],
   "source": [
    "scr= trip_data[[\"user_type\",\"Date\"]]\n",
    "scrd= pd.get_dummies(scr[\"user_type\"])\n",
    "scr[\"Customer\"]=scrd[\"Customer\"]\n",
    "scr[\"Subscriber\"]=scrd[\"Subscriber\"]\n",
    "scr\n",
    "\n",
    "xscr=scr.groupby([\"Date\"], as_index=False)[\"Customer\"].sum()\n",
    "xscr2=scr.groupby([\"Date\"], as_index=False)[\"Subscriber\"].sum()\n",
    "\n",
    "y=xscr[\"Date\"]\n",
    "x1=xscr[\"Customer\"]\n",
    "x2=xscr2[\"Subscriber\"]"
   ]
  },
  {
   "cell_type": "code",
   "execution_count": null,
   "metadata": {},
   "outputs": [],
   "source": [
    "fig,ax = plt.subplots(figsize=(16,9)) \n",
    "\n",
    "ax.plot(y,x1, label=\"Customer\", color=\"green\")\n",
    "ax.plot(y,x2, label=\"Subscriber\", color=\"blue\")\n",
    "\n",
    "ax.set_title(\"# total number of Customer/Subscriber over the year\", fontsize = 20, fontname = \"arial\", color = \"blue\")\n",
    "ax.set_ylabel(\"# number of rentals\", fontsize = 14, color = \"blue\")\n",
    "ax.set_xlabel(\"Date\", fontsize = 14, color = \"blue\")\n",
    "\n",
    "plt.legend(loc=\"upper left\")\n",
    "\n",
    "plt.show()"
   ]
  },
  {
   "cell_type": "markdown",
   "metadata": {},
   "source": [
    "This Graph shows the total number of rentals booked by a customer or a subscriber over a year. As expected there are much more rentals by subscribers than from customers due to the fact that the bikes are mostly used for the way to work."
   ]
  },
  {
   "cell_type": "code",
   "execution_count": null,
   "metadata": {},
   "outputs": [],
   "source": [
    "a=np.sum(x1)\n",
    "b=np.sum(x2)\n",
    "c=np.sum(trip_data[\"Rented\"])\n",
    "\n",
    "a=a/c\n",
    "b=b/c"
   ]
  },
  {
   "cell_type": "code",
   "execution_count": null,
   "metadata": {},
   "outputs": [],
   "source": [
    "user_type=\"customer\",\"subscriber\"\n",
    "data=[a,b]\n",
    "\n",
    "fig, ax1 =plt.subplots(figsize=(7,7))\n",
    "ax1.pie(data,labels=user_type, autopct=\"%1.1f%%\")\n",
    "\n",
    "plt.show()"
   ]
  },
  {
   "cell_type": "markdown",
   "metadata": {},
   "source": [
    "This Pie chart confirms the assumptions from the last Graph that the majority of bikes is rented by a subscriber."
   ]
  },
  {
   "cell_type": "code",
   "execution_count": null,
   "metadata": {},
   "outputs": [],
   "source": [
    "rdb = trip_data[[\"date_time\",\"bike_id\"]]\n",
    "b = rdb.value_counts()\n",
    "rdb = rdb.set_index([\"date_time\"])"
   ]
  },
  {
   "cell_type": "code",
   "execution_count": null,
   "metadata": {},
   "outputs": [],
   "source": [
    "scr=trip_data[[\"date_time\", \"user_type\",\"Rented\"]]\n",
    "scrd= pd.get_dummies(scr[\"user_type\"])\n",
    "\n",
    "scr[\"Customer\"]=scrd[\"Customer\"]\n",
    "scr[\"Subscriber\"]=scrd[\"Subscriber\"]\n",
    "\n",
    "scr=scr.set_index([\"date_time\"])\n",
    "scr=scr.loc[\"2017-06-01 00:00:00\":\"2017-06-01 23:00:00\"]\n",
    "scr\n",
    "\n",
    "x1=scr.groupby([\"date_time\"], as_index=False)[\"Customer\"].sum()\n",
    "x2=scr.groupby([\"date_time\"], as_index=False)[\"Subscriber\"].sum()\n",
    "x3=scr.groupby([\"date_time\"], as_index=False)[\"Rented\"].sum()\n",
    "\n",
    "x1=x1[\"Customer\"]\n",
    "x2=x2[\"Subscriber\"]\n",
    "x3=x3[\"Rented\"]\n",
    "\n",
    "y1=np.arange(0,24)\n",
    "\n",
    "x1=(x1/x3)*100\n",
    "x2=(x2/x3)*100"
   ]
  },
  {
   "cell_type": "code",
   "execution_count": null,
   "metadata": {},
   "outputs": [],
   "source": [
    "# set width of bar\n",
    "barWidth = 0.25\n",
    "fig = plt.subplots(figsize =(12, 8))\n",
    " \n",
    "# set height of bar\n",
    "#IT  = [12, 30, 1, 8, 22]\n",
    "#ECE = [28, 6, 16, 5, 10]\n",
    "#IT  = [29, 3, 24, 25, 17]\n",
    "\n",
    "br1 = np.arange(len(x1))\n",
    "br2 = [x + barWidth for x in br1]\n",
    "\n",
    " \n",
    "# Make the plot\n",
    "plt.bar(br1, x1, color ='r', width = barWidth,\n",
    "        edgecolor ='grey', label ='Customer')\n",
    "plt.bar(br2, x2, color ='g', width = barWidth,\n",
    "        edgecolor ='grey', label ='Subscriber')\n",
    "\n",
    " \n",
    "# Adding Xticks\n",
    "plt.xlabel('time', fontweight ='bold', fontsize = 15)\n",
    "plt.ylabel('percentage of user_type from a hour', fontweight ='bold', fontsize = 15)\n",
    "plt.xticks([r + barWidth for r in range(len(x1))],y1)\n",
    " \n",
    "plt.legend()\n",
    "plt.show()"
   ]
  },
  {
   "cell_type": "markdown",
   "metadata": {},
   "source": [
    "The bar plot from above shows the percentage of rentals by a customer and a subscriber over an hour over one day. The day selected is the first of june 2017 like in the Graph from the utilization ratio."
   ]
  },
  {
   "cell_type": "markdown",
   "metadata": {},
   "source": [
    "$\\;\\;\\;\\;\\;\\;$\n",
    "# `Task 3) Descriptive Analysis:`"
   ]
  },
  {
   "cell_type": "markdown",
   "metadata": {},
   "source": [
    "## Select input features for the prediction"
   ]
  },
  {
   "cell_type": "code",
   "execution_count": null,
   "metadata": {},
   "outputs": [],
   "source": [
    "inner_merge\n",
    "wr = inner_merge.groupby([\"max_temp\"], as_index=False)[\"Rented\"].sum()"
   ]
  },
  {
   "cell_type": "code",
   "execution_count": null,
   "metadata": {},
   "outputs": [],
   "source": [
    "yp = wr['Rented']\n",
    "xp = wr['max_temp']"
   ]
  },
  {
   "cell_type": "code",
   "execution_count": null,
   "metadata": {},
   "outputs": [],
   "source": [
    "plot_regularized_polyregression(xp,yp,0.1, 15)"
   ]
  },
  {
   "cell_type": "markdown",
   "metadata": {},
   "source": [
    "The first input feature that we selected was the temperature. As the graph depicts the temperature has a huge impact on the demand so the prediction can vary strongly if you do not pay attention to the temperature. As we can see there is peak demand around 20 degree."
   ]
  },
  {
   "cell_type": "code",
   "execution_count": null,
   "metadata": {},
   "outputs": [],
   "source": [
    "left  = trip_data\n",
    "right = weather_data\n",
    "\n",
    "\n",
    "inner_merge3 = pd.merge(left=left, right=right, left_on=\"date_time\", right_on=\"date_time\")\n",
    "\n",
    "\n",
    "station_rentals=inner_merge3.groupby(\"precip\")[\"Rented\"].sum()\n",
    "\n",
    "df3 = pd.DataFrame(station_rentals, columns = ['precip','Rented'])\n",
    "df3.plot.bar(x = 'precip', y = 'Rented',figsize=(30,20),fontsize = 20)\n",
    "bars = ['sun', 'rain/snow']\n",
    "y_pos = np.arange(len(bars))\n",
    "\n",
    "# Create names on the x-axis\n",
    "plt.xticks(y_pos, bars)\n",
    "plt.show"
   ]
  },
  {
   "cell_type": "markdown",
   "metadata": {},
   "source": [
    "The second input feature we selected is the precip from the weather data. As the Graph suggests almost nobody compared to the sunny weather rents a bike if it raining or snowing so we decided to make a dummy variable wheater it is raining or not."
   ]
  },
  {
   "cell_type": "code",
   "execution_count": null,
   "metadata": {},
   "outputs": [],
   "source": [
    "weekday_rentals= trip_data.groupby([\"Weekday\"], as_index=False)[\"Rented\"].sum()\n",
    "weekday_rentals=weekday_rentals.set_index([\"Weekday\"])\n",
    "weekday_rentals\n",
    "y=weekday_rentals[\"Rented\"]\n",
    "y=np.sum(y)\n",
    "y=y/7\n",
    "x1=weekday_rentals.loc[\"5\":\"6\"]\n",
    "x1=x1[\"Rented\"]\n",
    "x1=np.sum(x1)\n",
    "x2=weekday_rentals.loc[\"0\":\"4\"]\n",
    "x2=x2[\"Rented\"]\n",
    "x2=np.sum(x2)\n",
    "x2=(x2/5)/y\n",
    "x1=(x1/2)/y"
   ]
  },
  {
   "cell_type": "code",
   "execution_count": null,
   "metadata": {},
   "outputs": [],
   "source": [
    "weekday=\"weekend\",\"weekday\"\n",
    "data=[x1,x2]\n",
    "\n",
    "fig, ax1 =plt.subplots(figsize=(8,8))\n",
    "ax1.pie(data,labels=weekday, autopct=\"%1.1f%%\")\n",
    "\n",
    "plt.show()"
   ]
  },
  {
   "cell_type": "markdown",
   "metadata": {},
   "source": [
    "Due to the fact most people work during the week and not at the weekend there a more rentals during the weekdays than during the weekend. As the Graph shows there are approximatly 50% more rentals in one weekday than in one day at the weekend. Therefore we decided to make a dummy varible for our prediction wheater it is during the week or at the weekend."
   ]
  },
  {
   "cell_type": "code",
   "execution_count": null,
   "metadata": {},
   "outputs": [],
   "source": [
    "trip_datas = raw_data_boston \n",
    "trip_datas[\"start_time\"] = pd.to_datetime(trip_data[\"start_time\"], format=\"%Y/%m/%d %H:%M:\")\n",
    "trip_datas[\"end_time\"]   = pd.to_datetime(trip_data[\"end_time\"], format=\"%Y/%m/%d %H:%M:\")\n",
    "\n",
    "trip_datas[\"hour\"]     = trip_data[\"start_time\"].dt.hour\n",
    "trip_datas[\"year\"]     = trip_data[\"start_time\"].dt.year\n",
    "trip_datas[\"month\"]    = trip_data[\"start_time\"].dt.month\n",
    "trip_datas[\"day\"]      = trip_data[\"start_time\"].dt.day\n",
    "trip_datas[\"minute\"]= trip_data[\"start_time\"].dt.minute\n",
    "trip_datas[\"seconds\"]  = trip_data[\"start_time\"].dt.second\n",
    "trip_datas[\"duration\"] = trip_data[\"end_time\"] - trip_data[\"start_time\"]\n",
    "\n",
    "df1 = pd.DataFrame({'year':\"2017\",'month':\"1\",\n",
    "                 'day':\"1\",\n",
    "                 'hour':trip_datas[\"hour\"], 'minute':trip_datas[\"minute\"]})\n",
    "df1 = pd.to_datetime(df1, format=\"%Y/%m/%d %H:%M:\")\n",
    "trip_datas[\"x2\"] = df1\n",
    "\n",
    "trip_datas.drop([(\"year\"),(\"month\"),(\"day\"),(\"seconds\"),(\"minute\")], axis = 1, inplace = True)\n",
    "\n",
    "trip_datas[\"Rented\"]=1"
   ]
  },
  {
   "cell_type": "code",
   "execution_count": null,
   "metadata": {},
   "outputs": [],
   "source": [
    "graph_data=trip_datas.groupby([\"x2\"], as_index=False)[\"Rented\"].sum()\n",
    "graph_data\n",
    "y3=graph_data[\"x2\"]\n",
    "x1=graph_data[\"Rented\"]"
   ]
  },
  {
   "cell_type": "code",
   "execution_count": null,
   "metadata": {},
   "outputs": [],
   "source": [
    "plt.figure(figsize = (16,9))\n",
    "plt.scatter(y3,x1, marker=\"x\", color = \"blue\")\n",
    "plt.xlabel(\"hour and minuts\")\n",
    "plt.ylabel(\"rentals\")\n",
    "plt.show()"
   ]
  },
  {
   "cell_type": "markdown",
   "metadata": {},
   "source": [
    "For our last input feature we decided to take a closer look at the relation between daytime and rentals. As we can see the demand starts to increase from 6 am and starts to decrease from 19 pm. Moreover there is peak demand between 6 and 9pm and between 16 and 19pm due to working hours. As a result there are strong fluctuations of the demand during the day so this featrue improves the predictive power."
   ]
  },
  {
   "cell_type": "markdown",
   "metadata": {},
   "source": [
    "#### Details to Task 3 \n",
    "#### TODO Detailed introduction to task 3 here"
   ]
  },
  {
   "cell_type": "code",
   "execution_count": null,
   "metadata": {},
   "outputs": [],
   "source": [
    "left_mergeT2 = left_mergeT.drop_duplicates(subset=[\"date_time\"], keep='first', inplace=False, ignore_index=False)\n",
    "del left_mergeT2['Rented']\n",
    "left_mergeT3 = pd.merge(left_mergeT2,df, on=\"date_time\",how=\"left\")\n",
    "left_mergeT3.set_index(\"date_time\",inplace=True)\n",
    "left_mergeT3.head(10)"
   ]
  },
  {
   "cell_type": "code",
   "execution_count": null,
   "metadata": {},
   "outputs": [],
   "source": [
    "from sklearn import preprocessing\n",
    "from sklearn.preprocessing import scale\n",
    "\n",
    "left_mergeT2 = left_mergeT.drop_duplicates(subset=[\"date_time\"], keep='first', inplace=False, ignore_index=False)\n",
    "del left_mergeT2['Rented']\n",
    "left_mergeT3 = pd.merge(left_mergeT2,df, on=\"date_time\",how=\"left\")\n",
    "del left_mergeT3['date_time']\n",
    "temp   = left_mergeT3['max_temp'].values.reshape(-1,1)\n",
    "scaled = preprocessing.MinMaxScaler()\n",
    "left_mergeT3['max_temp'] = scaled.fit_transform(temp)\n",
    "\n",
    "temp   = left_mergeT3['precip'].values.reshape(-1,1)\n",
    "scaled = preprocessing.MinMaxScaler()\n",
    "left_mergeT3['precip'] = scaled.fit_transform(temp)\n",
    "\n",
    "temp   = left_mergeT3['hour'].values.reshape(-1,1)\n",
    "scaled = preprocessing.MinMaxScaler()\n",
    "left_mergeT3['hour'] = scaled.fit_transform(temp)\n",
    "\n",
    "temp   = left_mergeT3['IsWeekday'].values.reshape(-1,1)\n",
    "scaled = preprocessing.MinMaxScaler()\n",
    "left_mergeT3['IsWeekday'] = scaled.fit_transform(temp)\n",
    "\n",
    "left_mergeT3.head(10)"
   ]
  },
  {
   "cell_type": "code",
   "execution_count": null,
   "metadata": {},
   "outputs": [],
   "source": [
    "X = left_mergeT3[['max_temp','precip','hour','IsWeekday']].values\n",
    "Y = left_mergeT3['Rented'].values\n",
    "X"
   ]
  },
  {
   "cell_type": "code",
   "execution_count": null,
   "metadata": {},
   "outputs": [],
   "source": [
    "b = np.array([Y])\n",
    "Y = b.T\n",
    "Y"
   ]
  },
  {
   "cell_type": "markdown",
   "metadata": {},
   "source": [
    "## Predicting hourly demand with KNN Regression"
   ]
  },
  {
   "cell_type": "code",
   "execution_count": null,
   "metadata": {},
   "outputs": [],
   "source": [
    "from sklearn.neighbors import KNeighborsRegressor\n",
    "# Do a 70-30 split first\n",
    "x_train20, x_test20, y_train20, y_test20 = train_test_split(X, Y, test_size=0.3,random_state=34 )\n",
    "\n",
    "# now split X_train to achive 50-20-30 split\n",
    "x_train20, x_hold20, y_train20, y_hold20 = train_test_split(x_train20, y_train20, test_size=(0.2/0.7),random_state=34 )\n",
    "\n",
    "def find_neighbors (x,y):\n",
    "    \n",
    "    # define list for collecting results\n",
    "    err_train = [] \n",
    "    err_test  = []\n",
    "    \n",
    "    # split data\n",
    "    \n",
    "    #loop over max_depth\n",
    "    \n",
    "    for n in np.arange(1,40): # lets test until 24 for now\n",
    "        \n",
    "        # fit model\n",
    "        \n",
    "        KNN_reg1 = KNeighborsRegressor(n_neighbors=n)\n",
    "        KNN_model = KNN_reg1.fit(x_train20, y_train20) \n",
    "        \n",
    "        # compute errors\n",
    "        \n",
    "        err_train.append(mean_absolute_error(y_train20, KNN_model.predict(x_train20)))\n",
    "        err_test.append(mean_absolute_error(y_hold20, KNN_model.predict(x_hold20)))\n",
    "\n",
    "\n",
    "    plt.figure(figsize = (8,6))\n",
    "    plt.plot(np.arange(1,40), err_train,np.arange(1,40), err_test)\n",
    "    plt.legend([\"Training\", \"Holdout\"])\n",
    "    plt.xlabel(\"Neighbors\")\n",
    "    plt.ylabel(\"MAE\")\n",
    "    plt.title(\"Search over neighbor parameter\",fontsize=14)\n",
    "    #plt.ylim((0,1))\n",
    "    plt.show()"
   ]
  },
  {
   "cell_type": "code",
   "execution_count": null,
   "metadata": {},
   "outputs": [],
   "source": [
    "find_neighbors (X,Y)"
   ]
  },
  {
   "cell_type": "code",
   "execution_count": null,
   "metadata": {},
   "outputs": [],
   "source": [
    "from sklearn.neighbors import KNeighborsRegressor\n",
    "\n",
    "#Fit model\n",
    "KNN_reg   = KNeighborsRegressor(n_neighbors=12)\n",
    "KNN_model = KNN_reg.fit(x_train20, y_train20) \n",
    "\n",
    "# Predict\n",
    "y_hat_KNN = KNN_model.predict(x_test20)\n",
    "\n",
    "print(\"MAE:\",mean_absolute_error(y_hat_KNN, y_test20), \"Bikes\")\n",
    "print(\"RMSE:\",(mean_squared_error(y_hat_KNN, y_test20))**(0.5), \"Bikes\")  \n",
    "print(\"R2:\",r2_score(y_hat_KNN, y_test20))"
   ]
  },
  {
   "cell_type": "markdown",
   "metadata": {},
   "source": [
    "## Predicting hourly demand with polynomial linear regression"
   ]
  },
  {
   "cell_type": "code",
   "execution_count": null,
   "metadata": {},
   "outputs": [],
   "source": [
    "from sklearn.preprocessing import PolynomialFeatures\n",
    "from sklearn.linear_model import LinearRegression\n",
    "\n",
    "def find_degree (x,y):\n",
    "    \n",
    "    # define list for collecting results\n",
    "    err_train = [] \n",
    "    err_test  = []\n",
    "    \n",
    "    # split data\n",
    "    #loop over max_depth\n",
    "    \n",
    "    for n in np.arange(1,13): # lets test until 24 for now\n",
    "        \n",
    "        # fit model\n",
    "        \n",
    "        poly_reg = PolynomialFeatures(degree=n)\n",
    "        X_poly   = poly_reg.fit_transform(x_train20)\n",
    "        lin_reg2 = LinearRegression()\n",
    "        lin_reg2.fit(X_poly,y_train20)\n",
    "        \n",
    "        # compute errors\n",
    "        \n",
    "        err_train.append(mean_absolute_error(y_train20, lin_reg2.predict(poly_reg.fit_transform(x_train20))))\n",
    "        err_test.append(mean_absolute_error(y_hold20, lin_reg2.predict(poly_reg.fit_transform(x_hold20))))\n",
    "\n",
    "    plt.figure(figsize = (8,6))\n",
    "    plt.plot(np.arange(1,13), err_train,np.arange(1,13), err_test)\n",
    "    plt.legend([\"Training\", \"Holdout\"])\n",
    "    plt.xlabel(\"Max degree\")\n",
    "    plt.ylabel(\"MAE\")\n",
    "    plt.title(\"Search over max_degree\",fontsize=14)\n",
    "    #plt.ylim((0,1))\n",
    "    plt.show()"
   ]
  },
  {
   "cell_type": "code",
   "execution_count": null,
   "metadata": {},
   "outputs": [],
   "source": [
    "find_degree(X,Y)"
   ]
  },
  {
   "cell_type": "code",
   "execution_count": null,
   "metadata": {},
   "outputs": [],
   "source": [
    "poly_reg = PolynomialFeatures(degree=9)\n",
    "X_poly   = poly_reg.fit_transform(x_train20)\n",
    "lin_reg2 = LinearRegression()\n",
    "lin_reg2.fit(X_poly,y_train20)\n",
    "pred = lin_reg2.predict(poly_reg.fit_transform(x_test20))\n",
    "\n",
    "print(\"MAE:\",mean_absolute_error(pred, y_test20), \"Bikes\")\n",
    "print(\"RMSE:\",(mean_squared_error(pred, y_test20))**(0.5), \"Bikes\") \n",
    "print(\"R2:\",r2_score(pred, y_test20))"
   ]
  },
  {
   "cell_type": "markdown",
   "metadata": {},
   "source": [
    "## Predicting hourly demand with DecisionTreeRegressor"
   ]
  },
  {
   "cell_type": "code",
   "execution_count": null,
   "metadata": {},
   "outputs": [],
   "source": [
    "from sklearn.tree import DecisionTreeRegressor\n",
    "# Do a 70-30 split first\n",
    "x_train2, x_test2, y_train2, y_test2 = train_test_split(X, Y, test_size=0.3,random_state=34 )\n",
    "\n",
    "# now split X_train to achive 50-20-30 split\n",
    "x_train2, x_hold2, y_train2, y_hold2 = train_test_split(x_train2, y_train2, test_size=(0.2/0.7),random_state=34 )\n",
    "\n",
    "def find_tree_depth (x,y):\n",
    "    \n",
    "    # define list for collecting results\n",
    "    err_train = [] \n",
    "    err_test  = []\n",
    "    \n",
    "    # split data    \n",
    "    #loop over max_depth   \n",
    "    for n in np.arange(1,21): # lets test until 24 for now\n",
    "        \n",
    "        # fit model   \n",
    "        tree_reg = DecisionTreeRegressor(max_depth=n)\n",
    "        tree_model = tree_reg.fit(x_train2,y_train2)\n",
    "        \n",
    "        # compute errors    \n",
    "        err_train.append(mean_absolute_error(y_train2, tree_model.predict(x_train2)))\n",
    "        err_test.append(mean_absolute_error(y_hold2, tree_model.predict(x_hold2)))\n",
    "\n",
    "    plt.figure(figsize = (8,6))\n",
    "    plt.plot(np.arange(1,21), err_train,np.arange(1,21), err_test)\n",
    "    plt.legend([\"Training\", \"Holdout\"])\n",
    "    plt.xlabel(\"Max Tree Depth\")\n",
    "    plt.ylabel(\"MAE\")\n",
    "    plt.title(\"Search over max_depth parameter\",fontsize=14)\n",
    "    plt.show()"
   ]
  },
  {
   "cell_type": "code",
   "execution_count": null,
   "metadata": {},
   "outputs": [],
   "source": [
    "find_tree_depth (X,Y)"
   ]
  },
  {
   "cell_type": "code",
   "execution_count": null,
   "metadata": {},
   "outputs": [],
   "source": [
    "# Fit regression model\n",
    "Tree_reg   = DecisionTreeRegressor(max_depth=9)\n",
    "tree_model = Tree_reg.fit(x_train2, y_train2) \n",
    "\n",
    "# Predict\n",
    "y_hat_tree = tree_model.predict(x_test2)\n",
    "\n",
    "print(\"MAE:\",mean_absolute_error(y_hat_tree, y_test2), \"Bikes\")\n",
    "print(\"RMSE:\",(mean_squared_error(y_hat_tree, y_test2))**(0.5), \"Bikes\")  \n",
    "print(\"R2:\",r2_score(y_hat_tree, y_test2))"
   ]
  },
  {
   "cell_type": "markdown",
   "metadata": {},
   "source": [
    "#### Interpretation of the achieved error"
   ]
  },
  {
   "cell_type": "markdown",
   "metadata": {},
   "source": [
    "MAE: Mean absolut error, which describes the average fluctuation per prediction for a single value (hour) and the true realizations. For example if we predict 400 rentals for the next hour the true realization lays probably between 350 and 450.\n",
    "\n",
    "RMSE: Root Mean Square error, which is similar to the MAE but not as commonly used as the MAE.\n",
    "\n",
    "R2: Value that descirbes how much of the variance is described through the model."
   ]
  }
 ],
 "metadata": {
  "kernelspec": {
   "display_name": "Python 3",
   "language": "python",
   "name": "python3"
  },
  "language_info": {
   "codemirror_mode": {
    "name": "ipython",
    "version": 3
   },
   "file_extension": ".py",
   "mimetype": "text/x-python",
   "name": "python",
   "nbconvert_exporter": "python",
   "pygments_lexer": "ipython3",
   "version": "3.8.5"
  }
 },
 "nbformat": 4,
 "nbformat_minor": 4
}
