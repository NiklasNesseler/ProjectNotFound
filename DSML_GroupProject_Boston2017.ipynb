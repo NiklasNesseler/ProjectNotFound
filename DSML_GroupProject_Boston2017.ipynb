{
 "cells": [
  {
   "cell_type": "markdown",
   "metadata": {},
   "source": [
    "# `Group Project` - Boston 2017 Bike Sharing Analysis"
   ]
  },
  {
   "cell_type": "markdown",
   "metadata": {},
   "source": [
    "## Introduction\n",
    "In this project we will work with real world data from \"Blue Bikes\" which is a bike sharing firm based in Boston.\n",
    "\n",
    "Our focus lies on data of the year 2017 and we will make a comprehensive analysis, in which we use typical data analysis and machine learning approaches to make use of the data to monitize and optimize the operations of \"Blue Bikes\". The overall topic is smart mobility systems and how we can use data in impactful ways to address pressing societal issues. In terms of bike sharing the addressed societal issue are the reduce of greenhouse gas emissions, reduce of pollution as health risk for urban population, reduce of (fatal) road accidents and to create a more efficient road transport infrastructur. We will cover the following task:\n",
    "\n",
    "- **Task 1) Data Collection & Preparation**: \n",
    "    * Cleaning of datasets for use in later analysis stages\n",
    "- **Task 2) Descriptive Analysis**: \n",
    "    * Demonstrate temporal demand patterns and seasonality\n",
    "    * Demonstrate geographical demand patterns \n",
    "    * Define Key Performance Indicators which provides overview of current fleet operations\n",
    "- **Task 3) Predictive Analysis**:\n",
    "    * Forecast total system-level demand in the next hour\n",
    "\n",
    "**The authors of this analysis are:**\n",
    "* Robin Kirch      (7364580)\n",
    "* Niklas Nesseler  (7367375)\n",
    "* Lukas Tempfli    (7367097)\n",
    "* Pascal Zajonz    (7369974)\n",
    "* Sven Dornbrach   (7364484)\n",
    "* Moritz Danhausen (7369413)\n",
    "\n",
    "\n",
    "Hint: Please run the seperated cells from the top to the bottom"
   ]
  },
  {
   "cell_type": "markdown",
   "metadata": {},
   "source": [
    "### Required Imports"
   ]
  },
  {
   "cell_type": "code",
   "execution_count": 5,
   "metadata": {},
   "outputs": [],
   "source": [
    "import numpy as np\n",
    "import pandas as pd\n",
    "#import etc"
   ]
  },
  {
   "cell_type": "markdown",
   "metadata": {},
   "source": [
    "\n",
    "# `Task 1) Data Collection & Preparation:`"
   ]
  },
  {
   "cell_type": "markdown",
   "metadata": {},
   "source": [
    "### Details to Task 1\n",
    "#TODO\n",
    "Detailed introduction to task 1 here"
   ]
  },
  {
   "cell_type": "code",
   "execution_count": 32,
   "metadata": {},
   "outputs": [],
   "source": [
    "raw_data_boston = pd.read_csv(\"boston_2017.csv\", sep=\",\", index_col=\"start_time\")\n",
    "#Problematisch bei gleicher Startzeit und ggbf. kompletten Dateipfad angeben notwendig"
   ]
  },
  {
   "cell_type": "code",
   "execution_count": 8,
   "metadata": {},
   "outputs": [
    {
     "data": {
      "text/html": [
       "<div>\n",
       "<style scoped>\n",
       "    .dataframe tbody tr th:only-of-type {\n",
       "        vertical-align: middle;\n",
       "    }\n",
       "\n",
       "    .dataframe tbody tr th {\n",
       "        vertical-align: top;\n",
       "    }\n",
       "\n",
       "    .dataframe thead th {\n",
       "        text-align: right;\n",
       "    }\n",
       "</style>\n",
       "<table border=\"1\" class=\"dataframe\">\n",
       "  <thead>\n",
       "    <tr style=\"text-align: right;\">\n",
       "      <th></th>\n",
       "      <th>end_time</th>\n",
       "      <th>start_station_id</th>\n",
       "      <th>end_station_id</th>\n",
       "      <th>start_station_name</th>\n",
       "      <th>end_station_name</th>\n",
       "      <th>bike_id</th>\n",
       "      <th>user_type</th>\n",
       "    </tr>\n",
       "    <tr>\n",
       "      <th>start_time</th>\n",
       "      <th></th>\n",
       "      <th></th>\n",
       "      <th></th>\n",
       "      <th></th>\n",
       "      <th></th>\n",
       "      <th></th>\n",
       "      <th></th>\n",
       "    </tr>\n",
       "  </thead>\n",
       "  <tbody>\n",
       "    <tr>\n",
       "      <th>2017-01-01 00:06:58</th>\n",
       "      <td>2017-01-01 00:12:49</td>\n",
       "      <td>67</td>\n",
       "      <td>139</td>\n",
       "      <td>MIT at Mass Ave / Amherst St</td>\n",
       "      <td>Dana Park</td>\n",
       "      <td>644</td>\n",
       "      <td>Subscriber</td>\n",
       "    </tr>\n",
       "    <tr>\n",
       "      <th>2017-01-01 00:13:16</th>\n",
       "      <td>2017-01-01 00:28:07</td>\n",
       "      <td>36</td>\n",
       "      <td>10</td>\n",
       "      <td>Boston Public Library - 700 Boylston St.</td>\n",
       "      <td>B.U. Central - 725 Comm. Ave.</td>\n",
       "      <td>230</td>\n",
       "      <td>Subscriber</td>\n",
       "    </tr>\n",
       "    <tr>\n",
       "      <th>2017-01-01 00:16:17</th>\n",
       "      <td>2017-01-01 00:44:10</td>\n",
       "      <td>36</td>\n",
       "      <td>9</td>\n",
       "      <td>Boston Public Library - 700 Boylston St.</td>\n",
       "      <td>Agganis Arena - 925 Comm Ave.</td>\n",
       "      <td>980</td>\n",
       "      <td>Customer</td>\n",
       "    </tr>\n",
       "    <tr>\n",
       "      <th>2017-01-01 00:21:22</th>\n",
       "      <td>2017-01-01 00:33:50</td>\n",
       "      <td>46</td>\n",
       "      <td>19</td>\n",
       "      <td>Christian Science Plaza</td>\n",
       "      <td>Buswell St. at Park Dr.</td>\n",
       "      <td>1834</td>\n",
       "      <td>Subscriber</td>\n",
       "    </tr>\n",
       "    <tr>\n",
       "      <th>2017-01-01 00:30:06</th>\n",
       "      <td>2017-01-01 00:40:28</td>\n",
       "      <td>10</td>\n",
       "      <td>8</td>\n",
       "      <td>B.U. Central - 725 Comm. Ave.</td>\n",
       "      <td>Union Square - Brighton Ave. at Cambridge St.</td>\n",
       "      <td>230</td>\n",
       "      <td>Subscriber</td>\n",
       "    </tr>\n",
       "    <tr>\n",
       "      <th>...</th>\n",
       "      <td>...</td>\n",
       "      <td>...</td>\n",
       "      <td>...</td>\n",
       "      <td>...</td>\n",
       "      <td>...</td>\n",
       "      <td>...</td>\n",
       "      <td>...</td>\n",
       "    </tr>\n",
       "    <tr>\n",
       "      <th>2017-12-31 23:46:18</th>\n",
       "      <td>2017-12-31 23:50:27</td>\n",
       "      <td>117</td>\n",
       "      <td>141</td>\n",
       "      <td>Binney St / Sixth St</td>\n",
       "      <td>Kendall Street</td>\n",
       "      <td>1846</td>\n",
       "      <td>Subscriber</td>\n",
       "    </tr>\n",
       "    <tr>\n",
       "      <th>2017-12-29 16:11:56</th>\n",
       "      <td>2017-12-29 16:16:18</td>\n",
       "      <td>54</td>\n",
       "      <td>42</td>\n",
       "      <td>Tremont St at West St</td>\n",
       "      <td>Boylston St at Arlington St TEMPORARY WINTER L...</td>\n",
       "      <td>2</td>\n",
       "      <td>Subscriber</td>\n",
       "    </tr>\n",
       "    <tr>\n",
       "      <th>2017-12-30 08:09:44</th>\n",
       "      <td>2017-12-30 08:26:08</td>\n",
       "      <td>54</td>\n",
       "      <td>58</td>\n",
       "      <td>Tremont St at West St</td>\n",
       "      <td>Beacon St at Arlington St</td>\n",
       "      <td>1534</td>\n",
       "      <td>Subscriber</td>\n",
       "    </tr>\n",
       "    <tr>\n",
       "      <th>2017-12-30 12:20:01</th>\n",
       "      <td>2017-12-30 12:49:12</td>\n",
       "      <td>54</td>\n",
       "      <td>46</td>\n",
       "      <td>Tremont St at West St</td>\n",
       "      <td>Christian Science Plaza - Massachusetts Ave at...</td>\n",
       "      <td>1978</td>\n",
       "      <td>Subscriber</td>\n",
       "    </tr>\n",
       "    <tr>\n",
       "      <th>2017-12-30 18:27:39</th>\n",
       "      <td>2017-12-30 18:53:54</td>\n",
       "      <td>54</td>\n",
       "      <td>21</td>\n",
       "      <td>Tremont St at West St</td>\n",
       "      <td>Prudential Center - Belvedere St</td>\n",
       "      <td>15</td>\n",
       "      <td>Subscriber</td>\n",
       "    </tr>\n",
       "  </tbody>\n",
       "</table>\n",
       "<p>1313774 rows × 7 columns</p>\n",
       "</div>"
      ],
      "text/plain": [
       "                                end_time  start_station_id  end_station_id  \\\n",
       "start_time                                                                   \n",
       "2017-01-01 00:06:58  2017-01-01 00:12:49                67             139   \n",
       "2017-01-01 00:13:16  2017-01-01 00:28:07                36              10   \n",
       "2017-01-01 00:16:17  2017-01-01 00:44:10                36               9   \n",
       "2017-01-01 00:21:22  2017-01-01 00:33:50                46              19   \n",
       "2017-01-01 00:30:06  2017-01-01 00:40:28                10               8   \n",
       "...                                  ...               ...             ...   \n",
       "2017-12-31 23:46:18  2017-12-31 23:50:27               117             141   \n",
       "2017-12-29 16:11:56  2017-12-29 16:16:18                54              42   \n",
       "2017-12-30 08:09:44  2017-12-30 08:26:08                54              58   \n",
       "2017-12-30 12:20:01  2017-12-30 12:49:12                54              46   \n",
       "2017-12-30 18:27:39  2017-12-30 18:53:54                54              21   \n",
       "\n",
       "                                           start_station_name  \\\n",
       "start_time                                                      \n",
       "2017-01-01 00:06:58              MIT at Mass Ave / Amherst St   \n",
       "2017-01-01 00:13:16  Boston Public Library - 700 Boylston St.   \n",
       "2017-01-01 00:16:17  Boston Public Library - 700 Boylston St.   \n",
       "2017-01-01 00:21:22                   Christian Science Plaza   \n",
       "2017-01-01 00:30:06             B.U. Central - 725 Comm. Ave.   \n",
       "...                                                       ...   \n",
       "2017-12-31 23:46:18                      Binney St / Sixth St   \n",
       "2017-12-29 16:11:56                     Tremont St at West St   \n",
       "2017-12-30 08:09:44                     Tremont St at West St   \n",
       "2017-12-30 12:20:01                     Tremont St at West St   \n",
       "2017-12-30 18:27:39                     Tremont St at West St   \n",
       "\n",
       "                                                      end_station_name  \\\n",
       "start_time                                                               \n",
       "2017-01-01 00:06:58                                          Dana Park   \n",
       "2017-01-01 00:13:16                      B.U. Central - 725 Comm. Ave.   \n",
       "2017-01-01 00:16:17                      Agganis Arena - 925 Comm Ave.   \n",
       "2017-01-01 00:21:22                            Buswell St. at Park Dr.   \n",
       "2017-01-01 00:30:06      Union Square - Brighton Ave. at Cambridge St.   \n",
       "...                                                                ...   \n",
       "2017-12-31 23:46:18                                     Kendall Street   \n",
       "2017-12-29 16:11:56  Boylston St at Arlington St TEMPORARY WINTER L...   \n",
       "2017-12-30 08:09:44                          Beacon St at Arlington St   \n",
       "2017-12-30 12:20:01  Christian Science Plaza - Massachusetts Ave at...   \n",
       "2017-12-30 18:27:39                   Prudential Center - Belvedere St   \n",
       "\n",
       "                     bike_id   user_type  \n",
       "start_time                                \n",
       "2017-01-01 00:06:58      644  Subscriber  \n",
       "2017-01-01 00:13:16      230  Subscriber  \n",
       "2017-01-01 00:16:17      980    Customer  \n",
       "2017-01-01 00:21:22     1834  Subscriber  \n",
       "2017-01-01 00:30:06      230  Subscriber  \n",
       "...                      ...         ...  \n",
       "2017-12-31 23:46:18     1846  Subscriber  \n",
       "2017-12-29 16:11:56        2  Subscriber  \n",
       "2017-12-30 08:09:44     1534  Subscriber  \n",
       "2017-12-30 12:20:01     1978  Subscriber  \n",
       "2017-12-30 18:27:39       15  Subscriber  \n",
       "\n",
       "[1313774 rows x 7 columns]"
      ]
     },
     "execution_count": 8,
     "metadata": {},
     "output_type": "execute_result"
    }
   ],
   "source": [
    "raw_data_boston"
   ]
  },
  {
   "cell_type": "code",
   "execution_count": 12,
   "metadata": {},
   "outputs": [
    {
     "name": "stdout",
     "output_type": "stream",
     "text": [
      "<class 'pandas.core.frame.DataFrame'>\n",
      "Index: 1313774 entries, 2017-01-01 00:06:58 to 2017-12-30 18:27:39\n",
      "Data columns (total 7 columns):\n",
      " #   Column              Non-Null Count    Dtype \n",
      "---  ------              --------------    ----- \n",
      " 0   end_time            1313774 non-null  object\n",
      " 1   start_station_id    1313774 non-null  int64 \n",
      " 2   end_station_id      1313774 non-null  int64 \n",
      " 3   start_station_name  1313774 non-null  object\n",
      " 4   end_station_name    1313774 non-null  object\n",
      " 5   bike_id             1313774 non-null  int64 \n",
      " 6   user_type           1313774 non-null  object\n",
      "dtypes: int64(3), object(4)\n",
      "memory usage: 80.2+ MB\n"
     ]
    }
   ],
   "source": [
    "raw_data_boston.info()"
   ]
  },
  {
   "cell_type": "code",
   "execution_count": 27,
   "metadata": {
    "scrolled": true
   },
   "outputs": [
    {
     "data": {
      "text/html": [
       "<div>\n",
       "<style scoped>\n",
       "    .dataframe tbody tr th:only-of-type {\n",
       "        vertical-align: middle;\n",
       "    }\n",
       "\n",
       "    .dataframe tbody tr th {\n",
       "        vertical-align: top;\n",
       "    }\n",
       "\n",
       "    .dataframe thead th {\n",
       "        text-align: right;\n",
       "    }\n",
       "</style>\n",
       "<table border=\"1\" class=\"dataframe\">\n",
       "  <thead>\n",
       "    <tr style=\"text-align: right;\">\n",
       "      <th></th>\n",
       "      <th>start_station_id</th>\n",
       "      <th>end_station_id</th>\n",
       "      <th>bike_id</th>\n",
       "    </tr>\n",
       "  </thead>\n",
       "  <tbody>\n",
       "    <tr>\n",
       "      <th>count</th>\n",
       "      <td>1.313774e+06</td>\n",
       "      <td>1.313774e+06</td>\n",
       "      <td>1.313774e+06</td>\n",
       "    </tr>\n",
       "    <tr>\n",
       "      <th>mean</th>\n",
       "      <td>8.571053e+01</td>\n",
       "      <td>8.554360e+01</td>\n",
       "      <td>9.931371e+02</td>\n",
       "    </tr>\n",
       "    <tr>\n",
       "      <th>std</th>\n",
       "      <td>5.634766e+01</td>\n",
       "      <td>5.648317e+01</td>\n",
       "      <td>5.701397e+02</td>\n",
       "    </tr>\n",
       "    <tr>\n",
       "      <th>min</th>\n",
       "      <td>1.000000e+00</td>\n",
       "      <td>1.000000e+00</td>\n",
       "      <td>1.000000e+00</td>\n",
       "    </tr>\n",
       "    <tr>\n",
       "      <th>25%</th>\n",
       "      <td>4.300000e+01</td>\n",
       "      <td>4.300000e+01</td>\n",
       "      <td>5.160000e+02</td>\n",
       "    </tr>\n",
       "    <tr>\n",
       "      <th>50%</th>\n",
       "      <td>7.400000e+01</td>\n",
       "      <td>7.400000e+01</td>\n",
       "      <td>9.780000e+02</td>\n",
       "    </tr>\n",
       "    <tr>\n",
       "      <th>75%</th>\n",
       "      <td>1.170000e+02</td>\n",
       "      <td>1.170000e+02</td>\n",
       "      <td>1.512000e+03</td>\n",
       "    </tr>\n",
       "    <tr>\n",
       "      <th>max</th>\n",
       "      <td>2.320000e+02</td>\n",
       "      <td>2.320000e+02</td>\n",
       "      <td>1.981000e+03</td>\n",
       "    </tr>\n",
       "  </tbody>\n",
       "</table>\n",
       "</div>"
      ],
      "text/plain": [
       "       start_station_id  end_station_id       bike_id\n",
       "count      1.313774e+06    1.313774e+06  1.313774e+06\n",
       "mean       8.571053e+01    8.554360e+01  9.931371e+02\n",
       "std        5.634766e+01    5.648317e+01  5.701397e+02\n",
       "min        1.000000e+00    1.000000e+00  1.000000e+00\n",
       "25%        4.300000e+01    4.300000e+01  5.160000e+02\n",
       "50%        7.400000e+01    7.400000e+01  9.780000e+02\n",
       "75%        1.170000e+02    1.170000e+02  1.512000e+03\n",
       "max        2.320000e+02    2.320000e+02  1.981000e+03"
      ]
     },
     "execution_count": 27,
     "metadata": {},
     "output_type": "execute_result"
    }
   ],
   "source": [
    "raw_data_boston.describe()"
   ]
  },
  {
   "cell_type": "code",
   "execution_count": 28,
   "metadata": {},
   "outputs": [
    {
     "data": {
      "text/plain": [
       "Index(['start_time', 'start_station_id', 'end_station_id',\n",
       "       'start_station_name', 'end_station_name', 'bike_id', 'user_type'],\n",
       "      dtype='object')"
      ]
     },
     "execution_count": 28,
     "metadata": {},
     "output_type": "execute_result"
    }
   ],
   "source": [
    "raw_data_boston.columns"
   ]
  },
  {
   "cell_type": "code",
   "execution_count": 33,
   "metadata": {},
   "outputs": [
    {
     "data": {
      "text/plain": [
       "count                 1313774\n",
       "unique                1245112\n",
       "top       2017-08-15 17:37:49\n",
       "freq                        6\n",
       "Name: end_time, dtype: object"
      ]
     },
     "execution_count": 33,
     "metadata": {},
     "output_type": "execute_result"
    }
   ],
   "source": [
    "raw_data_boston[\"end_time\"].describe()\n",
    "#start_time nicht zugreifbar"
   ]
  },
  {
   "cell_type": "code",
   "execution_count": 18,
   "metadata": {},
   "outputs": [
    {
     "data": {
      "text/plain": [
       "count    1.313774e+06\n",
       "mean     8.571053e+01\n",
       "std      5.634766e+01\n",
       "min      1.000000e+00\n",
       "25%      4.300000e+01\n",
       "50%      7.400000e+01\n",
       "75%      1.170000e+02\n",
       "max      2.320000e+02\n",
       "Name: start_station_id, dtype: float64"
      ]
     },
     "execution_count": 18,
     "metadata": {},
     "output_type": "execute_result"
    }
   ],
   "source": [
    "raw_data_boston[\"start_station_id\"].describe()"
   ]
  },
  {
   "cell_type": "code",
   "execution_count": 19,
   "metadata": {},
   "outputs": [
    {
     "data": {
      "text/plain": [
       "count    1.313774e+06\n",
       "mean     8.554360e+01\n",
       "std      5.648317e+01\n",
       "min      1.000000e+00\n",
       "25%      4.300000e+01\n",
       "50%      7.400000e+01\n",
       "75%      1.170000e+02\n",
       "max      2.320000e+02\n",
       "Name: end_station_id, dtype: float64"
      ]
     },
     "execution_count": 19,
     "metadata": {},
     "output_type": "execute_result"
    }
   ],
   "source": [
    "raw_data_boston[\"end_station_id\"].describe()"
   ]
  },
  {
   "cell_type": "code",
   "execution_count": 20,
   "metadata": {},
   "outputs": [
    {
     "data": {
      "text/plain": [
       "count                          1313774\n",
       "unique                             285\n",
       "top       MIT at Mass Ave / Amherst St\n",
       "freq                             42320\n",
       "Name: start_station_name, dtype: object"
      ]
     },
     "execution_count": 20,
     "metadata": {},
     "output_type": "execute_result"
    }
   ],
   "source": [
    "raw_data_boston[\"start_station_name\"].describe()"
   ]
  },
  {
   "cell_type": "code",
   "execution_count": 21,
   "metadata": {},
   "outputs": [
    {
     "data": {
      "text/plain": [
       "count                          1313774\n",
       "unique                             283\n",
       "top       MIT at Mass Ave / Amherst St\n",
       "freq                             42442\n",
       "Name: end_station_name, dtype: object"
      ]
     },
     "execution_count": 21,
     "metadata": {},
     "output_type": "execute_result"
    }
   ],
   "source": [
    "raw_data_boston[\"end_station_name\"].describe()"
   ]
  },
  {
   "cell_type": "code",
   "execution_count": 22,
   "metadata": {},
   "outputs": [
    {
     "data": {
      "text/plain": [
       "count    1.313774e+06\n",
       "mean     9.931371e+02\n",
       "std      5.701397e+02\n",
       "min      1.000000e+00\n",
       "25%      5.160000e+02\n",
       "50%      9.780000e+02\n",
       "75%      1.512000e+03\n",
       "max      1.981000e+03\n",
       "Name: bike_id, dtype: float64"
      ]
     },
     "execution_count": 22,
     "metadata": {},
     "output_type": "execute_result"
    }
   ],
   "source": [
    "raw_data_boston[\"bike_id\"].describe()"
   ]
  },
  {
   "cell_type": "code",
   "execution_count": 23,
   "metadata": {},
   "outputs": [
    {
     "data": {
      "text/plain": [
       "count        1313774\n",
       "unique             2\n",
       "top       Subscriber\n",
       "freq         1104738\n",
       "Name: user_type, dtype: object"
      ]
     },
     "execution_count": 23,
     "metadata": {},
     "output_type": "execute_result"
    }
   ],
   "source": [
    "raw_data_boston[\"user_type\"].describe()"
   ]
  },
  {
   "cell_type": "code",
   "execution_count": 30,
   "metadata": {},
   "outputs": [
    {
     "data": {
      "text/plain": [
       "start_time            1313774\n",
       "start_station_id      1313774\n",
       "end_station_id        1313774\n",
       "start_station_name    1313774\n",
       "end_station_name      1313774\n",
       "bike_id               1313774\n",
       "user_type             1313774\n",
       "dtype: int64"
      ]
     },
     "execution_count": 30,
     "metadata": {},
     "output_type": "execute_result"
    }
   ],
   "source": [
    "raw_data_boston.count()"
   ]
  },
  {
   "cell_type": "markdown",
   "metadata": {},
   "source": [
    "# `Task 2) Descriptive Analysis:`"
   ]
  },
  {
   "cell_type": "markdown",
   "metadata": {},
   "source": [
    "### Details to Task 2\n",
    "#TODO\n",
    "Detailed introduction to task 2 here"
   ]
  },
  {
   "cell_type": "markdown",
   "metadata": {},
   "source": [
    "# `Task 3) Descriptive Analysis:`"
   ]
  },
  {
   "cell_type": "markdown",
   "metadata": {},
   "source": [
    "### Details to Task 3\n",
    "#TODO\n",
    "Detailed introduction to task 3 here"
   ]
  }
 ],
 "metadata": {
  "kernelspec": {
   "display_name": "Python 3",
   "language": "python",
   "name": "python3"
  },
  "language_info": {
   "codemirror_mode": {
    "name": "ipython",
    "version": 3
   },
   "file_extension": ".py",
   "mimetype": "text/x-python",
   "name": "python",
   "nbconvert_exporter": "python",
   "pygments_lexer": "ipython3",
   "version": "3.8.5"
  }
 },
 "nbformat": 4,
 "nbformat_minor": 4
}
